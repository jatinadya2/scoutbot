{
 "cells": [
  {
   "cell_type": "code",
   "execution_count": 1,
   "id": "24c38e69",
   "metadata": {},
   "outputs": [],
   "source": [
    "# 📋 Cell 0 – Prereqs & env-vars\n",
    "# - Install deps:  pip install pandas numpy pinecone-client langchain-openai langchain\n",
    "# - Export keys **before** running:\n",
    "#     export OPENAI_API_KEY=\"sk-…\"\n",
    "#     export PINECONE_API_KEY=\"pc-…\"\n",
    "#     export PINECONE_CLOUD=\"aws\"        # or \"gcp\"\n",
    "#     export PINECONE_REGION=\"us-east-1\" # e.g. us-east-1, us-east1"
   ]
  },
  {
   "cell_type": "code",
   "execution_count": 2,
   "id": "91d3631b",
   "metadata": {},
   "outputs": [],
   "source": [
    "# %% Cell 1 – Imports & config constants\n",
    "import os, time, math, numpy as np, pandas as pd\n",
    "from langchain.schema import Document\n",
    "from langchain.text_splitter import RecursiveCharacterTextSplitter\n",
    "from langchain_openai import OpenAIEmbeddings, ChatOpenAI\n",
    "from pinecone import Pinecone, ServerlessSpec\n",
    "\n",
    "CSV_PATH   = \"twtc.csv\"\n",
    "INDEX_NAME = \"scout-reports-index\"\n",
    "BATCH_SIZE = 100                               # vectors per upsert\n",
    "CLOUD      = os.getenv(\"PINECONE_CLOUD\",  \"aws\")\n",
    "REGION     = os.getenv(\"PINECONE_REGION\", \"us-east-1\")\n",
    "API_KEY    = os.getenv(\"PINECONE_API_KEY\")\n"
   ]
  },
  {
   "cell_type": "code",
   "execution_count": 3,
   "id": "0a5cf467",
   "metadata": {},
   "outputs": [
    {
     "name": "stdout",
     "output_type": "stream",
     "text": [
      "Rows, columns: (9175, 26)\n"
     ]
    }
   ],
   "source": [
    "# %% Cell 2 – Load dataset & show shape\n",
    "df = pd.read_csv(CSV_PATH)\n",
    "print(\"Rows, columns:\", df.shape)\n"
   ]
  },
  {
   "cell_type": "code",
   "execution_count": 4,
   "id": "d7e8d792",
   "metadata": {},
   "outputs": [
    {
     "name": "stdout",
     "output_type": "stream",
     "text": [
      "Built 9175 documents\n"
     ]
    }
   ],
   "source": [
    "# %% Cell 3 – Row → langchain Document (narrative + grades)\n",
    "def make_doc(row) -> Document:\n",
    "    base = row[\"report\"] if pd.notna(row[\"report\"]) else row[\"text\"]\n",
    "    graded = [f\"{col} {int(row[col])}\" for col in\n",
    "              (\"Fastball\",\"Slider\",\"Curveball\",\"Changeup\",\"Control\",\n",
    "               \"Power\",\"Run\",\"Field\",\"Hit\",\"Arm\") if row[col] > 0]\n",
    "    text = \" | \".join([\n",
    "        f\"SCOUTING REPORT: {row['name']} — {row['primary_position']} ({int(row['year'])})\",\n",
    "        base,\n",
    "        \" \".join(graded),\n",
    "    ])\n",
    "    meta = {\n",
    "        \"name\":   row[\"name\"],\n",
    "        \"pos\":    row[\"primary_position\"],\n",
    "        \"year\":   int(row[\"year\"]),\n",
    "        \"eta\":    int(row[\"eta\"]),\n",
    "        \"source\": row[\"source\"],\n",
    "        \"text\":   text,      # store full blob for retrieval display\n",
    "    }\n",
    "    return Document(page_content=text, metadata=meta)\n",
    "\n",
    "docs = [make_doc(r) for _, r in df.iterrows()]\n",
    "print(f\"Built {len(docs)} documents\")\n"
   ]
  },
  {
   "cell_type": "code",
   "execution_count": 5,
   "id": "5bff7ef4",
   "metadata": {},
   "outputs": [
    {
     "name": "stdout",
     "output_type": "stream",
     "text": [
      "After splitting: 9316 chunks\n"
     ]
    }
   ],
   "source": [
    "# %% Cell 4 – Split only long blobs (>1 600 chars ≈ 400 tokens)\n",
    "splitter   = RecursiveCharacterTextSplitter.from_tiktoken_encoder(\n",
    "    chunk_size=400, chunk_overlap=50\n",
    ")\n",
    "THRESHOLD  = 1600\n",
    "\n",
    "docs_final = []\n",
    "for d in docs:\n",
    "    docs_final.extend(splitter.split_documents([d])) \\\n",
    "        if len(d.page_content) > THRESHOLD else docs_final.append(d)\n",
    "\n",
    "print(f\"After splitting: {len(docs_final)} chunks\")\n"
   ]
  },
  {
   "cell_type": "code",
   "execution_count": 6,
   "id": "63f9a2e7",
   "metadata": {},
   "outputs": [
    {
     "name": "stdout",
     "output_type": "stream",
     "text": [
      "Max chars: 1957 | Median tokens ≈ 280\n"
     ]
    }
   ],
   "source": [
    "# %% Cell 5 – Stats check on chunk lengths\n",
    "lengths = np.array([len(d.page_content) for d in docs_final])\n",
    "print(\"Max chars:\", lengths.max(), \"| Median tokens ≈\", int(np.median(lengths)/4))\n"
   ]
  },
  {
   "cell_type": "code",
   "execution_count": 7,
   "id": "c9824f64",
   "metadata": {},
   "outputs": [
    {
     "name": "stderr",
     "output_type": "stream",
     "text": [
      "/Users/jatinbomrasipeta/Desktop/scoutbot/scoutbot/venv/lib/python3.13/site-packages/tqdm/auto.py:21: TqdmWarning: IProgress not found. Please update jupyter and ipywidgets. See https://ipywidgets.readthedocs.io/en/stable/user_install.html\n",
      "  from .autonotebook import tqdm as notebook_tqdm\n"
     ]
    }
   ],
   "source": [
    "# %% Cell 6 – Init OpenAI embeddings (3-large) & Pinecone index (dim 3 072)\n",
    "embeddings = OpenAIEmbeddings(model=\"text-embedding-3-large\")\n",
    "EMBED_DIM  = len(embeddings.embed_query(\"test\"))      # 3 072 for 3-large\n",
    "\n",
    "pc = Pinecone(api_key=API_KEY)\n",
    "if INDEX_NAME in pc.list_indexes().names():\n",
    "    idx_dim = pc.describe_index(INDEX_NAME)[\"dimension\"]\n",
    "    if idx_dim != EMBED_DIM:\n",
    "        print(f\"Deleting old index (dim {idx_dim}) to match model dim {EMBED_DIM}…\")\n",
    "        pc.delete_index(INDEX_NAME)\n",
    "if INDEX_NAME not in pc.list_indexes().names():\n",
    "    pc.create_index(\n",
    "        name      = INDEX_NAME,\n",
    "        dimension = EMBED_DIM,\n",
    "        metric    = \"cosine\",\n",
    "        spec      = ServerlessSpec(cloud=CLOUD, region=REGION),\n",
    "    )\n",
    "    print(f\"Created index {INDEX_NAME} with dim {EMBED_DIM}\")\n",
    "index = pc.Index(INDEX_NAME)\n"
   ]
  },
  {
   "cell_type": "code",
   "execution_count": 8,
   "id": "ac768b55",
   "metadata": {},
   "outputs": [
    {
     "name": "stdout",
     "output_type": "stream",
     "text": [
      "Upserted 100 vectors…\n",
      "Upserted 1100 vectors…\n",
      "Upserted 2100 vectors…\n",
      "Upserted 3100 vectors…\n",
      "Upserted 4100 vectors…\n",
      "Upserted 5100 vectors…\n",
      "Upserted 6100 vectors…\n",
      "Upserted 7100 vectors…\n",
      "Upserted 8100 vectors…\n",
      "Upserted 9100 vectors…\n",
      "Done. Total vectors in index: None | Time: 234.7 s\n"
     ]
    }
   ],
   "source": [
    "# %%\n",
    "def chunk(iterable, size):\n",
    "    for i in range(0, len(iterable), size):\n",
    "        yield iterable[i:i+size]\n",
    "\n",
    "start = time.time()\n",
    "for batch_start, batch_docs in enumerate(chunk(docs_final, BATCH_SIZE)):\n",
    "    texts     = [d.page_content for d in batch_docs]\n",
    "    metadatas = [d.metadata      for d in batch_docs]\n",
    "    vecs      = embeddings.embed_documents(texts)\n",
    "    to_upsert = [\n",
    "        (f\"id-{batch_start*BATCH_SIZE + j}\", vecs[j], metadatas[j])\n",
    "        for j in range(len(batch_docs))\n",
    "    ]\n",
    "    index.upsert(vectors=to_upsert)\n",
    "    if batch_start % 10 == 0:\n",
    "        print(f\"Upserted {(batch_start+1)*BATCH_SIZE} vectors…\")\n",
    "\n",
    "print(\"Done. Total vectors in index:\",\n",
    "      pc.describe_index(INDEX_NAME)[\"total_vector_count\"],\n",
    "      \"| Time:\", round(time.time()-start, 1), \"s\")\n"
   ]
  },
  {
   "cell_type": "code",
   "execution_count": 15,
   "id": "bbb721f4",
   "metadata": {},
   "outputs": [
    {
     "name": "stdout",
     "output_type": "stream",
     "text": [
      "Total vectors now in Pinecone: 9316\n"
     ]
    }
   ],
   "source": [
    "stats = index.describe_index_stats()\n",
    "total = stats.get(\"total_vector_count\") \\\n",
    "        or stats.get(\"total_record_count\") \\\n",
    "        or sum(ns[\"vector_count\"] for ns in stats[\"namespaces\"].values())\n",
    "\n",
    "print(\"Total vectors now in Pinecone:\", total)\n"
   ]
  },
  {
   "cell_type": "code",
   "execution_count": null,
   "id": "4abc745a",
   "metadata": {},
   "outputs": [
    {
     "name": "stdout",
     "output_type": "stream",
     "text": [
      "SCOUTING REPORT: Cade Cavalli — RHP (2017) | Cavalli showed a cannon arm as a shortstop on the summer showcase circuit in 2015, leading scouts to wonder how hard he might throw off the mound. He missed much of last summer battling an ankle injury, and then much of his senior season with back problems. He did sit at 94 mph with his fastball early in a heavily scouted Oklahoma 6-A playoff game again …\n"
     ]
    }
   ],
   "source": [
    "# %% Cell 8 – Helper: similarity_search(query, k)\n",
    "def similarity_search(query, k=4):\n",
    "    vec = embeddings.embed_query(query)\n",
    "    return index.query(vector=vec, top_k=k, include_metadata=True)[\"matches\"]\n",
    "\n",
    "matches = similarity_search(\"What grade is Cade Cavalli's slider?\")\n",
    "print(matches[0][\"metadata\"][\"text\"][:400], \"…\")\n"
   ]
  },
  {
   "cell_type": "code",
   "execution_count": 35,
   "id": "34314b17",
   "metadata": {},
   "outputs": [
    {
     "name": "stdout",
     "output_type": "stream",
     "text": [
      "\n",
      "Answer:\n",
      " Cade Cavalli's slider grade is 50. \n",
      "\n",
      "### Sources\n",
      "01. [score 0.712]  SCOUTING REPORT: Cade Cavalli — RHP (2017) | Cavalli showed a cannon arm as a shortstop…\n",
      "02. [score 0.584]  SCOUTING REPORT: Ethan Hankins — RHP (2018) | Hankins thrust himself into consideration…\n",
      "03. [score 0.581]  SCOUTING REPORT: Ethan Small — LHP (2019) | Small reached 96 mph with his fastball as a…\n",
      "04. [score 0.575]  SCOUTING REPORT: Jonathan Gray — RHP (2013) | While many felt his teammate Dillon Overton…\n",
      "05. [score 0.566]  SCOUTING REPORT: Jonathan Gray — RHP (2013) | Gray didn't enter the spring with much…\n",
      "06. [score 0.566]  SCOUTING REPORT: Michael Clevinger — RHP (2013) | The junior college product was having a…\n"
     ]
    }
   ],
   "source": [
    "# %% 📞 Cell 10 – ask(): answer first, sources after\n",
    "# Usage examples:\n",
    "#   ask(\"Who are the top 70-run catchers?\", show_sources=True)   # prints answer + sources\n",
    "#   ans = ask(\"…\")                                              # returns answer string only\n",
    "\n",
    "import textwrap\n",
    "from langchain.schema import SystemMessage, HumanMessage\n",
    "\n",
    "llm = ChatOpenAI(model_name=\"gpt-4o-mini\", temperature=0.2)\n",
    "\n",
    "def _fmt_source(idx, hit, width=90):\n",
    "    text  = hit[\"metadata\"][\"text\"].replace(\"\\n\", \" \").strip()\n",
    "    first = textwrap.shorten(text, width=width, placeholder=\"…\")\n",
    "    return f\"{idx:02d}. [score {hit['score']:.3f}]  {first}\"\n",
    "\n",
    "def ask(question: str, k: int = 6, show_sources: bool = False) -> str:\n",
    "    \"\"\"Return answer string; optionally print nicely formatted sources.\"\"\"\n",
    "    # Retrieve context\n",
    "    vec  = embeddings.embed_query(question)\n",
    "    hits = index.query(vector=vec, top_k=k, include_metadata=True)[\"matches\"]\n",
    "    if not hits:\n",
    "        return \"No relevant information found in the vector database.\"\n",
    "\n",
    "    context = \"\\n\\n---\\n\\n\".join(h[\"metadata\"][\"text\"] for h in hits)\n",
    "\n",
    "    # LLM call\n",
    "    msgs = [\n",
    "        SystemMessage(content= \"You are Scout-RAG, a baseball scouting assistant. \"\n",
    "        \"The user will ask questions about prospects; the only facts you may use \"\n",
    "        \"come from the **Context** section below, which consists of one-or-more \"\n",
    "        \"scouting-report excerpts. Each excerpt follows this pattern:\\n\"\n",
    "        \"  SCOUTING REPORT: <Name> — <Pos> (<Year>) | <Narrative> | <Grades>\\n\\n\"\n",
    "\n",
    "        \"RULES you must follow when you craft an answer:\\n\"\n",
    "        \"1. **Grounding** – Never add information that is not present in the \"\n",
    "        \"   context. If the answer is not found, say so briefly.\\n\"\n",
    "        \"2. **Numeric constraints** – When a question specifies cut-offs \"\n",
    "        \"   (e.g., ‘changeup ≥ 55’, ‘sub-20 % strike-out rate’), list ONLY \"\n",
    "        \"   players whose grades or stats in the context satisfy EVERY \"\n",
    "        \"   condition. Ignore partial matches.\\n\"\n",
    "        \"3. **Filters** – Obey filters the user implies (handedness, year, \"\n",
    "        \"   position, ETA, league, etc.). If a chunk lacks the field, treat \"\n",
    "        \"   it as non-qualifying.\\n\"\n",
    "        \"4. **One row per player** – Mention a player at most once. If the \"\n",
    "        \"   context contains duplicates or multiple years, use the one that \"\n",
    "        \"   best satisfies the query.\\n\"\n",
    "        \"5. **Concise output** – Prefer short bullet lists or numbered lists \"\n",
    "        \"   (Name – key grades/traits). No paragraphs of fluff.\\n\"\n",
    "        \"6. **Unambiguous grades** – Quote numeric grades exactly as they \"\n",
    "        \"   appear (e.g., ‘Changeup 60’, not ‘plus changeup’).\\n\"\n",
    "        \"7. **Hallucination check** – After drafting your answer, quickly \"\n",
    "        \"   verify each fact against the context. Remove any item that is \"\n",
    "        \"   not explicitly supported.\\n\\n\"\n",
    "\n",
    "        \"Respond with the answer first. If the caller passes \"\n",
    "        \"`show_sources=True`, the code will print the source snippets \"\n",
    "        \"after your answer, so do NOT embed citations or excerpts yourself.\"\n",
    "),\n",
    "        HumanMessage(content=f\"Context:\\n{context}\\n\\nQuestion:\\n{question}\")\n",
    "    ]\n",
    "    answer = llm(msgs).content.strip()\n",
    "\n",
    "    # Display\n",
    "    if show_sources:\n",
    "        print(\"\\nAnswer:\\n\", answer, \"\\n\")\n",
    "        print(\"### Sources\")\n",
    "        for i, h in enumerate(hits, 1):\n",
    "            print(_fmt_source(i, h))\n",
    "\n",
    "\n",
    "\n",
    "# Example call (prints answer first, then sources)\n",
    "ask(\"What grade is Cade Cavalli's slider?\", show_sources=True)\n"
   ]
  },
  {
   "cell_type": "code",
   "execution_count": 36,
   "id": "9b99e147",
   "metadata": {},
   "outputs": [
    {
     "name": "stdout",
     "output_type": "stream",
     "text": [
      "\n",
      "Answer:\n",
      " 1. Dillon Peters – Fastball 60, Changeup 50, Control 55\n",
      "2. Julio Urias – Fastball 70, Changeup 60, Control 55\n",
      "3. Stephen Gonsalves – Fastball 60, Changeup 50, Control 50 \n",
      "\n",
      "### Sources\n",
      "01. [score 0.625]  SCOUTING REPORT: Dillon Peters — LHP (2017) | Scouts viewed Peters as a potential day-one…\n",
      "02. [score 0.591]  SCOUTING REPORT: Matthew Liberatore — LHP (2018) | Liberatore stood out on the summer…\n",
      "03. [score 0.585]  SCOUTING REPORT: Brendon Little — LHP (2015) | Little isn't the sexiest prospect, but the…\n",
      "04. [score 0.581]  SCOUTING REPORT: Julio Urias — LHP (2015) | Not only is Urias the top left-handed…\n",
      "05. [score 0.580]  SCOUTING REPORT: Brailyn Marquez — LHP (2019) | Name another teenage lefty who touches…\n",
      "06. [score 0.580]  SCOUTING REPORT: Stephen Gonsalves — LHP (2013) | A high school lefty, Gonsalves had a…\n"
     ]
    }
   ],
   "source": [
    "ask(\"Which left-handed pitchers show plus command and a changeup grade of at least 50?\", show_sources=True)"
   ]
  },
  {
   "cell_type": "code",
   "execution_count": 43,
   "id": "2446e8c9",
   "metadata": {},
   "outputs": [
    {
     "name": "stdout",
     "output_type": "stream",
     "text": [
      "\n",
      "Answer:\n",
      " 1. **Brendan McKay — 1B (2019)**\n",
      "   - **Starter Argument**: McKay showed above-average to plus command with a low-to-mid-90s fastball and a plus-flashing curveball, indicating No. 2 or 3 starter upside. His development as a pitcher was highlighted by his ability to navigate lineups effectively.\n",
      "   - **Reliever Argument**: Some scouts viewed his future as a standout, playoff rotation-caliber starter but acknowledged the potential for him to be valued more on the mound than as a hitter, suggesting a dual role might limit his effectiveness.\n",
      "\n",
      "2. **Kyle Bradish — RHP (2019)**\n",
      "   - **Reliever Argument**: Bradish's max-effort delivery and command issues were cited as reasons he would likely not succeed as a starter long-term. His traits were projected to play best in short stints, making him a good middle reliever.\n",
      "   - **Starter Argument**: While not explicitly stated, the mention of his ability to generate mid-90s fastballs early in games suggests that some scouts might have seen potential for him to develop into a starter if he could refine his command.\n",
      "\n",
      "3. **Tanner Dodson — OF (2019)**\n",
      "   - **Utility Argument**: Dodson was seen as a player who could contribute as a fourth outfielder and middle reliever, with teams preferring him on the mound due to his pitching skills.\n",
      "   - **Everyday Player Argument**: His unique skill set as a plus-running switch-hitter with good barrel control indicated potential for a more impactful role than just a utility player, though this was tempered by the assessment that neither role projects to be one of significant impact. \n",
      "\n",
      "### Sources\n",
      "01. [score 0.519]  SCOUTING REPORT: Jake Cronenworth — RHP (2019) | Two-way talent out of Michigan was a…\n",
      "02. [score 0.504]  SCOUTING REPORT: Tanner Dodson — OF (2019) | Dodson's father, Bo, hit .288/.397/.436 as a…\n",
      "03. [score 0.495]  SCOUTING REPORT: Curtis Taylor — RHP (2019) | This is another reliever who, based on…\n",
      "04. [score 0.494]  SCOUTING REPORT: Curtis Taylor — RHP (2019) | This is another reliever who, based on…\n",
      "05. [score 0.483]  SCOUTING REPORT: Kyle Bradish — RHP (2019) | It's exciting to consider how Bradish's…\n",
      "06. [score 0.483]  SCOUTING REPORT: Brendan McKay — 1B (2019) | McKay was a cold-weather, two-way high…\n"
     ]
    }
   ],
   "source": [
    "ask(\"Provide cases (2013-2019 only) where two scouting sources disagreed on a player’s future role—starter vs. reliever or everyday vs. utility—and briefly outline each side’s argument.\", show_sources=True)"
   ]
  },
  {
   "cell_type": "code",
   "execution_count": 44,
   "id": "f863741a",
   "metadata": {},
   "outputs": [
    {
     "name": "stdout",
     "output_type": "stream",
     "text": [
      "\n",
      "Answer:\n",
      " 1. Jesus Luzardo – Changeup 60\n",
      "2. Julio Urias – Changeup 60 \n",
      "\n",
      "### Sources\n",
      "01. [score 0.562]  SCOUTING REPORT: Jesus Luzardo — LHP (2019) | â¢ 7/4: Luzardo out with lat strainWhen…\n",
      "02. [score 0.533]  SCOUTING REPORT: Sixto Sanchez — RHP (2019) | Sanchez's first 2019 start -- during which…\n",
      "03. [score 0.532]  SCOUTING REPORT: Julio Urias — LHP (2015) | Not only is Urias the top left-handed…\n",
      "04. [score 0.528]  SCOUTING REPORT: Alex Young — LHP (2015) | Young stood out on the Cape for his three…\n",
      "05. [score 0.523]  SCOUTING REPORT: Kyle Young — LHP (2019) | Purely on stuff, Young belongs in the bottom…\n",
      "06. [score 0.521]  SCOUTING REPORT: Alex Young — LHP (2018) | After taking Dansby Swanson with the No. 1…\n"
     ]
    }
   ],
   "source": [
    "ask(\"List lefties who debuted in MLB at age 21 or younger (per debut_age) and owned a changeup grade ≥ 60.\", show_sources=True)"
   ]
  },
  {
   "cell_type": "code",
   "execution_count": 46,
   "id": "67f25a28",
   "metadata": {},
   "outputs": [
    {
     "name": "stdout",
     "output_type": "stream",
     "text": [
      "\n",
      "Answer:\n",
      " 1. **Kyle Bradish** – Fastball 55, Slider 55, Curveball 60, Changeup 50\n",
      "2. **Braden Webb** – Fastball 60, Curveball 60, Changeup 55\n",
      "3. **Shawn Armstrong** – Fastball 60, Slider 55, Curveball 40 \n",
      "\n",
      "### Sources\n",
      "01. [score 0.514]  SCOUTING REPORT: Deivi Garcia — RHP (2019) | At this time last year, Garcia was a 40 FV…\n",
      "02. [score 0.513]  SCOUTING REPORT: Kyle Bradish — RHP (2019) | It's exciting to consider how Bradish's…\n",
      "03. [score 0.511]  SCOUTING REPORT: Braden Webb — RHP (2019) | Webb opened his senior season at Owasso…\n",
      "04. [score 0.510]  SCOUTING REPORT: Drew Rasmussen — RHP (2019) | Rasmussen was a big part of Oregon State's…\n",
      "05. [score 0.501]  SCOUTING REPORT: Ethan Hankins — RHP (2018) | Hankins made himself a candidate to become…\n",
      "06. [score 0.501]  SCOUTING REPORT: Shawn Armstrong — RHP (2016) | The Indians went well above slot to…\n"
     ]
    }
   ],
   "source": [
    "ask(\"Give examples of arms flagged for “high-effort deliveries” that might force a bullpen role; include their primary pitches.\", show_sources=True)"
   ]
  },
  {
   "cell_type": "code",
   "execution_count": 47,
   "id": "9168e8eb",
   "metadata": {},
   "outputs": [
    {
     "name": "stdout",
     "output_type": "stream",
     "text": [
      "\n",
      "Answer:\n",
      " - Carlos Cortes – Scouts note he will have to be an elite offensive force to be more than a platoon corner bat.\n",
      "- Jhon Solarte – Lacks projection on the body, has to hit enough for a corner, implying potential platoon concerns. \n",
      "\n",
      "### Sources\n",
      "01. [score 0.543]  SCOUTING REPORT: Danny Lantigua — OF (2019) | There are ways to nitpick Lantigua -- he's…\n",
      "02. [score 0.529]  SCOUTING REPORT: Drew Vettleson — OF (2014) | Vettleson made headlines in high school for…\n",
      "03. [score 0.528]  SCOUTING REPORT: Carlos Cortes — OF (2019) | Cortes was a bit of an oddity as a prep…\n",
      "04. [score 0.503]  SCOUTING REPORT: Jhon Solarte — OF (2019) | Physical, switch-hitting outfielder with…\n",
      "05. [score 0.502]  SCOUTING REPORT: Chris Shaw — 1B (2019) | Shaw is one of many whiff-heavy corner bats…\n",
      "06. [score 0.499]  SCOUTING REPORT: Peter O'Brien — OF (2016) | Few prospects have more raw power than…\n"
     ]
    }
   ],
   "source": [
    "ask(\"Which switch-hitters in the corpus have scouts warning about extreme platoon splits?\", show_sources=True)"
   ]
  },
  {
   "cell_type": "code",
   "execution_count": 48,
   "id": "676de139",
   "metadata": {},
   "outputs": [
    {
     "name": "stdout",
     "output_type": "stream",
     "text": [
      "\n",
      "Answer:\n",
      " There are no reports in the provided context that mention pitchers who throw a true screwball, forkball, or eephus pitch. \n",
      "\n",
      "### Sources\n",
      "01. [score 0.486]  SCOUTING REPORT: Devin Smeltzer — LHP (2019) | Most pitchers tuck their gloves in by…\n",
      "02. [score 0.479]  SCOUTING REPORT: Carson Smith — RHP (2014) | Relievers who throw from an unorthodox arm…\n",
      "03. [score 0.476]  SCOUTING REPORT: Zeke Spruill — RHP (2013) | Another prospect in the Justin Upton haul,…\n",
      "04. [score 0.469]  SCOUTING REPORT: Garrett Whitlock — RHP (2019) | When you watch Whitlock (video link…\n",
      "05. [score 0.468]  SCOUTING REPORT: Dustin May — RHP (2019) | May's flamboyant ginger curls and Bronson…\n",
      "06. [score 0.468]  SCOUTING REPORT: MacKenzie Gore — LHP (2019) | Blisters and fingernail issues were a…\n"
     ]
    }
   ],
   "source": [
    "ask(\"Retrieve reports noting pitchers who throw a true screwball, forkball, or eephus pitch. Quote the key sentence.\", show_sources=True)"
   ]
  },
  {
   "cell_type": "code",
   "execution_count": 49,
   "id": "e8d45f6d",
   "metadata": {},
   "outputs": [
    {
     "name": "stdout",
     "output_type": "stream",
     "text": [
      "\n",
      "Answer:\n",
      " - **None found** – All prospects with a 70 run tool have fielding grades above 40. \n",
      "\n",
      "### Sources\n",
      "01. [score 0.607]  SCOUTING REPORT: VÃ­ctor VÃ­ctor Mesa — OF (2019) | It took four trades for bonus space…\n",
      "02. [score 0.592]  SCOUTING REPORT: Troy Stokes Jr. — OF (2019) | The Brewers selected Stokes in the fourth…\n",
      "03. [score 0.585]  SCOUTING REPORT: Cristian Pache — OF (2019) | If we told you a prospect seemed like an…\n",
      "04. [score 0.580]  SCOUTING REPORT: Jorge Mateo — SS (2019) | Not only was Mateo unable to carry his torrid…\n",
      "05. [score 0.579]  SCOUTING REPORT: Nick Allen — SS (2019) | Even among a historically talented group of…\n",
      "06. [score 0.578]  SCOUTING REPORT: Jose Garcia — SS (2019) | Between his lack of reps during the '16-'17…\n"
     ]
    }
   ],
   "source": [
    "ask(\"Are there prospects between 2013-2019 who pair a 70 run tool with a 40-or-lower fielding grade? Summarize the defensive concern.\", show_sources=True)"
   ]
  }
 ],
 "metadata": {
  "kernelspec": {
   "display_name": "venv",
   "language": "python",
   "name": "python3"
  },
  "language_info": {
   "codemirror_mode": {
    "name": "ipython",
    "version": 3
   },
   "file_extension": ".py",
   "mimetype": "text/x-python",
   "name": "python",
   "nbconvert_exporter": "python",
   "pygments_lexer": "ipython3",
   "version": "3.13.5"
  }
 },
 "nbformat": 4,
 "nbformat_minor": 5
}
