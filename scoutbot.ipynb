{
 "cells": [
  {
   "cell_type": "code",
   "execution_count": null,
   "id": "24c38e69",
   "metadata": {},
   "outputs": [],
   "source": [
    "# 📋 Cell 0 – Prereqs & env-vars\n",
    "# - Install deps:  pip install pandas numpy pinecone-client langchain-openai langchain\n",
    "# - Export keys **before** running:\n",
    "#     export OPENAI_API_KEY=\"sk-…\"\n",
    "#     export PINECONE_API_KEY=\"pc-…\"\n",
    "#     export PINECONE_CLOUD=\"aws\"        # or \"gcp\"\n",
    "#     export PINECONE_REGION=\"us-east-1\" # e.g. us-east-1, us-east1"
   ]
  },
  {
   "cell_type": "code",
   "execution_count": 34,
   "id": "91d3631b",
   "metadata": {},
   "outputs": [],
   "source": [
    "# %% Cell 1 – Imports & config constants\n",
    "import os, time, math, numpy as np, pandas as pd\n",
    "from langchain.schema import Document\n",
    "from langchain.text_splitter import RecursiveCharacterTextSplitter\n",
    "from langchain_openai import OpenAIEmbeddings, ChatOpenAI\n",
    "from pinecone import Pinecone, ServerlessSpec\n",
    "\n",
    "CSV_PATH   = \"twtc.csv\"\n",
    "INDEX_NAME = \"scout-reports-index\"\n",
    "BATCH_SIZE = 100                               # vectors per upsert\n",
    "CLOUD      = os.getenv(\"PINECONE_CLOUD\",  \"aws\")\n",
    "REGION     = os.getenv(\"PINECONE_REGION\", \"us-east-1\")\n",
    "API_KEY    = os.getenv(\"PINECONE_API_KEY\")\n"
   ]
  },
  {
   "cell_type": "code",
   "execution_count": 35,
   "id": "0a5cf467",
   "metadata": {},
   "outputs": [
    {
     "name": "stdout",
     "output_type": "stream",
     "text": [
      "Rows, columns: (9175, 26)\n"
     ]
    }
   ],
   "source": [
    "# %% Cell 2 – Load dataset & show shape\n",
    "df = pd.read_csv(CSV_PATH)\n",
    "print(\"Rows, columns:\", df.shape)\n"
   ]
  },
  {
   "cell_type": "code",
   "execution_count": 36,
   "id": "d7e8d792",
   "metadata": {},
   "outputs": [
    {
     "name": "stdout",
     "output_type": "stream",
     "text": [
      "Built 9175 documents\n"
     ]
    }
   ],
   "source": [
    "# %% Cell 3 – Row → langchain Document (narrative + grades)\n",
    "def make_doc(row) -> Document:\n",
    "    base = row[\"report\"] if pd.notna(row[\"report\"]) else row[\"text\"]\n",
    "    graded = [f\"{col} {int(row[col])}\" for col in\n",
    "              (\"Fastball\",\"Slider\",\"Curveball\",\"Changeup\",\"Control\",\n",
    "               \"Power\",\"Run\",\"Field\",\"Hit\",\"Arm\") if row[col] > 0]\n",
    "    text = \" | \".join([\n",
    "        f\"SCOUTING REPORT: {row['name']} — {row['primary_position']} ({int(row['year'])})\",\n",
    "        base,\n",
    "        \" \".join(graded),\n",
    "    ])\n",
    "    meta = {\n",
    "        \"name\":   row[\"name\"],\n",
    "        \"pos\":    row[\"primary_position\"],\n",
    "        \"year\":   int(row[\"year\"]),\n",
    "        \"eta\":    int(row[\"eta\"]),\n",
    "        \"source\": row[\"source\"],\n",
    "        \"text\":   text,      # store full blob for retrieval display\n",
    "    }\n",
    "    return Document(page_content=text, metadata=meta)\n",
    "\n",
    "docs = [make_doc(r) for _, r in df.iterrows()]\n",
    "print(f\"Built {len(docs)} documents\")\n"
   ]
  },
  {
   "cell_type": "code",
   "execution_count": 37,
   "id": "5bff7ef4",
   "metadata": {},
   "outputs": [
    {
     "name": "stdout",
     "output_type": "stream",
     "text": [
      "After splitting: 9316 chunks\n"
     ]
    }
   ],
   "source": [
    "# %% Cell 4 – Split only long blobs (>1 600 chars ≈ 400 tokens)\n",
    "splitter   = RecursiveCharacterTextSplitter.from_tiktoken_encoder(\n",
    "    chunk_size=400, chunk_overlap=50\n",
    ")\n",
    "THRESHOLD  = 1600\n",
    "\n",
    "docs_final = []\n",
    "for d in docs:\n",
    "    docs_final.extend(splitter.split_documents([d])) \\\n",
    "        if len(d.page_content) > THRESHOLD else docs_final.append(d)\n",
    "\n",
    "print(f\"After splitting: {len(docs_final)} chunks\")\n"
   ]
  },
  {
   "cell_type": "code",
   "execution_count": 38,
   "id": "63f9a2e7",
   "metadata": {},
   "outputs": [
    {
     "name": "stdout",
     "output_type": "stream",
     "text": [
      "Max chars: 1957 | Median tokens ≈ 280\n"
     ]
    }
   ],
   "source": [
    "# %% Cell 5 – Stats check on chunk lengths\n",
    "lengths = np.array([len(d.page_content) for d in docs_final])\n",
    "print(\"Max chars:\", lengths.max(), \"| Median tokens ≈\", int(np.median(lengths)/4))\n"
   ]
  },
  {
   "cell_type": "code",
   "execution_count": 39,
   "id": "c9824f64",
   "metadata": {},
   "outputs": [],
   "source": [
    "# %% Cell 6 – Init OpenAI embeddings (3-large) & Pinecone index (dim 3 072)\n",
    "embeddings = OpenAIEmbeddings(model=\"text-embedding-3-large\")\n",
    "EMBED_DIM  = len(embeddings.embed_query(\"test\"))      # 3 072 for 3-large\n",
    "\n",
    "pc = Pinecone(api_key=API_KEY)\n",
    "if INDEX_NAME in pc.list_indexes().names():\n",
    "    idx_dim = pc.describe_index(INDEX_NAME)[\"dimension\"]\n",
    "    if idx_dim != EMBED_DIM:\n",
    "        print(f\"Deleting old index (dim {idx_dim}) to match model dim {EMBED_DIM}…\")\n",
    "        pc.delete_index(INDEX_NAME)\n",
    "if INDEX_NAME not in pc.list_indexes().names():\n",
    "    pc.create_index(\n",
    "        name      = INDEX_NAME,\n",
    "        dimension = EMBED_DIM,\n",
    "        metric    = \"cosine\",\n",
    "        spec      = ServerlessSpec(cloud=CLOUD, region=REGION),\n",
    "    )\n",
    "    print(f\"Created index {INDEX_NAME} with dim {EMBED_DIM}\")\n",
    "index = pc.Index(INDEX_NAME)\n"
   ]
  },
  {
   "cell_type": "code",
   "execution_count": 33,
   "id": "ac768b55",
   "metadata": {},
   "outputs": [
    {
     "name": "stdout",
     "output_type": "stream",
     "text": [
      "Upserted 100 vectors…\n",
      "Upserted 1100 vectors…\n",
      "Upserted 2100 vectors…\n",
      "Upserted 3100 vectors…\n",
      "Upserted 4100 vectors…\n",
      "Upserted 5100 vectors…\n",
      "Upserted 6100 vectors…\n",
      "Upserted 7100 vectors…\n",
      "Upserted 8100 vectors…\n",
      "Upserted 9100 vectors…\n",
      "Done. Total vectors in index: None | Time: 220.3 s\n"
     ]
    }
   ],
   "source": [
    "# %%\n",
    "def chunk(iterable, size):\n",
    "    for i in range(0, len(iterable), size):\n",
    "        yield iterable[i:i+size]\n",
    "\n",
    "start = time.time()\n",
    "for batch_start, batch_docs in enumerate(chunk(docs_final, BATCH_SIZE)):\n",
    "    texts     = [d.page_content for d in batch_docs]\n",
    "    metadatas = [d.metadata      for d in batch_docs]\n",
    "    vecs      = embeddings.embed_documents(texts)\n",
    "    to_upsert = [\n",
    "        (f\"id-{batch_start*BATCH_SIZE + j}\", vecs[j], metadatas[j])\n",
    "        for j in range(len(batch_docs))\n",
    "    ]\n",
    "    index.upsert(vectors=to_upsert)\n",
    "    if batch_start % 10 == 0:\n",
    "        print(f\"Upserted {(batch_start+1)*BATCH_SIZE} vectors…\")\n",
    "\n",
    "print(\"Done. Total vectors in index:\",\n",
    "      pc.describe_index(INDEX_NAME)[\"total_vector_count\"],\n",
    "      \"| Time:\", round(time.time()-start, 1), \"s\")\n"
   ]
  },
  {
   "cell_type": "code",
   "execution_count": 42,
   "id": "72629a7f",
   "metadata": {},
   "outputs": [
    {
     "name": "stdout",
     "output_type": "stream",
     "text": [
      "Total vectors now in Pinecone: 9316\n"
     ]
    }
   ],
   "source": [
    "# %% 📊 Cell X – verify vector count (v3-style)\n",
    "import time\n",
    "time.sleep(5)                                   # <- give the service a moment\n",
    "\n",
    "stats = index.describe_index_stats()\n",
    "# v3 returns counts inside 'namespaces'\n",
    "total = stats.get(\"total_vector_count\") \\\n",
    "        or stats.get(\"total_record_count\") \\\n",
    "        or sum(ns[\"vector_count\"] for ns in stats[\"namespaces\"].values())\n",
    "\n",
    "print(\"Total vectors now in Pinecone:\", total)\n"
   ]
  },
  {
   "cell_type": "code",
   "execution_count": 40,
   "id": "4abc745a",
   "metadata": {},
   "outputs": [
    {
     "name": "stdout",
     "output_type": "stream",
     "text": [
      "SCOUTING REPORT: Cade Cavalli — RHP (2017) | Cavalli showed a cannon arm as a shortstop on the summer showcase circuit in 2015, leading scouts to wonder how hard he might throw off the mound. He missed much of last summer battling an ankle injury, and then much of his senior season with back problems. He did sit at 94 mph with his fastball early in a heavily scouted Oklahoma 6-A playoff game again …\n"
     ]
    }
   ],
   "source": [
    "# %% Cell 8 – Helper: similarity_search(query, k)\n",
    "def similarity_search(query, k=4):\n",
    "    vec = embeddings.embed_query(query)\n",
    "    return index.query(vector=vec, top_k=k, include_metadata=True)[\"matches\"]\n",
    "\n",
    "matches = similarity_search(\"What grade is Cade Horton's slider?\")\n",
    "print(matches[0][\"metadata\"][\"text\"][:400], \"…\")\n"
   ]
  },
  {
   "cell_type": "code",
   "execution_count": 45,
   "id": "524043e8",
   "metadata": {},
   "outputs": [
    {
     "name": "stdout",
     "output_type": "stream",
     "text": [
      "\n",
      "Answer:\n",
      " Cade Cavali's slider is graded at 50.\n"
     ]
    }
   ],
   "source": [
    "# %% Cell 9 – RAG answer function using GPT-4o\n",
    "from langchain.schema import SystemMessage, HumanMessage\n",
    "llm = ChatOpenAI(model_name=\"gpt-4o-mini\", temperature=0.2)\n",
    "\n",
    "def rag_answer(question, k=4):\n",
    "    ctx = \"\\n\\n---\\n\\n\".join(m[\"metadata\"][\"text\"] for m in similarity_search(question, k))\n",
    "    msgs = [\n",
    "        SystemMessage(content=\"You are a helpful baseball scouting assistant. \"\n",
    "                              \"Answer only using the provided context.\"),\n",
    "        HumanMessage(content=f\"Context:\\n{ctx}\\n\\nQuestion:\\n{question}\")\n",
    "    ]\n",
    "    return llm(msgs).content\n",
    "\n",
    "print(\"\\nAnswer:\\n\", rag_answer(\"What grade is Cade Cavali slider?\"))\n"
   ]
  },
  {
   "cell_type": "code",
   "execution_count": 47,
   "id": "34314b17",
   "metadata": {},
   "outputs": [
    {
     "name": "stdout",
     "output_type": "stream",
     "text": [
      "\n",
      "# Source 1 | score=0.7020\n",
      "SCOUTING REPORT: Cade Cavalli — RHP (2017) | Cavalli showed a cannon arm as a shortstop on the summer showcase circuit in 2015, leading scouts to wonder how hard he might throw off the mound. He missed much of last summer battling an ankle injury, and then much of his senior season with back problems. He did sit at 94 mph with his fastball early in a heavily scouted Oklahoma 6-A playoff game again...\n",
      "\n",
      "\n",
      "# Source 2 | score=0.5893\n",
      "SCOUTING REPORT: Garrett Cave — RHP (2017) | Cave began his college career at Florida International, struggling there for two years, especially as a starter during his sophomore season. He starred in the Cape Cod League as a closer last summer, ahead of his transfer to Division II Tampa, where he has continued to show off tremendous arm strength.The 6-foot-4 right-hander shows a premium fastball t...\n",
      "\n",
      "\n",
      "# Source 3 | score=0.5884\n",
      "SCOUTING REPORT: Garrett Cave — RHP (2017) | After struggling to throw strikes and having only sporadic success in two years at Florida International, Cave broke out by leading the Cape Cod League with 10 saves while hitting 98 mph in the summer of 2016. He transferred to NCAA Division II Tampa for his junior year, during which he remained overpowering but wild. The Giants, who have had more than ...\n",
      "\n",
      "\n",
      "# Source 4 | score=0.5866\n",
      "SCOUTING REPORT: Garrett Cave — RHP (2017) | Cave has one of the quickest arms in the draft, sitting 91-95 and touching 97 with a hard, mid-80s slider, a shapely looping curveball and a firm changeup. He's likely a reliever but has a non-zero chance to start if he can harness his command and it makes sense to develop him as a starter so his secondaries get more reps. Even in relief (where his heat...\n",
      "\n",
      "\n",
      "# Source 5 | score=0.5785\n",
      "SCOUTING REPORT: Garrett Cave — RHP (2018) | Cave battled the strike zone in two years at Florida International before boosting his stock by leading the Cape Cod League with 10 saves and reaching 98 mph with his fastball during the summer of 2016. He decided to transfer to NCAA Division II power Tampa, where he continued to struggle to harness his power arsenal. That continued after the Giants sig...\n",
      "\n",
      "\n",
      "# Source 6 | score=0.5763\n",
      "SCOUTING REPORT: Ethan Hankins — RHP (2018) | Hankins thrust himself into consideration to become first high school right-hander to go No. 1 overall in the Draft with an outstanding summer on the showcase circuit, finishing by striking out 27 in a pair of six-inning starts to help Team USA win the 18-and-under World Cup. He wasn't the same pitcher as a senior, however, leaving a mid-February start...\n",
      "\n",
      "Cade Cavali's slider is graded at 50.\n"
     ]
    }
   ],
   "source": [
    "# %% 📞 Cell 10 – Define a single helper `ask()` for Q&A\n",
    "# Usage: answer = ask(\"What grade is Cade Horton's slider?\")\n",
    "#\n",
    "# - k: # of nearest chunks to fetch\n",
    "# - show_sources=True will print the source texts that fed the answer\n",
    "\n",
    "from langchain.schema import SystemMessage, HumanMessage\n",
    "\n",
    "llm = ChatOpenAI(model_name=\"gpt-4o-mini\", temperature=0.2)\n",
    "\n",
    "def ask(question: str, k: int = 6, show_sources: bool = False) -> str:\n",
    "    \"\"\"Query Pinecone, build context, and return an LLM answer.\"\"\"\n",
    "    # Retrieve top-k similar chunks\n",
    "    vec   = embeddings.embed_query(question)\n",
    "    hits  = index.query(vector=vec, top_k=k, include_metadata=True)[\"matches\"]\n",
    "\n",
    "    # If nothing retrieved, short-circuit\n",
    "    if not hits:\n",
    "        return \"No relevant information found in the vector database.\"\n",
    "\n",
    "    # Build context string\n",
    "    context = \"\\n\\n---\\n\\n\".join(hit[\"metadata\"][\"text\"] for hit in hits)\n",
    "\n",
    "    # Compose and run LLM prompt\n",
    "    messages = [\n",
    "        SystemMessage(content=\"You are a helpful baseball scouting assistant. \"\n",
    "                              \"Answer strictly from the provided context.\"),\n",
    "        HumanMessage(content=f\"Context:\\n{context}\\n\\nQuestion:\\n{question}\")\n",
    "    ]\n",
    "    answer = llm(messages).content\n",
    "\n",
    "    # Optionally show sources\n",
    "    if show_sources:\n",
    "        for i, h in enumerate(hits, 1):\n",
    "            print(f\"\\n# Source {i} | score={h['score']:.4f}\\n{h['metadata']['text'][:400]}...\\n\")\n",
    "\n",
    "    return answer\n",
    "\n",
    "# Example\n",
    "print(ask(\"What grade is Cade Cavali's slider?\", show_sources=True))\n"
   ]
  },
  {
   "cell_type": "code",
   "execution_count": 48,
   "id": "9b99e147",
   "metadata": {},
   "outputs": [
    {
     "name": "stdout",
     "output_type": "stream",
     "text": [
      "\n",
      "# Source 1 | score=0.5995\n",
      "SCOUTING REPORT: Matthew Liberatore — LHP (2018) | In an age when radar gun readings often rule the day, Liberatore stood out on the summer showcase circuit more with his feel for pitching than plus velocity. He threw 12 shutout innings for the 18U U.S. National Team, and there was a reason he got the ball for their gold medal game against Korea, won by Liberatore thanks to his six scoreless frame...\n",
      "\n",
      "\n",
      "# Source 2 | score=0.5935\n",
      "SCOUTING REPORT: Dillon Peters — LHP (2017) | Scouts viewed Peters as a potential day-one Draft pick in 2011, but a strong commitment to Texas, as well as a seven-figure price tag, ultimately caused him to fall to Cleveland in the 20th round. He honored his college commitment and turned in three consistent seasons as a starter for the Longhorns, setting him up once again to come off the board in t...\n",
      "\n",
      "\n",
      "# Source 3 | score=0.5920\n",
      "SCOUTING REPORT: Steven Hajjar — LHP (2018) | New England isn't typically a hotbed for high school pitching talent, though a good arm comes from the region from time to time. In this year's Draft class, right-hander Mike Vasil is the top talent, even with his injury, and while Hajjar isn't in the same conversation, he is the best left-hander from the area.Aside from his left-handedness, Hajjar has...\n",
      "\n",
      "\n",
      "# Source 4 | score=0.5914\n",
      "SCOUTING REPORT: Brendon Little — LHP (2017) | Little had the chance to join the pro ranks when he was coming out of high school in Pennsylvania, but instead opted to head to North Carolina. He threw just four innings as a freshman in 2016, so he transferred to the State College of Florida to be Draft eligible this June.Little pitched very well in the Cape Cod League this summer and has continued ...\n",
      "\n",
      "\n",
      "# Source 5 | score=0.5870\n",
      "SCOUTING REPORT: Matthew Liberatore — LHP (2019) | Liberatore looked like a potential top Draft pick in 2018 after a stellar summer showcase circuit that concluded with him tossing six scoreless frames in the 18U U.S. National Team's gold-medal-winning game against Korea. While his stuff wasn't as electric during his senior year at Mountain Ridge (Ariz.) High, Liberatore still had a dominant campa...\n",
      "\n",
      "\n",
      "# Source 6 | score=0.5868\n",
      "SCOUTING REPORT: Garrett Wade — LHP (2018) | Two of the best prep left-handers in the 2018 Draft matched up March 22, when Ryan Weathers and Loretto (Tenn.) High visited Wade and Hartselle (Ala.) High. Weathers is regarded as the better prospect and has a chance to go in the first round, though Wade outperformed him with 13 strikeouts in five innings in a game Loretto won in the ninth. He should g...\n",
      "\n"
     ]
    },
    {
     "data": {
      "text/plain": [
       "\"The left-handed pitchers in the 2018 class that show plus command and a changeup grade of at least 55 are:\\n\\n1. **Matthew Liberatore** - Fastball 55, Slider 55, Curveball 60, Changeup 55, Control 55.\\n2. **Garrett Wade** - Fastball 55, Slider 55, Curveball 50, Changeup 50, Control 55. (Note: Wade's changeup does not meet the 55 grade requirement.)\\n\\nTherefore, only **Matthew Liberatore** meets both criteria.\""
      ]
     },
     "execution_count": 48,
     "metadata": {},
     "output_type": "execute_result"
    }
   ],
   "source": [
    "ask(\"Which left-handed pitchers in the 2018 class show plus command and a changeup grade of at least 55?\", show_sources=True)"
   ]
  },
  {
   "cell_type": "code",
   "execution_count": 49,
   "id": "2446e8c9",
   "metadata": {},
   "outputs": [
    {
     "name": "stdout",
     "output_type": "stream",
     "text": [
      "\n",
      "# Source 1 | score=0.5664\n",
      "SCOUTING REPORT: Daulton Varsho — C (2019) | The list of catchers with speed comparable to Varsho's is pretty short. J.T. Realmuto and Jorge Alfaro are two current examples, but Varsho reaches a top speed faster than either of them, and is an actual threat to steal bases. He's also a doubles machine with natural feel for gap-to-gap contact, and if soft liners trickle between outfielders, Varsho ca...\n",
      "\n",
      "\n",
      "# Source 2 | score=0.5574\n",
      "SCOUTING REPORT: Daniel Flores — C (2017) | As twitchy as catching prospects get, Flores posts plus-plus pop times thanks to a combination of plus raw arm strength, efficient footwork and a transfer so quick it qualifies as slight of hand. He's also a promising receiver and, while physically projectable, scouts don't anticipate Flores will get so big that he needs to abandon the position. He also ...\n",
      "\n",
      "\n",
      "# Source 3 | score=0.5445\n",
      "SCOUTING REPORT: Will Smith — C (2016) | In a year where a lot of the best college catching prospects are skewed heavily in favor of offense (Miami's Zack Collins, Virginia's Matt Thaiss) or defense (Tulane's Jake Rogers), Smith is one of the better all-around backstops available. He's a quality defender who has upped his offensive game as a junior.Smith stands out most for his work behind the pla...\n",
      "\n",
      "\n",
      "# Source 4 | score=0.5440\n",
      "SCOUTING REPORT: Antonio Gomez — C (2019) | Gomez stood out as a 15-year-old because of his one, truely freakish ability: he has a stone-cold 80 arm (clocked in the mid-80's with a radar gun) and a quick release that allow him to regularly post pop times below 1.80 in games, which is generally a 70-grade time. Gomez is a mature-bodied prospect and a 30 runner presently, someone who appears 'unathl...\n",
      "\n",
      "\n",
      "# Source 5 | score=0.5423\n",
      "SCOUTING REPORT: Carson Kelly — C (2018) | Kelly begins to separate himself from most catching prospects with his glove. He was drafted as a third baseman in 2012, then moved behind the plate in 2014 and picked up the finer points of catching rather quickly. Heâs a good receiver, stealing strikes on the edges of the zone and just beneath it. Heâs also more agile than his square, cinder-block f...\n",
      "\n",
      "\n",
      "# Source 6 | score=0.5380\n",
      "SCOUTING REPORT: Joey Bart — C (2018) | Bart's power potential could have gotten him selected in the first five rounds of the Draft after he led Buford High to the 2015 Georgia 4-A state championship, but he dropped to the Rays in the 27th round because he was committed to Georgia Tech. His development at the plate and improvement behind it has him positioned as the top college catcher available i...\n",
      "\n"
     ]
    },
    {
     "data": {
      "text/plain": [
       "'The catchers with sub-20% strike-out rates whose pop-time is mentioned as “1.90 s or better” are:\\n\\n1. Will Smith - Consistently records pop times of 1.9 seconds or less.\\n2. Daniel Flores - Posts plus-plus pop times thanks to his quick transfer. \\n\\n(Note: The specific strike-out rates are not provided in the context, but these two catchers are noted for their pop times.)'"
      ]
     },
     "execution_count": 49,
     "metadata": {},
     "output_type": "execute_result"
    }
   ],
   "source": [
    "ask(\" List any catchers with sub-20% strike-out rates whose pop-time is mentioned as “1.90 s or better.” \", show_sources=True)"
   ]
  }
 ],
 "metadata": {
  "kernelspec": {
   "display_name": "venv",
   "language": "python",
   "name": "python3"
  },
  "language_info": {
   "codemirror_mode": {
    "name": "ipython",
    "version": 3
   },
   "file_extension": ".py",
   "mimetype": "text/x-python",
   "name": "python",
   "nbconvert_exporter": "python",
   "pygments_lexer": "ipython3",
   "version": "3.13.5"
  }
 },
 "nbformat": 4,
 "nbformat_minor": 5
}
