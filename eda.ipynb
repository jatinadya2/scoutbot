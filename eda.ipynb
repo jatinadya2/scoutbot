{
 "cells": [
  {
   "cell_type": "code",
   "execution_count": 1,
   "id": "78c71f3b",
   "metadata": {},
   "outputs": [],
   "source": [
    "import pandas as pd\n",
    "import numpy as np\n"
   ]
  },
  {
   "cell_type": "code",
   "execution_count": 2,
   "id": "4cf130b3",
   "metadata": {},
   "outputs": [],
   "source": [
    "df = pd.read_csv('twtc.csv')"
   ]
  },
  {
   "cell_type": "code",
   "execution_count": 3,
   "id": "50bc95dd",
   "metadata": {},
   "outputs": [
    {
     "name": "stdout",
     "output_type": "stream",
     "text": [
      "<class 'pandas.core.frame.DataFrame'>\n",
      "RangeIndex: 9175 entries, 0 to 9174\n",
      "Data columns (total 26 columns):\n",
      " #   Column            Non-Null Count  Dtype  \n",
      "---  ------            --------------  -----  \n",
      " 0   name              9175 non-null   object \n",
      " 1   key_mlbam         9175 non-null   object \n",
      " 2   key_fangraphs     9175 non-null   object \n",
      " 3   age               9175 non-null   float64\n",
      " 4   year              9175 non-null   int64  \n",
      " 5   primary_position  9175 non-null   object \n",
      " 6   eta               9175 non-null   int64  \n",
      " 7   report            9175 non-null   object \n",
      " 8   Arm               9175 non-null   int64  \n",
      " 9   Changeup          9175 non-null   int64  \n",
      " 10  Control           9175 non-null   int64  \n",
      " 11  Curveball         9175 non-null   int64  \n",
      " 12  Cutter            9175 non-null   int64  \n",
      " 13  Fastball          9175 non-null   int64  \n",
      " 14  Field             9175 non-null   int64  \n",
      " 15  Hit               9175 non-null   int64  \n",
      " 16  Power             9175 non-null   int64  \n",
      " 17  Run               9175 non-null   int64  \n",
      " 18  Slider            9175 non-null   int64  \n",
      " 19  Splitter          9175 non-null   int64  \n",
      " 20  source            9175 non-null   object \n",
      " 21  birthdate         9175 non-null   object \n",
      " 22  mlb_played_first  9175 non-null   int64  \n",
      " 23  debut_age         9175 non-null   float64\n",
      " 24  label             9175 non-null   int64  \n",
      " 25  text              9175 non-null   object \n",
      "dtypes: float64(2), int64(16), object(8)\n",
      "memory usage: 1.8+ MB\n"
     ]
    }
   ],
   "source": [
    "df.info()"
   ]
  },
  {
   "cell_type": "code",
   "execution_count": 6,
   "id": "d5c0b67f",
   "metadata": {},
   "outputs": [
    {
     "name": "stdout",
     "output_type": "stream",
     "text": [
      "Word count statistics for 'report' column:\n",
      "count    9175.000000\n",
      "mean      176.873460\n",
      "std        61.700847\n",
      "min         5.000000\n",
      "25%       140.000000\n",
      "50%       183.000000\n",
      "75%       218.000000\n",
      "max       528.000000\n",
      "Name: report, dtype: float64\n",
      "\n",
      "Word count statistics for 'text' column:\n",
      "count    9175.000000\n",
      "mean      174.428338\n",
      "std        60.787082\n",
      "min         5.000000\n",
      "25%       138.000000\n",
      "50%       180.000000\n",
      "75%       215.000000\n",
      "max       524.000000\n",
      "Name: text, dtype: float64\n",
      "\n",
      "Character count statistics for 'report' column:\n",
      "count    9175.000000\n",
      "mean     1007.839455\n",
      "std       352.671353\n",
      "min        37.000000\n",
      "25%       792.000000\n",
      "50%      1041.000000\n",
      "75%      1245.000000\n",
      "max      2904.000000\n",
      "Name: report, dtype: float64\n",
      "\n",
      "Character count statistics for 'text' column:\n",
      "count    9175.000000\n",
      "mean     1000.878801\n",
      "std       351.473995\n",
      "min        28.000000\n",
      "25%       785.500000\n",
      "50%      1032.000000\n",
      "75%      1236.000000\n",
      "max      2886.000000\n",
      "Name: text, dtype: float64\n"
     ]
    }
   ],
   "source": [
    "word_counts = df['report'].str.split().apply(len)\n",
    "print(\"Word count statistics for 'report' column:\")\n",
    "print(word_counts.describe())\n",
    "\n",
    "text_word_counts = df['text'].str.split().apply(len)\n",
    "print(\"\\nWord count statistics for 'text' column:\")\n",
    "print(text_word_counts.describe())\n",
    "\n",
    "report_char_counts = df['report'].str.len()\n",
    "print(\"\\nCharacter count statistics for 'report' column:\")\n",
    "print(report_char_counts.describe())\n",
    "\n",
    "text_char_counts = df['text'].str.len()\n",
    "print(\"\\nCharacter count statistics for 'text' column:\")\n",
    "print(text_char_counts.describe())"
   ]
  },
  {
   "cell_type": "code",
   "execution_count": 8,
   "id": "7e17ec05",
   "metadata": {},
   "outputs": [
    {
     "data": {
      "text/plain": [
       "0       LHP\n",
       "1       RHP\n",
       "2       RHP\n",
       "3       RHP\n",
       "4       RHP\n",
       "       ... \n",
       "9170    RHP\n",
       "9171    RHP\n",
       "9172    RHP\n",
       "9173    RHP\n",
       "9174     OF\n",
       "Name: primary_position, Length: 9175, dtype: object"
      ]
     },
     "execution_count": 8,
     "metadata": {},
     "output_type": "execute_result"
    }
   ],
   "source": [
    "df[\"primary_position\"]"
   ]
  },
  {
   "cell_type": "code",
   "execution_count": 10,
   "id": "097a229c",
   "metadata": {},
   "outputs": [
    {
     "name": "stdout",
     "output_type": "stream",
     "text": [
      "Collecting matplotlib\n",
      "  Downloading matplotlib-3.10.3-cp313-cp313-macosx_11_0_arm64.whl.metadata (11 kB)\n",
      "Collecting contourpy>=1.0.1 (from matplotlib)\n",
      "  Downloading contourpy-1.3.2-cp313-cp313-macosx_11_0_arm64.whl.metadata (5.5 kB)\n",
      "Collecting cycler>=0.10 (from matplotlib)\n",
      "  Downloading cycler-0.12.1-py3-none-any.whl.metadata (3.8 kB)\n",
      "Requirement already satisfied: fonttools>=4.22.0 in ./venv/lib/python3.13/site-packages (from matplotlib) (4.58.5)\n",
      "Collecting kiwisolver>=1.3.1 (from matplotlib)\n",
      "  Downloading kiwisolver-1.4.8-cp313-cp313-macosx_11_0_arm64.whl.metadata (6.2 kB)\n",
      "Requirement already satisfied: numpy>=1.23 in ./venv/lib/python3.13/site-packages (from matplotlib) (2.2.6)\n",
      "Requirement already satisfied: packaging>=20.0 in ./venv/lib/python3.13/site-packages (from matplotlib) (24.2)\n",
      "Requirement already satisfied: pillow>=8 in ./venv/lib/python3.13/site-packages (from matplotlib) (11.3.0)\n",
      "Requirement already satisfied: pyparsing>=2.3.1 in ./venv/lib/python3.13/site-packages (from matplotlib) (3.2.3)\n",
      "Requirement already satisfied: python-dateutil>=2.7 in ./venv/lib/python3.13/site-packages (from matplotlib) (2.9.0.post0)\n",
      "Requirement already satisfied: six>=1.5 in ./venv/lib/python3.13/site-packages (from python-dateutil>=2.7->matplotlib) (1.17.0)\n",
      "Downloading matplotlib-3.10.3-cp313-cp313-macosx_11_0_arm64.whl (8.1 MB)\n",
      "\u001b[2K   \u001b[90m━━━━━━━━━━━━━━━━━━━━━━━━━━━━━━━━━━━━━━━━\u001b[0m \u001b[32m8.1/8.1 MB\u001b[0m \u001b[31m36.0 MB/s\u001b[0m eta \u001b[36m0:00:00\u001b[0ma \u001b[36m0:00:01\u001b[0m\n",
      "\u001b[?25hDownloading contourpy-1.3.2-cp313-cp313-macosx_11_0_arm64.whl (255 kB)\n",
      "Downloading cycler-0.12.1-py3-none-any.whl (8.3 kB)\n",
      "Downloading kiwisolver-1.4.8-cp313-cp313-macosx_11_0_arm64.whl (65 kB)\n",
      "Installing collected packages: kiwisolver, cycler, contourpy, matplotlib\n",
      "\u001b[2K   \u001b[90m━━━━━━━━━━━━━━━━━━━━━━━━━━━━━━━━━━━━━━━━\u001b[0m \u001b[32m4/4\u001b[0m [matplotlib]4\u001b[0m [matplotlib]\n",
      "\u001b[1A\u001b[2KSuccessfully installed contourpy-1.3.2 cycler-0.12.1 kiwisolver-1.4.8 matplotlib-3.10.3\n",
      "Note: you may need to restart the kernel to use updated packages.\n"
     ]
    },
    {
     "data": {
      "image/png": "[encoded data removed]",
      "text/plain": [
       "<Figure size 640x480 with 1 Axes>"
      ]
     },
     "metadata": {},
     "output_type": "display_data"
    }
   ],
   "source": [
    "%pip install matplotlib\n",
    "import matplotlib.pyplot as plt\n",
    "\n",
    "df['year'].value_counts().sort_index().plot(kind='bar', title='Distribution of Year in Dataset')\n",
    "plt.xlabel('Year')\n",
    "plt.ylabel('Count')\n",
    "plt.show()"
   ]
  }
 ],
 "metadata": {
  "kernelspec": {
   "display_name": "venv",
   "language": "python",
   "name": "python3"
  },
  "language_info": {
   "codemirror_mode": {
    "name": "ipython",
    "version": 3
   },
   "file_extension": ".py",
   "mimetype": "text/x-python",
   "name": "python",
   "nbconvert_exporter": "python",
   "pygments_lexer": "ipython3",
   "version": "3.13.5"
  }
 },
 "nbformat": 4,
 "nbformat_minor": 5
}
