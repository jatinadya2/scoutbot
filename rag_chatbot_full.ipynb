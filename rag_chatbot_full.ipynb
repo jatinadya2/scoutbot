{
 "cells": [
  {
   "cell_type": "code",
   "execution_count": 44,
   "metadata": {},
   "outputs": [],
   "source": [
    "import re, pytesseract\n",
    "import spacy, csv, mimetypes\n",
    "nlp = spacy.load(\"en_core_web_sm\")"
   ]
  },
  {
   "cell_type": "code",
   "execution_count": 45,
   "metadata": {},
   "outputs": [],
   "source": [
    "from collections import defaultdict\n"
   ]
  },
  {
   "cell_type": "code",
   "execution_count": 46,
   "metadata": {},
   "outputs": [
    {
     "name": "stdout",
     "output_type": "stream",
     "text": [
      "Requirement already satisfied: camelot-py[cv] in /Library/Frameworks/Python.framework/Versions/3.13/lib/python3.13/site-packages (1.0.0)\n",
      "\u001b[33mWARNING: camelot-py 1.0.0 does not provide the extra 'cv'\u001b[0m\u001b[33m\n",
      "\u001b[0mRequirement already satisfied: click>=8.0.1 in /Library/Frameworks/Python.framework/Versions/3.13/lib/python3.13/site-packages (from camelot-py[cv]) (8.1.8)\n",
      "Requirement already satisfied: chardet>=5.1.0 in /Library/Frameworks/Python.framework/Versions/3.13/lib/python3.13/site-packages (from camelot-py[cv]) (5.2.0)\n",
      "Requirement already satisfied: numpy>=1.26.1 in /Library/Frameworks/Python.framework/Versions/3.13/lib/python3.13/site-packages (from camelot-py[cv]) (2.2.6)\n",
      "Requirement already satisfied: openpyxl>=3.1.0 in /Library/Frameworks/Python.framework/Versions/3.13/lib/python3.13/site-packages (from camelot-py[cv]) (3.1.5)\n",
      "Requirement already satisfied: pdfminer-six>=20240706 in /Library/Frameworks/Python.framework/Versions/3.13/lib/python3.13/site-packages (from camelot-py[cv]) (20250506)\n",
      "Requirement already satisfied: pypdf<6.0,>=4.0 in /Library/Frameworks/Python.framework/Versions/3.13/lib/python3.13/site-packages (from camelot-py[cv]) (5.3.0)\n",
      "Requirement already satisfied: pandas>=2.2.2 in /Library/Frameworks/Python.framework/Versions/3.13/lib/python3.13/site-packages (from camelot-py[cv]) (2.2.3)\n",
      "Requirement already satisfied: tabulate>=0.9.0 in /Library/Frameworks/Python.framework/Versions/3.13/lib/python3.13/site-packages (from camelot-py[cv]) (0.9.0)\n",
      "Requirement already satisfied: opencv-python-headless>=4.7.0.68 in /Library/Frameworks/Python.framework/Versions/3.13/lib/python3.13/site-packages (from camelot-py[cv]) (4.11.0.86)\n",
      "Requirement already satisfied: pypdfium2>=4 in /Library/Frameworks/Python.framework/Versions/3.13/lib/python3.13/site-packages (from camelot-py[cv]) (4.30.1)\n",
      "Requirement already satisfied: et-xmlfile in /Library/Frameworks/Python.framework/Versions/3.13/lib/python3.13/site-packages (from openpyxl>=3.1.0->camelot-py[cv]) (2.0.0)\n",
      "Requirement already satisfied: python-dateutil>=2.8.2 in /Library/Frameworks/Python.framework/Versions/3.13/lib/python3.13/site-packages (from pandas>=2.2.2->camelot-py[cv]) (2.9.0.post0)\n",
      "Requirement already satisfied: pytz>=2020.1 in /Library/Frameworks/Python.framework/Versions/3.13/lib/python3.13/site-packages (from pandas>=2.2.2->camelot-py[cv]) (2025.1)\n",
      "Requirement already satisfied: tzdata>=2022.7 in /Library/Frameworks/Python.framework/Versions/3.13/lib/python3.13/site-packages (from pandas>=2.2.2->camelot-py[cv]) (2025.1)\n",
      "Requirement already satisfied: charset-normalizer>=2.0.0 in /Library/Frameworks/Python.framework/Versions/3.13/lib/python3.13/site-packages (from pdfminer-six>=20240706->camelot-py[cv]) (3.4.1)\n",
      "Requirement already satisfied: cryptography>=36.0.0 in /Library/Frameworks/Python.framework/Versions/3.13/lib/python3.13/site-packages (from pdfminer-six>=20240706->camelot-py[cv]) (44.0.2)\n",
      "Requirement already satisfied: cffi>=1.12 in /Library/Frameworks/Python.framework/Versions/3.13/lib/python3.13/site-packages (from cryptography>=36.0.0->pdfminer-six>=20240706->camelot-py[cv]) (1.17.1)\n",
      "Requirement already satisfied: six>=1.5 in /Library/Frameworks/Python.framework/Versions/3.13/lib/python3.13/site-packages (from python-dateutil>=2.8.2->pandas>=2.2.2->camelot-py[cv]) (1.17.0)\n",
      "Requirement already satisfied: pycparser in /Library/Frameworks/Python.framework/Versions/3.13/lib/python3.13/site-packages (from cffi>=1.12->cryptography>=36.0.0->pdfminer-six>=20240706->camelot-py[cv]) (2.22)\n",
      "\n",
      "\u001b[1m[\u001b[0m\u001b[34;49mnotice\u001b[0m\u001b[1;39;49m]\u001b[0m\u001b[39;49m A new release of pip is available: \u001b[0m\u001b[31;49m25.0.1\u001b[0m\u001b[39;49m -> \u001b[0m\u001b[32;49m25.1.1\u001b[0m\n",
      "\u001b[1m[\u001b[0m\u001b[34;49mnotice\u001b[0m\u001b[1;39;49m]\u001b[0m\u001b[39;49m To update, run: \u001b[0m\u001b[32;49mpip install --upgrade pip\u001b[0m\n",
      "Note: you may need to restart the kernel to use updated packages.\n"
     ]
    }
   ],
   "source": [
    "%pip install \"camelot-py[cv]\"\n",
    "\n",
    "import openai\n",
    "import camelot        # pip install \"camelot-py[cv]\"\n",
    "import pdfplumber     # you already use this elsewhere\n"
   ]
  },
  {
   "cell_type": "code",
   "execution_count": 47,
   "metadata": {},
   "outputs": [],
   "source": [
    "import os\n",
    "from dotenv import load_dotenv\n",
    "load_dotenv()                           # expects .env in the repo root\n",
    "\n",
    "OPENAI_API_KEY  = os.getenv(\"OPENAI_API_KEY\")\n",
    "PINECONE_API_KEY = os.getenv(\"PINECONE_API_KEY\")\n",
    "PINECONE_ENV     = os.getenv(\"PINECONE_ENV\")  # e.g. \"gcp-starter\""
   ]
  },
  {
   "cell_type": "code",
   "execution_count": 48,
   "metadata": {},
   "outputs": [],
   "source": [
    "import os, base64\n",
    "from pathlib import Path\n",
    "from tqdm import tqdm\n",
    "\n",
    "import fitz                         # PyMuPDF 2.0+\n",
    "import tabula                       # needs Java;  pip install tabula-py jpype1\n",
    "from langchain.text_splitter import RecursiveCharacterTextSplitter\n"
   ]
  },
  {
   "cell_type": "code",
   "execution_count": 50,
   "metadata": {},
   "outputs": [],
   "source": [
    "from pathlib import Path\n",
    "import os, base64, json, fitz, pdfplumber\n",
    "from tqdm import tqdm\n",
    "import tabula\n",
    "from langchain.text_splitter import RecursiveCharacterTextSplitter\n",
    "\n",
    "# ---------- CONFIG ----------\n",
    "PDF_PATH  = Path(\"doc2.pdf\")\n",
    "BASE_DIR  = Path(\"data\")\n",
    "DIAGRAM_THRESHOLD = 0.60   # % of page area to be considered full-page diagram\n",
    "LOGO_THRESHOLD    = 0.10   # % of page area under which we skip as logo/ornament\n",
    "TEXT_EMPTY_LIMIT   = 100   # page is “empty” if ≤ 100 chars\n",
    "NEIGHBOR_MIN_CHARS = 200   # char count to decide page is \"mostly image\"\n",
    "PIXMAP_ZOOM       = 3      # render factor for full page images\n",
    "# ----------------------------\n"
   ]
  },
  {
   "cell_type": "code",
   "execution_count": 51,
   "metadata": {},
   "outputs": [],
   "source": [
    "# ── page-number helpers ───────────────────────────────────────────────\n",
    "def pdf_page_no(zero_based: int) -> int:\n",
    "    \"\"\"Human page number shown on the PDF (starts at 1).\"\"\"\n",
    "    return zero_based + 1\n",
    "\n",
    "def page_no_str(zero_based: int) -> str:\n",
    "    \"\"\"Formatted page label you can embed in filenames, e.g. 0 → 'p001'.\"\"\"\n",
    "    return f\"p{zero_based + 1:03d}\"\n",
    "# ---------------------------------------------------------------------\n"
   ]
  },
  {
   "cell_type": "code",
   "execution_count": 52,
   "metadata": {},
   "outputs": [],
   "source": [
    "# 1 · utils ------------------------------------------------------\n",
    "def ensure_dirs():\n",
    "    for sub in [\"images\", \"text\", \"tables\", \"page_images\"]:\n",
    "        (BASE_DIR / sub).mkdir(parents=True, exist_ok=True)\n",
    "\n",
    "def save_txt(fname: Path, txt: str):\n",
    "    fname.write_text(txt, encoding=\"utf-8\")\n",
    "\n",
    "def save_pixmap(pix: fitz.Pixmap, fname: Path):\n",
    "    if pix.alpha or pix.colorspace.n > 3:\n",
    "        pix = fitz.Pixmap(fitz.csRGB, pix)\n",
    "    pix.save(fname)\n"
   ]
  },
  {
   "cell_type": "code",
   "execution_count": 53,
   "metadata": {},
   "outputs": [],
   "source": [
    "from io import BytesIO\n",
    "from PIL import Image\n",
    "import imagehash\n",
    "\n",
    "# Global trackers\n",
    "HASH_COUNTS = {}\n",
    "SKIP_HASHES = set()\n",
    "\n",
    "def pixmap_to_pil(pix: fitz.Pixmap) -> Image.Image:\n",
    "    \"\"\"Convert PyMuPDF pixmap to PIL Image, with fallback for broken samples\"\"\"\n",
    "    try:\n",
    "        # Convert via bytes safely\n",
    "        mode = \"RGB\" if pix.n < 5 else \"RGBA\"\n",
    "        img_bytes = pix.tobytes(output=\"ppm\")  # robust fallback\n",
    "        return Image.open(BytesIO(img_bytes)).convert(mode)\n",
    "    except Exception as e:\n",
    "        print(f\"[warn] pixmap_to_pil failed: {e}\")\n",
    "        return None\n",
    "\n",
    "\n",
    "def should_skip_pil_image(pil_img: Image.Image, min_repeat: int = 3) -> bool:\n",
    "    \"\"\"Decide whether to skip an image based on perceptual hash frequency\"\"\"\n",
    "    img_hash = str(imagehash.phash(pil_img))\n",
    "    if img_hash in SKIP_HASHES:\n",
    "        return True\n",
    "    HASH_COUNTS[img_hash] = HASH_COUNTS.get(img_hash, 0) + 1\n",
    "    if HASH_COUNTS[img_hash] >= min_repeat:\n",
    "        SKIP_HASHES.add(img_hash)\n",
    "        return True\n",
    "    return False\n"
   ]
  },
  {
   "cell_type": "code",
   "execution_count": 11,
   "metadata": {},
   "outputs": [],
   "source": [
    "WARNING_TAGS = (\"WARNING\", \"CAUTION\", \"DANGER\", \"NOTE\", \"STEP\")\n",
    "def tag_special_chunks(txt:str)->str:\n",
    "    for tag in WARNING_TAGS:\n",
    "        if txt.upper().startswith(tag):\n",
    "            return f\"[{tag}] {txt}\"\n",
    "    return txt"
   ]
  },
  {
   "cell_type": "code",
   "execution_count": 54,
   "metadata": {},
   "outputs": [],
   "source": [
    "# from pathlib import Path\n",
    "import base64, mimetypes, uuid, os, time\n",
    "# from tqdm import tqdm\n",
    "\n",
    "import openai                     # v1.14+\n",
    "from langchain_openai import OpenAIEmbeddings\n",
    "from pinecone import Pinecone, ServerlessSpec\n",
    "\n",
    "# openai.api_key      = os.getenv(\"OPENAI_API_KEY\")\n",
    "# PINECONE_API_KEY    = os.getenv(\"PINECONE_API_KEY\")\n",
    "\n",
    "# ── embedding & chat models (adjust if your account differs) ────────────\n",
    "EMBED_MODEL = \"text-embedding-3-large\"    # 1536-D, GPT-4 family\n",
    "CHAT_MODEL  = \"gpt-4o-mini\"               # vision-capable\n",
    "\n",
    "embeddings = OpenAIEmbeddings(model=EMBED_MODEL)\n",
    "\n",
    "PINECONE_API_KEY = os.getenv(\"PINECONE_API_KEY\")  # keep this\n",
    "\n",
    "pc = Pinecone(api_key=PINECONE_API_KEY)\n",
    "index_name = \"multimodal-manual\"\n",
    "\n",
    "if index_name not in pc.list_indexes().names():\n",
    "    pc.create_index(\n",
    "        name=index_name,\n",
    "        dimension=1536,  # or embeddings.embedding_dimension\n",
    "        metric=\"cosine\",\n",
    "        spec=ServerlessSpec(cloud=\"aws\", region=\"us-east-1\")\n",
    "    )\n",
    "\n",
    "index = pc.Index(index_name)\n"
   ]
  },
  {
   "cell_type": "code",
   "execution_count": 55,
   "metadata": {},
   "outputs": [],
   "source": [
    "def img_to_data_uri(path: Path) -> str:\n",
    "    mime, _ = mimetypes.guess_type(path)\n",
    "    b64 = base64.b64encode(path.read_bytes()).decode()\n",
    "    return f\"data:{mime or 'image/png'};base64,{b64}\""
   ]
  },
  {
   "cell_type": "markdown",
   "metadata": {},
   "source": [
    "Table Extraction begins\n"
   ]
  },
  {
   "cell_type": "code",
   "execution_count": 56,
   "metadata": {},
   "outputs": [],
   "source": [
    "# ── put this near the other helpers, ABOVE extract_pdf ──────────────────\n",
    "import camelot\n",
    "import warnings\n",
    "from pathlib import Path\n",
    "\n",
    "def harvest_tables(pdf_path: Path, page_no: int, **camelot_kw):\n",
    "    \"\"\"\n",
    "    Return a list of Camelot tables (can be empty) extracted from *one* page.\n",
    "    Silences the noisy 'No tables found' warning and handles None-returns.\n",
    "    \"\"\"\n",
    "    results = []\n",
    "\n",
    "    # ① try lattice first (good for ruled tables)\n",
    "    with warnings.catch_warnings():\n",
    "        warnings.simplefilter(\"ignore\", category=UserWarning)\n",
    "        try:\n",
    "            latt = camelot.read_pdf(\n",
    "                str(pdf_path),\n",
    "                pages=str(page_no),\n",
    "                flavor=\"lattice\",\n",
    "                **camelot_kw\n",
    "            )\n",
    "            results.extend(t for t in latt)     # t is already a Table object\n",
    "        except Exception as e:\n",
    "            print(f\"[warn] Camelot lattice failed p{page_no}: {e}\")\n",
    "\n",
    "    # ② fallback to stream (good for whitespace-separated tables)\n",
    "    if not results:                       # only try if lattice found nothing\n",
    "        with warnings.catch_warnings():\n",
    "            warnings.simplefilter(\"ignore\", category=UserWarning)\n",
    "            try:\n",
    "                stre = camelot.read_pdf(\n",
    "                    str(pdf_path),\n",
    "                    pages=str(page_no),\n",
    "                    flavor=\"stream\",\n",
    "                    **camelot_kw\n",
    "                )\n",
    "                results.extend(t for t in stre)\n",
    "            except Exception as e:\n",
    "                print(f\"[warn] Camelot stream failed p{page_no}: {e}\")\n",
    "\n",
    "    return results\n"
   ]
  },
  {
   "cell_type": "code",
   "execution_count": 57,
   "metadata": {},
   "outputs": [],
   "source": [
    "def is_bad_table(rows, min_cols=2, min_rows=3, empty_thresh=0.3):\n",
    "    if len(rows) < min_rows:\n",
    "        return True\n",
    "    num_cols = max(len(r) for r in rows)\n",
    "    if num_cols < min_cols:\n",
    "        return True\n",
    "    total = sum(len(r) for r in rows)\n",
    "    empty = sum(1 for r in rows for c in r if not c.strip())\n",
    "    return (empty / total) > empty_thresh\n"
   ]
  },
  {
   "cell_type": "code",
   "execution_count": 58,
   "metadata": {},
   "outputs": [],
   "source": [
    "def looks_like_table(text: str, min_rows=3, min_cols=2, col_variance=1):\n",
    "    lines = [line.strip() for line in text.strip().splitlines() if len(line.strip()) > 10]\n",
    "    \n",
    "    if len(lines) < min_rows:\n",
    "        return False\n",
    "\n",
    "    col_counts = []\n",
    "\n",
    "    for line in lines:\n",
    "        if \"|\" in line:\n",
    "            cols = line.split(\"|\")\n",
    "        elif \"\\t\" in line:\n",
    "            cols = line.split(\"\\t\")\n",
    "        else:\n",
    "            cols = re.split(r\"\\s{2,}\", line)\n",
    "\n",
    "        num_cols = len([c for c in cols if c.strip()])\n",
    "        if num_cols >= min_cols:\n",
    "            col_counts.append(num_cols)\n",
    "\n",
    "    if len(col_counts) < min_rows:\n",
    "        return False\n",
    "\n",
    "    # Check for consistent column count (tolerance ±1)\n",
    "    most_common = max(set(col_counts), key=col_counts.count)\n",
    "    consistent_rows = sum(abs(nc - most_common) <= col_variance for nc in col_counts)\n",
    "\n",
    "    return consistent_rows >= min_rows\n"
   ]
  },
  {
   "cell_type": "code",
   "execution_count": 59,
   "metadata": {},
   "outputs": [],
   "source": [
    "from PIL import Image\n",
    "\n",
    "def classify_and_format_tables(ocr_items, model=\"gpt-4o\", max_tokens=1000):\n",
    "    formatted_items = []\n",
    "    for item in ocr_items:\n",
    "        table_text = item[\"text\"]\n",
    "        path = Path(item[\"path\"])\n",
    "\n",
    "        classify_prompt = (\n",
    "            \"Does the following text represent a structured table with rows and columns \"\n",
    "            \"(e.g., part numbers and descriptions)? Answer only 'Yes' or 'No'.\\n\\n\"\n",
    "            + table_text\n",
    "        )\n",
    "\n",
    "        try:\n",
    "            classification = openai.chat.completions.create(\n",
    "                model=model,\n",
    "                messages=[{\"role\": \"user\", \"content\": classify_prompt}],\n",
    "                temperature=0,\n",
    "                max_tokens=10\n",
    "            ).choices[0].message.content.strip().lower()\n",
    "\n",
    "            if classification == \"yes\":\n",
    "                format_prompt = (\n",
    "                    \"Please format the following OCR-extracted text into a structured table \"\n",
    "                    \"in markdown format. Infer column headers if not present. \"\n",
    "                    \"Fix common OCR issues like broken part numbers or header noise. Part no. do not start with numbers. Ignore numbers in the beginning of part no. as there might be improper OCR extraction.\"\n",
    "                    \"If possible try to give a name for the table based on any relevant information available, which might be useful while retrieving relevant chunks\\n\\n\"\n",
    "                    + table_text\n",
    "                )\n",
    "\n",
    "                formatted = openai.chat.completions.create(\n",
    "                    model=model,\n",
    "                    messages=[{\"role\": \"user\", \"content\": format_prompt}],\n",
    "                    temperature=0.2,\n",
    "                    max_tokens=max_tokens\n",
    "                ).choices[0].message.content.strip()\n",
    "\n",
    "                formatted_path = path.with_suffix(\".formatted.md\")\n",
    "                formatted_path.write_text(formatted, encoding=\"utf-8\")\n",
    "\n",
    "                formatted_items.append({\n",
    "                    \"page\": item[\"page\"],\n",
    "                    \"original_path\": str(path),\n",
    "                    \"formatted_path\": str(formatted_path),\n",
    "                    \"formatted_text\": formatted\n",
    "                })\n",
    "\n",
    "                # ✅ delete original noisy OCR .txt\n",
    "                if path.exists():\n",
    "                    path.unlink()\n",
    "\n",
    "            else:\n",
    "                print(f\"❌ Not a table (deleted): {path.name}\")\n",
    "                if path.exists():\n",
    "                    path.unlink()\n",
    "\n",
    "        except Exception as e:\n",
    "            print(f\"[!] Error processing table on page {item['page']}: {e}\")\n",
    "            continue\n",
    "\n",
    "    return formatted_items\n"
   ]
  },
  {
   "cell_type": "code",
   "execution_count": 60,
   "metadata": {},
   "outputs": [],
   "source": [
    "def extract_headings(words):\n",
    "    \"\"\"Heuristic: return candidate headings by largest font sizes (based on height).\"\"\"\n",
    "    if not words: \n",
    "        return []\n",
    "    # Estimate font size from height\n",
    "    for w in words:\n",
    "        w[\"size\"] = round(w[\"bottom\"] - w[\"top\"], 2)\n",
    "\n",
    "    # Pick largest 2-3 sizes as likely headings\n",
    "    sizes = sorted({w[\"size\"] for w in words}, reverse=True)[:3]\n",
    "    headings = [w for w in words if w[\"size\"] in sizes and w[\"text\"].strip()]\n",
    "\n",
    "    # Group into lines\n",
    "    result = []\n",
    "    line = \"\"\n",
    "    y_prev = None\n",
    "    for w in headings:\n",
    "        if y_prev is None or abs(w[\"top\"] - y_prev) < 2:\n",
    "            line += \" \" + w[\"text\"]\n",
    "        else:\n",
    "            result.append(line.strip())\n",
    "            line = w[\"text\"]\n",
    "        y_prev = w[\"top\"]\n",
    "    if line.strip(): \n",
    "        result.append(line.strip())\n",
    "    return result\n"
   ]
  },
  {
   "cell_type": "code",
   "execution_count": 61,
   "metadata": {},
   "outputs": [],
   "source": [
    "############ New Captioning Logic #############\n",
    "\n",
    "from pathlib import Path          # <-- add (if not already imported)\n",
    "import hashlib                    # <-- add\n",
    "import json\n",
    "\n",
    "caption_cache_file = Path(\"captions_cache.json\")      # make it a Path\n",
    "try:\n",
    "    caption_cache: dict[str, str] = json.loads(caption_cache_file.read_text())\n",
    "except FileNotFoundError:\n",
    "    caption_cache = {}\n",
    "except json.JSONDecodeError:          \n",
    "    print(\"[warn] captions cache is broken – recreating it\")\n",
    "    caption_cache = {}\n",
    "\n",
    "def _image_hash(path: Path) -> str:\n",
    "    \"\"\"SHA-1 of the *bytes* – fast and collision-safe for our use-case.\"\"\"\n",
    "    return hashlib.sha1(path.read_bytes()).hexdigest()\n",
    "\n",
    "def caption_image_cached(path: Path, **kwargs) -> str:\n",
    "    \"\"\"\n",
    "    Same API as before, but now:\n",
    "      • key = hash(image_bytes)\n",
    "      • writes back to captions_cache.json automatically\n",
    "    \"\"\"\n",
    "    key = _image_hash(path)\n",
    "\n",
    "    # 1) already cached?  → return without hitting the model\n",
    "    if key in caption_cache:\n",
    "        return caption_cache[key]\n",
    "\n",
    "    # 2) otherwise call GPT (your original helper)\n",
    "    caption = caption_image(path, **kwargs)\n",
    "    print(\"Caption:\", caption)\n",
    "\n",
    "    # 3) persist\n",
    "    caption_cache[key] = caption\n",
    "    caption_cache_file.write_text(\n",
    "        json.dumps(caption_cache, indent=2, ensure_ascii=False)\n",
    "    )\n",
    "    return caption"
   ]
  },
  {
   "cell_type": "code",
   "execution_count": 62,
   "metadata": {},
   "outputs": [],
   "source": [
    "#################### image extraction using GPT Begins #########################\n",
    "def load_text_chunks(text_dir: Path) -> dict:\n",
    "    pages = defaultdict(list)\n",
    "    for file in text_dir.glob(\"doc2_p*_txt*.txt\"):\n",
    "        match = re.search(r\"doc2_p(\\d+)_txt\\d+.txt\", file.name)\n",
    "        if match:\n",
    "            page = int(match.group(1))\n",
    "            pages[page].append(file.read_text().strip())\n",
    "    return pages\n",
    "\n",
    "def build_context_for_page(pages: dict, page: int, max_back: int = 3) -> str:\n",
    "    context = []\n",
    "    # 1. Include current page text first (most important)\n",
    "    context.extend(pages.get(page, []))\n",
    "\n",
    "    # 2. Then include up to `max_back` previous pages (heading/snippet support)\n",
    "    for p in reversed(range(max(0, page - max_back), page)):\n",
    "        context.extend(pages.get(p, []))\n",
    "\n",
    "    return \"\\n\\n\".join(context)\n",
    "\n",
    "\n",
    "def build_metadata_prompt(image_filename: str, context: str) -> str:\n",
    "    return f\"\"\"\n",
    "You are analyzing a page from a machine user manual that includes an illustration named {image_filename}.\n",
    "\n",
    "From the given context, extract the following metadata:\n",
    "\n",
    "1. Section header: The most recent section heading (e.g., \"2.1 Technical Warnings\").\n",
    "2. Figure title: The full label like \"Figure 5 – Speed Adjustment Panel\", if present.\n",
    "3. Snippet: A 200–400 character text snippet surrounding the figure title.\n",
    "4. Purpose: What the figure illustrates and why it matters in the manual (one sentence).\n",
    "\n",
    "Respond in the following structured format:\n",
    "\n",
    "Section header: ...\n",
    "Figure title: ...\n",
    "Snippet: ...\n",
    "Purpose: ...\n",
    "\"\"\"\n",
    "\n",
    "def caption_with_gpt_vision(image_path: Path, context: str) -> dict:\n",
    "    data_uri = img_to_data_uri(image_path)\n",
    "    prompt = build_metadata_prompt(image_path.name, context)\n",
    "\n",
    "    response = openai.chat.completions.create(\n",
    "        model=\"gpt-4o\",\n",
    "        messages=[{\n",
    "            \"role\": \"user\",\n",
    "            \"content\": [\n",
    "                {\"type\": \"text\", \"text\": prompt},\n",
    "                {\"type\": \"image_url\", \"image_url\": {\"url\": data_uri}},\n",
    "                {\"type\": \"text\", \"text\": context[:10000]}\n",
    "            ]\n",
    "        }],\n",
    "        max_tokens=300\n",
    "    )\n",
    "\n",
    "    raw = response.choices[0].message.content.strip()\n",
    "    metadata = {}\n",
    "\n",
    "    # Parse GPT response into structured dict\n",
    "    for line in raw.splitlines():\n",
    "        if \":\" in line:\n",
    "            k, v = line.split(\":\", 1)\n",
    "            metadata[k.strip()] = v.strip()\n",
    "\n",
    "    return metadata\n",
    "\n",
    "\n",
    "pages = load_text_chunks(Path(\"data/text\"))\n",
    "\n",
    "metadata_cache_file = Path(\"image_metadata_cache.json\")\n",
    "if metadata_cache_file.exists():\n",
    "    metadata_cache = json.loads(metadata_cache_file.read_text(encoding=\"utf-8\"))\n",
    "else:\n",
    "    metadata_cache = {}"
   ]
  },
  {
   "cell_type": "code",
   "execution_count": 63,
   "metadata": {},
   "outputs": [],
   "source": [
    "def extract_pdf_pass1(pdf_path: Path) -> list[dict]:\n",
    "    ensure_dirs()\n",
    "    splitter = RecursiveCharacterTextSplitter(chunk_size=700, chunk_overlap=200)\n",
    "    items = []\n",
    "    doc = fitz.open(pdf_path)\n",
    "    HASH_COUNTS.clear()\n",
    "    SKIP_HASHES.clear()\n",
    "\n",
    "    for page_idx in tqdm(range(len(doc)), desc=\"Pass 1: Extracting text/tables/images\"):\n",
    "        page = doc[page_idx]\n",
    "        raw_text = page.get_text(\"text\", sort=True).strip()\n",
    "        caption_lines = []\n",
    "        current_h = \"\"\n",
    "\n",
    "        try:\n",
    "            with pdfplumber.open(pdf_path) as plumber_pdf:\n",
    "                plumber_page = plumber_pdf.pages[page_idx]\n",
    "                pl_words = plumber_page.extract_words()\n",
    "                headings = extract_headings(pl_words)\n",
    "                current_h = headings[0] if headings else \"\"\n",
    "        except Exception as e:\n",
    "            print(f\"[warn] Heading extraction failed on page {page_idx}: {e}\")\n",
    "\n",
    "        # OCR fallback\n",
    "        if len(raw_text) < 20:\n",
    "            ocr_img = page.get_pixmap(matrix=fitz.Matrix(2, 2))\n",
    "            ocr_txt = pytesseract.image_to_string(Image.open(BytesIO(ocr_img.tobytes()))).strip()\n",
    "            if len(ocr_txt) > 20:\n",
    "                raw_text = ocr_txt\n",
    "\n",
    "        # Save text chunks\n",
    "        for i, chunk in enumerate(splitter.split_text(raw_text)):\n",
    "            page_lbl = page_no_str(page_idx)\n",
    "            f = BASE_DIR / \"text\" / f\"{pdf_path.stem}_{page_lbl}_txt{i:02d}.txt\"\n",
    "            save_txt(f, chunk)\n",
    "            items.append({\n",
    "                \"page\": pdf_page_no(page_idx),\n",
    "                \"page0\": page_idx,\n",
    "                \"type\": \"text\",\n",
    "                \"text\": chunk,\n",
    "                \"section\": current_h,\n",
    "                \"path\": str(f)\n",
    "            })\n",
    "\n",
    "        # Table extraction\n",
    "        tables = harvest_tables(pdf_path, page_idx + 1)\n",
    "        for t_idx, table in enumerate(tables):\n",
    "            if hasattr(table, \"df\"):\n",
    "                rows = table.df.values.tolist()\n",
    "            elif hasattr(table, \"values\"):\n",
    "                rows = table.values.tolist()\n",
    "            else:\n",
    "                rows = table\n",
    "\n",
    "            cleaned = []\n",
    "            for row in rows:\n",
    "                row = [str(c).strip().replace(\"\\n\", \" \") if c else \"\" for c in row]\n",
    "                if any(cell for cell in row):\n",
    "                    cleaned.append(row)\n",
    "\n",
    "            reconstructed = []\n",
    "            current_row = None\n",
    "            for row in cleaned:\n",
    "                if row[0].strip():\n",
    "                    if current_row:\n",
    "                        reconstructed.append(current_row)\n",
    "                    current_row = row\n",
    "                else:\n",
    "                    if current_row:\n",
    "                        for i in range(len(row)):\n",
    "                            if row[i].strip():\n",
    "                                current_row[i] += \" \" + row[i]\n",
    "            if current_row:\n",
    "                reconstructed.append(current_row)\n",
    "\n",
    "            if is_bad_table(reconstructed):\n",
    "                print(f\"[!] Table {t_idx} on page {page_idx} may be bad — saving OCR fallback\")\n",
    "                pix = page.get_pixmap(matrix=fitz.Matrix(2, 2))\n",
    "                img = Image.open(BytesIO(pix.tobytes()))\n",
    "                ocr_text = pytesseract.image_to_string(img)\n",
    "                page_lbl = page_no_str(page_idx)\n",
    "                fallback_path = BASE_DIR / \"tables\" / f\"{pdf_path.stem}_{page_lbl}_tbl{t_idx:02d}_ocr.txt\"\n",
    "                save_txt(fallback_path, ocr_text)\n",
    "                looks_like = looks_like_table(ocr_text)\n",
    "                items.append({\n",
    "                    \"page\": pdf_page_no(page_idx),\n",
    "                    \"page0\": page_idx,\n",
    "                    \"type\": \"table\",\n",
    "                    \"text\": ocr_text,\n",
    "                    \"path\": str(fallback_path),\n",
    "                    \"section\": current_h,\n",
    "                    \"extracted_with\": \"ocr\",\n",
    "                    \"ocr_looks_like_table\": looks_like\n",
    "                })\n",
    "                continue\n",
    "\n",
    "            table_text = \"\\n\".join([\" | \".join(row) for row in reconstructed])\n",
    "            page_lbl = page_no_str(page_idx)\n",
    "            f = BASE_DIR / \"tables\" / f\"{pdf_path.stem}_{page_lbl}_tbl{t_idx:02d}.txt\"\n",
    "            save_txt(f, table_text)\n",
    "            items.append({\n",
    "                \"page\": pdf_page_no(page_idx),\n",
    "                \"page0\": page_idx,\n",
    "                \"type\": \"table\",\n",
    "                \"text\": table_text,\n",
    "                \"path\": str(f),\n",
    "                \"section\": current_h\n",
    "            })\n",
    "\n",
    "        # Image extraction (only saving image paths, no GPT or context)\n",
    "        # ---------- Image logic ----------\n",
    "        page_area = page.rect.width * page.rect.height\n",
    "        full_page_diagram = False\n",
    "\n",
    "        with pdfplumber.open(pdf_path) as plumber_pdf:\n",
    "            plumber_page = plumber_pdf.pages[page_idx]\n",
    "            imgs = plumber_page.images\n",
    "\n",
    "        if not imgs:\n",
    "            continue  # nothing to extract\n",
    "\n",
    "        # Filter out logos/small images\n",
    "        large_imgs = [img for img in imgs if (img[\"width\"] * img[\"height\"]) / page_area > 0.10]\n",
    "        composite_area = sum(img[\"width\"] * img[\"height\"] for img in large_imgs if (img[\"width\"] * img[\"height\"]) / page_area > 0.15)\n",
    "\n",
    "        if composite_area / page_area > 0.40:\n",
    "            full_page_diagram = True\n",
    "\n",
    "        if full_page_diagram:\n",
    "            pix = page.get_pixmap()  # no zoom\n",
    "            pil_img = pixmap_to_pil(pix)\n",
    "            if pil_img and should_skip_pil_image(pil_img):\n",
    "                print(f\"🗑️ Skipped full-page repetitive image on page {page_idx}\")\n",
    "            else:\n",
    "                page_lbl = page_no_str(page_idx)\n",
    "                f = BASE_DIR / \"page_images\" / f\"{pdf_path.stem}_{page_lbl}_diag.png\"\n",
    "                save_pixmap(pix, f)\n",
    "                items.append({\n",
    "                    \"page\": pdf_page_no(page_idx),\n",
    "                    \"page0\": page_idx,\n",
    "                    \"type\": \"page\",\n",
    "                    \"path\": str(f),\n",
    "                    \"text\": \"\",  # to be captioned in pass 2\n",
    "                    \"section\": current_h\n",
    "                })\n",
    "            print(f\"✅ Detected composite diagram on page {page_idx} covering {round(composite_area / page_area * 100, 2)}%\")\n",
    "        else:\n",
    "            for idx, img in enumerate(page.get_images(full=True)):\n",
    "                xref = img[0]\n",
    "                pix = fitz.Pixmap(doc, xref)\n",
    "\n",
    "                img_area = pix.width * pix.height\n",
    "                percent = img_area / page_area * 100\n",
    "\n",
    "                log_prefix = f\"[Page {page_idx} | Image {idx} | xref {xref}]\"\n",
    "                page_lbl = page_no_str(page_idx)\n",
    "                fname = BASE_DIR / \"images\" / f\"{pdf_path.stem}_{page_lbl}_img{idx:02d}_{xref}.png\"\n",
    "\n",
    "\n",
    "                # Size-based skip\n",
    "                if percent < 1.0:\n",
    "                    print(f\"🗑️ Skipped small image → {fname.name} ({round(percent, 2)}% of page)\")\n",
    "                    continue\n",
    "\n",
    "                # Absolute pixel skip\n",
    "                if pix.width < 50 or pix.height < 50:\n",
    "                    print(f\"🗑️ Skipped (tiny pixel size) → {fname.name} ({pix.width}×{pix.height})\")\n",
    "                    continue\n",
    "\n",
    "                # # Perceptual hash deduplication\n",
    "                pil_img = pixmap_to_pil(pix)\n",
    "                if pil_img and should_skip_pil_image(pil_img):\n",
    "                    print(f\"🗑️ {log_prefix} Skipped (duplicate detected via hash)\")\n",
    "                    continue\n",
    "\n",
    "                # Otherwise, save\n",
    "                print(f\"✅ {fname.name} Saving image {round(percent, 2)}\")\n",
    "\n",
    "                page_lbl = page_no_str(page_idx)\n",
    "                fname = BASE_DIR / \"images\" / f\"{pdf_path.stem}_{page_lbl}_img{idx:02d}_{xref}.png\"\n",
    "                save_pixmap(pix, fname)\n",
    "\n",
    "                items.append({\n",
    "                    \"page\": pdf_page_no(page_idx),\n",
    "                    \"page0\": page_idx,\n",
    "                    \"type\": \"image\",\n",
    "                    \"path\": str(fname),\n",
    "                    \"section\": current_h,\n",
    "                    \"text\": \"\"  # will be populated in pass 2\n",
    "                })\n",
    "\n",
    "\n",
    "    print(f\"✅ Finished pass 1 – extracted {len(items)} items\")\n",
    "    return items\n"
   ]
  },
  {
   "cell_type": "code",
   "execution_count": 53,
   "metadata": {},
   "outputs": [],
   "source": [
    "# # At the top of extract_pdf_pass1\n",
    "# HASH_COUNTS.clear()\n",
    "# SKIP_HASHES.clear()\n"
   ]
  },
  {
   "cell_type": "code",
   "execution_count": 64,
   "metadata": {},
   "outputs": [
    {
     "name": "stderr",
     "output_type": "stream",
     "text": [
      "Pass 1: Extracting text/tables/images:   0%|          | 0/84 [00:00<?, ?it/s]"
     ]
    },
    {
     "name": "stdout",
     "output_type": "stream",
     "text": [
      "[!] Table 0 on page 0 may be bad — saving OCR fallback\n"
     ]
    },
    {
     "name": "stderr",
     "output_type": "stream",
     "text": [
      "Pass 1: Extracting text/tables/images:   1%|          | 1/84 [00:01<01:35,  1.16s/it]"
     ]
    },
    {
     "name": "stdout",
     "output_type": "stream",
     "text": [
      "✅ doc2_p001_img00_515.png Saving image 60.11\n",
      "✅ doc2_p001_img01_516.png Saving image 30.32\n",
      "[!] Table 0 on page 1 may be bad — saving OCR fallback\n"
     ]
    },
    {
     "name": "stderr",
     "output_type": "stream",
     "text": [
      "Pass 1: Extracting text/tables/images:   2%|▏         | 2/84 [00:02<01:35,  1.16s/it]"
     ]
    },
    {
     "name": "stdout",
     "output_type": "stream",
     "text": [
      "✅ doc2_p002_img00_2.png Saving image 26.14\n",
      "✅ doc2_p002_img01_5.png Saving image 2.53\n",
      "✅ doc2_p002_img02_8.png Saving image 1.21\n",
      "[!] Table 0 on page 2 may be bad — saving OCR fallback\n"
     ]
    },
    {
     "name": "stderr",
     "output_type": "stream",
     "text": [
      "Pass 1: Extracting text/tables/images:   4%|▎         | 3/84 [00:03<01:47,  1.33s/it]"
     ]
    },
    {
     "name": "stdout",
     "output_type": "stream",
     "text": [
      "✅ doc2_p003_img00_5.png Saving image 2.53\n",
      "✅ doc2_p003_img01_2.png Saving image 26.14\n",
      "[!] Table 0 on page 3 may be bad — saving OCR fallback\n"
     ]
    },
    {
     "name": "stderr",
     "output_type": "stream",
     "text": [
      "Pass 1: Extracting text/tables/images:   5%|▍         | 4/84 [00:05<02:03,  1.55s/it]"
     ]
    },
    {
     "name": "stdout",
     "output_type": "stream",
     "text": [
      "🗑️ [Page 3 | Image 0 | xref 2] Skipped (duplicate detected via hash)\n",
      "🗑️ [Page 3 | Image 1 | xref 5] Skipped (duplicate detected via hash)\n",
      "[!] Table 0 on page 4 may be bad — saving OCR fallback\n"
     ]
    },
    {
     "name": "stderr",
     "output_type": "stream",
     "text": [
      "Pass 1: Extracting text/tables/images:   6%|▌         | 5/84 [00:07<02:03,  1.56s/it]"
     ]
    },
    {
     "name": "stdout",
     "output_type": "stream",
     "text": [
      "🗑️ [Page 4 | Image 0 | xref 5] Skipped (duplicate detected via hash)\n",
      "🗑️ [Page 4 | Image 1 | xref 2] Skipped (duplicate detected via hash)\n",
      "[!] Table 0 on page 5 may be bad — saving OCR fallback\n"
     ]
    },
    {
     "name": "stderr",
     "output_type": "stream",
     "text": [
      "Pass 1: Extracting text/tables/images:   7%|▋         | 6/84 [00:08<01:49,  1.41s/it]"
     ]
    },
    {
     "name": "stdout",
     "output_type": "stream",
     "text": [
      "🗑️ [Page 5 | Image 0 | xref 2] Skipped (duplicate detected via hash)\n",
      "🗑️ [Page 5 | Image 1 | xref 5] Skipped (duplicate detected via hash)\n",
      "✅ doc2_p006_img02_8.png Saving image 1.21\n",
      "✅ doc2_p006_img03_18.png Saving image 1.55\n",
      "[!] Table 0 on page 6 may be bad — saving OCR fallback\n",
      "[!] Table 1 on page 6 may be bad — saving OCR fallback\n",
      "[!] Table 2 on page 6 may be bad — saving OCR fallback\n"
     ]
    },
    {
     "name": "stderr",
     "output_type": "stream",
     "text": [
      "Pass 1: Extracting text/tables/images:   8%|▊         | 7/84 [00:12<02:57,  2.30s/it]"
     ]
    },
    {
     "name": "stdout",
     "output_type": "stream",
     "text": [
      "🗑️ [Page 6 | Image 0 | xref 5] Skipped (duplicate detected via hash)\n",
      "🗑️ [Page 6 | Image 1 | xref 2] Skipped (duplicate detected via hash)\n",
      "🗑️ [Page 6 | Image 2 | xref 8] Skipped (duplicate detected via hash)\n",
      "[!] Table 0 on page 7 may be bad — saving OCR fallback\n",
      "[!] Table 1 on page 7 may be bad — saving OCR fallback\n"
     ]
    },
    {
     "name": "stderr",
     "output_type": "stream",
     "text": [
      "Pass 1: Extracting text/tables/images:  10%|▉         | 8/84 [00:15<03:19,  2.63s/it]"
     ]
    },
    {
     "name": "stdout",
     "output_type": "stream",
     "text": [
      "🗑️ [Page 7 | Image 0 | xref 2] Skipped (duplicate detected via hash)\n",
      "🗑️ [Page 7 | Image 1 | xref 5] Skipped (duplicate detected via hash)\n"
     ]
    },
    {
     "name": "stderr",
     "output_type": "stream",
     "text": [
      "Pass 1: Extracting text/tables/images:  11%|█         | 9/84 [00:16<02:32,  2.03s/it]"
     ]
    },
    {
     "name": "stdout",
     "output_type": "stream",
     "text": [
      "🗑️ [Page 8 | Image 0 | xref 5] Skipped (duplicate detected via hash)\n",
      "🗑️ [Page 8 | Image 1 | xref 2] Skipped (duplicate detected via hash)\n",
      "🗑️ [Page 8 | Image 2 | xref 8] Skipped (duplicate detected via hash)\n"
     ]
    },
    {
     "name": "stderr",
     "output_type": "stream",
     "text": [
      "Pass 1: Extracting text/tables/images:  12%|█▏        | 10/84 [00:17<01:55,  1.56s/it]"
     ]
    },
    {
     "name": "stdout",
     "output_type": "stream",
     "text": [
      "🗑️ [Page 9 | Image 0 | xref 2] Skipped (duplicate detected via hash)\n",
      "🗑️ [Page 9 | Image 1 | xref 5] Skipped (duplicate detected via hash)\n",
      "[!] Table 0 on page 10 may be bad — saving OCR fallback\n"
     ]
    },
    {
     "name": "stderr",
     "output_type": "stream",
     "text": [
      "Pass 1: Extracting text/tables/images:  13%|█▎        | 11/84 [00:18<01:43,  1.42s/it]"
     ]
    },
    {
     "name": "stdout",
     "output_type": "stream",
     "text": [
      "🗑️ [Page 10 | Image 0 | xref 5] Skipped (duplicate detected via hash)\n",
      "🗑️ [Page 10 | Image 1 | xref 2] Skipped (duplicate detected via hash)\n",
      "✅ doc2_p011_img02_18.png Saving image 1.55\n",
      "[!] Table 0 on page 11 may be bad — saving OCR fallback\n"
     ]
    },
    {
     "name": "stderr",
     "output_type": "stream",
     "text": [
      "Pass 1: Extracting text/tables/images:  14%|█▍        | 12/84 [00:19<01:37,  1.35s/it]"
     ]
    },
    {
     "name": "stdout",
     "output_type": "stream",
     "text": [
      "🗑️ [Page 11 | Image 0 | xref 2] Skipped (duplicate detected via hash)\n",
      "🗑️ [Page 11 | Image 1 | xref 5] Skipped (duplicate detected via hash)\n",
      "✅ doc2_p012_img02_32.png Saving image 25.64\n",
      "[!] Table 0 on page 12 may be bad — saving OCR fallback\n"
     ]
    },
    {
     "name": "stderr",
     "output_type": "stream",
     "text": [
      "Pass 1: Extracting text/tables/images:  15%|█▌        | 13/84 [00:20<01:31,  1.28s/it]"
     ]
    },
    {
     "name": "stdout",
     "output_type": "stream",
     "text": [
      "🗑️ [Page 12 | Image 0 | xref 5] Skipped (duplicate detected via hash)\n",
      "🗑️ [Page 12 | Image 1 | xref 2] Skipped (duplicate detected via hash)\n",
      "✅ doc2_p013_img02_515.png Saving image 60.11\n",
      "[!] Table 0 on page 13 may be bad — saving OCR fallback\n"
     ]
    },
    {
     "name": "stderr",
     "output_type": "stream",
     "text": [
      "Pass 1: Extracting text/tables/images:  17%|█▋        | 14/84 [00:22<01:38,  1.40s/it]"
     ]
    },
    {
     "name": "stdout",
     "output_type": "stream",
     "text": [
      "🗑️ [Page 13 | Image 0 | xref 2] Skipped (duplicate detected via hash)\n",
      "🗑️ [Page 13 | Image 1 | xref 5] Skipped (duplicate detected via hash)\n",
      "✅ doc2_p014_img02_38.png Saving image 26.01\n",
      "✅ doc2_p014_img03_40.png Saving image 4.01\n",
      "[!] Table 0 on page 14 may be bad — saving OCR fallback\n"
     ]
    },
    {
     "name": "stderr",
     "output_type": "stream",
     "text": [
      "Pass 1: Extracting text/tables/images:  18%|█▊        | 15/84 [00:23<01:39,  1.45s/it]"
     ]
    },
    {
     "name": "stdout",
     "output_type": "stream",
     "text": [
      "🗑️ [Page 14 | Image 0 | xref 5] Skipped (duplicate detected via hash)\n",
      "🗑️ [Page 14 | Image 1 | xref 2] Skipped (duplicate detected via hash)\n",
      "✅ doc2_p015_img02_44.png Saving image 5.95\n",
      "✅ doc2_p015_img03_46.png Saving image 25.51\n",
      "✅ doc2_p015_img04_48.png Saving image 19.58\n",
      "[!] Table 0 on page 15 may be bad — saving OCR fallback\n"
     ]
    },
    {
     "name": "stderr",
     "output_type": "stream",
     "text": [
      "Pass 1: Extracting text/tables/images:  19%|█▉        | 16/84 [00:25<01:34,  1.39s/it]"
     ]
    },
    {
     "name": "stdout",
     "output_type": "stream",
     "text": [
      "🗑️ [Page 15 | Image 0 | xref 2] Skipped (duplicate detected via hash)\n",
      "🗑️ [Page 15 | Image 1 | xref 5] Skipped (duplicate detected via hash)\n",
      "✅ doc2_p016_img02_52.png Saving image 30.78\n",
      "✅ doc2_p016_img03_54.png Saving image 8.89\n",
      "✅ doc2_p016_img04_56.png Saving image 16.85\n",
      "✅ doc2_p016_img05_58.png Saving image 29.86\n",
      "[!] Table 0 on page 16 may be bad — saving OCR fallback\n"
     ]
    },
    {
     "name": "stderr",
     "output_type": "stream",
     "text": [
      "Pass 1: Extracting text/tables/images:  20%|██        | 17/84 [00:26<01:34,  1.41s/it]"
     ]
    },
    {
     "name": "stdout",
     "output_type": "stream",
     "text": [
      "🗑️ [Page 16 | Image 0 | xref 5] Skipped (duplicate detected via hash)\n",
      "🗑️ [Page 16 | Image 1 | xref 2] Skipped (duplicate detected via hash)\n",
      "✅ doc2_p017_img02_62.png Saving image 28.69\n",
      "✅ doc2_p017_img03_64.png Saving image 68.42\n",
      "✅ doc2_p017_img04_66.png Saving image 66.24\n",
      "✅ doc2_p017_img05_68.png Saving image 66.15\n",
      "✅ doc2_p017_img06_70.png Saving image 65.32\n",
      "[!] Table 0 on page 17 may be bad — saving OCR fallback\n"
     ]
    },
    {
     "name": "stderr",
     "output_type": "stream",
     "text": [
      "Pass 1: Extracting text/tables/images:  21%|██▏       | 18/84 [00:27<01:30,  1.37s/it]"
     ]
    },
    {
     "name": "stdout",
     "output_type": "stream",
     "text": [
      "🗑️ [Page 17 | Image 0 | xref 2] Skipped (duplicate detected via hash)\n",
      "🗑️ [Page 17 | Image 1 | xref 5] Skipped (duplicate detected via hash)\n",
      "🗑️ Skipped small image → doc2_p018_img02_74.png (0.73% of page)\n",
      "🗑️ Skipped small image → doc2_p018_img03_76.png (0.59% of page)\n",
      "✅ doc2_p018_img04_78.png Saving image 1.63\n",
      "✅ doc2_p018_img05_80.png Saving image 15.7\n",
      "✅ doc2_p018_img06_82.png Saving image 17.13\n",
      "[!] Table 0 on page 18 may be bad — saving OCR fallback\n"
     ]
    },
    {
     "name": "stderr",
     "output_type": "stream",
     "text": [
      "Pass 1: Extracting text/tables/images:  23%|██▎       | 19/84 [00:29<01:27,  1.34s/it]"
     ]
    },
    {
     "name": "stdout",
     "output_type": "stream",
     "text": [
      "🗑️ [Page 18 | Image 0 | xref 5] Skipped (duplicate detected via hash)\n",
      "🗑️ [Page 18 | Image 1 | xref 2] Skipped (duplicate detected via hash)\n",
      "🗑️ [Page 18 | Image 2 | xref 18] Skipped (duplicate detected via hash)\n",
      "[!] Table 0 on page 19 may be bad — saving OCR fallback\n"
     ]
    },
    {
     "name": "stderr",
     "output_type": "stream",
     "text": [
      "Pass 1: Extracting text/tables/images:  24%|██▍       | 20/84 [00:30<01:22,  1.29s/it]"
     ]
    },
    {
     "name": "stdout",
     "output_type": "stream",
     "text": [
      "🗑️ [Page 19 | Image 0 | xref 2] Skipped (duplicate detected via hash)\n",
      "🗑️ [Page 19 | Image 1 | xref 5] Skipped (duplicate detected via hash)\n",
      "✅ doc2_p020_img02_88.png Saving image 11.36\n",
      "🗑️ [Page 19 | Image 3 | xref 8] Skipped (duplicate detected via hash)\n",
      "[!] Table 0 on page 20 may be bad — saving OCR fallback\n"
     ]
    },
    {
     "name": "stderr",
     "output_type": "stream",
     "text": [
      "Pass 1: Extracting text/tables/images:  25%|██▌       | 21/84 [00:31<01:15,  1.19s/it]"
     ]
    },
    {
     "name": "stdout",
     "output_type": "stream",
     "text": [
      "🗑️ [Page 20 | Image 0 | xref 5] Skipped (duplicate detected via hash)\n",
      "🗑️ [Page 20 | Image 1 | xref 2] Skipped (duplicate detected via hash)\n",
      "🗑️ [Page 20 | Image 2 | xref 18] Skipped (duplicate detected via hash)\n",
      "✅ doc2_p021_img03_93.png Saving image 6.34\n",
      "✅ doc2_p021_img04_95.png Saving image 6.96\n",
      "✅ doc2_p021_img05_97.png Saving image 6.59\n",
      "✅ doc2_p021_img06_99.png Saving image 6.52\n",
      "✅ doc2_p021_img07_101.png Saving image 6.92\n",
      "[!] Table 0 on page 21 may be bad — saving OCR fallback\n"
     ]
    },
    {
     "name": "stderr",
     "output_type": "stream",
     "text": [
      "Pass 1: Extracting text/tables/images:  26%|██▌       | 22/84 [00:33<01:26,  1.39s/it]"
     ]
    },
    {
     "name": "stdout",
     "output_type": "stream",
     "text": [
      "🗑️ [Page 21 | Image 0 | xref 2] Skipped (duplicate detected via hash)\n",
      "🗑️ [Page 21 | Image 1 | xref 5] Skipped (duplicate detected via hash)\n",
      "🗑️ [Page 21 | Image 2 | xref 18] Skipped (duplicate detected via hash)\n"
     ]
    },
    {
     "name": "stderr",
     "output_type": "stream",
     "text": [
      "Pass 1: Extracting text/tables/images:  27%|██▋       | 23/84 [00:33<01:07,  1.11s/it]"
     ]
    },
    {
     "name": "stdout",
     "output_type": "stream",
     "text": [
      "🗑️ [Page 22 | Image 0 | xref 5] Skipped (duplicate detected via hash)\n",
      "🗑️ [Page 22 | Image 1 | xref 2] Skipped (duplicate detected via hash)\n",
      "[!] Table 0 on page 23 may be bad — saving OCR fallback\n"
     ]
    },
    {
     "name": "stderr",
     "output_type": "stream",
     "text": [
      "Pass 1: Extracting text/tables/images:  29%|██▊       | 24/84 [00:35<01:17,  1.30s/it]"
     ]
    },
    {
     "name": "stdout",
     "output_type": "stream",
     "text": [
      "🗑️ [Page 23 | Image 0 | xref 2] Skipped (duplicate detected via hash)\n",
      "🗑️ [Page 23 | Image 1 | xref 5] Skipped (duplicate detected via hash)\n",
      "🗑️ [Page 23 | Image 2 | xref 8] Skipped (duplicate detected via hash)\n",
      "[!] Table 0 on page 24 may be bad — saving OCR fallback\n"
     ]
    },
    {
     "name": "stderr",
     "output_type": "stream",
     "text": [
      "Pass 1: Extracting text/tables/images:  30%|██▉       | 25/84 [00:36<01:15,  1.27s/it]"
     ]
    },
    {
     "name": "stdout",
     "output_type": "stream",
     "text": [
      "🗑️ [Page 24 | Image 0 | xref 5] Skipped (duplicate detected via hash)\n",
      "🗑️ [Page 24 | Image 1 | xref 2] Skipped (duplicate detected via hash)\n",
      "🗑️ [Page 24 | Image 2 | xref 8] Skipped (duplicate detected via hash)\n",
      "🗑️ [Page 24 | Image 3 | xref 18] Skipped (duplicate detected via hash)\n",
      "✅ doc2_p025_img04_111.png Saving image 97.66\n",
      "[!] Table 0 on page 25 may be bad — saving OCR fallback\n"
     ]
    },
    {
     "name": "stderr",
     "output_type": "stream",
     "text": [
      "Pass 1: Extracting text/tables/images:  31%|███       | 26/84 [00:38<01:20,  1.38s/it]"
     ]
    },
    {
     "name": "stdout",
     "output_type": "stream",
     "text": [
      "🗑️ [Page 25 | Image 0 | xref 2] Skipped (duplicate detected via hash)\n",
      "🗑️ [Page 25 | Image 1 | xref 5] Skipped (duplicate detected via hash)\n",
      "🗑️ [Page 25 | Image 2 | xref 8] Skipped (duplicate detected via hash)\n",
      "[!] Table 0 on page 26 may be bad — saving OCR fallback\n"
     ]
    },
    {
     "name": "stderr",
     "output_type": "stream",
     "text": [
      "Pass 1: Extracting text/tables/images:  32%|███▏      | 27/84 [00:39<01:13,  1.29s/it]"
     ]
    },
    {
     "name": "stdout",
     "output_type": "stream",
     "text": [
      "🗑️ [Page 26 | Image 0 | xref 5] Skipped (duplicate detected via hash)\n",
      "🗑️ [Page 26 | Image 1 | xref 2] Skipped (duplicate detected via hash)\n",
      "🗑️ [Page 26 | Image 2 | xref 18] Skipped (duplicate detected via hash)\n",
      "[!] Table 0 on page 27 may be bad — saving OCR fallback\n"
     ]
    },
    {
     "name": "stderr",
     "output_type": "stream",
     "text": [
      "Pass 1: Extracting text/tables/images:  33%|███▎      | 28/84 [00:40<01:11,  1.28s/it]"
     ]
    },
    {
     "name": "stdout",
     "output_type": "stream",
     "text": [
      "🗑️ [Page 27 | Image 0 | xref 2] Skipped (duplicate detected via hash)\n",
      "🗑️ [Page 27 | Image 1 | xref 5] Skipped (duplicate detected via hash)\n",
      "✅ doc2_p028_img02_120.png Saving image 35.78\n",
      "✅ doc2_p028_img03_54.png Saving image 8.89\n",
      "[!] Table 0 on page 28 may be bad — saving OCR fallback\n"
     ]
    },
    {
     "name": "stderr",
     "output_type": "stream",
     "text": [
      "Pass 1: Extracting text/tables/images:  35%|███▍      | 29/84 [00:42<01:16,  1.40s/it]"
     ]
    },
    {
     "name": "stdout",
     "output_type": "stream",
     "text": [
      "🗑️ [Page 28 | Image 0 | xref 5] Skipped (duplicate detected via hash)\n",
      "🗑️ [Page 28 | Image 1 | xref 2] Skipped (duplicate detected via hash)\n",
      "🗑️ [Page 28 | Image 2 | xref 8] Skipped (duplicate detected via hash)\n",
      "🗑️ [Page 28 | Image 3 | xref 18] Skipped (duplicate detected via hash)\n",
      "✅ doc2_p029_img04_124.png Saving image 30.9\n",
      "✅ doc2_p029_img05_126.png Saving image 20.87\n",
      "[!] Table 0 on page 29 may be bad — saving OCR fallback\n",
      "[!] Table 1 on page 29 may be bad — saving OCR fallback\n"
     ]
    },
    {
     "name": "stderr",
     "output_type": "stream",
     "text": [
      "Pass 1: Extracting text/tables/images:  36%|███▌      | 30/84 [00:43<01:20,  1.49s/it]"
     ]
    },
    {
     "name": "stdout",
     "output_type": "stream",
     "text": [
      "🗑️ [Page 29 | Image 0 | xref 2] Skipped (duplicate detected via hash)\n",
      "🗑️ [Page 29 | Image 1 | xref 5] Skipped (duplicate detected via hash)\n",
      "✅ doc2_p030_img02_130.png Saving image 6.01\n",
      "✅ doc2_p030_img03_132.png Saving image 18.8\n",
      "✅ doc2_p030_img04_134.png Saving image 7.85\n"
     ]
    },
    {
     "name": "stderr",
     "output_type": "stream",
     "text": [
      "Pass 1: Extracting text/tables/images:  37%|███▋      | 31/84 [00:44<01:03,  1.20s/it]"
     ]
    },
    {
     "name": "stdout",
     "output_type": "stream",
     "text": [
      "🗑️ [Page 30 | Image 0 | xref 5] Skipped (duplicate detected via hash)\n",
      "🗑️ [Page 30 | Image 1 | xref 2] Skipped (duplicate detected via hash)\n",
      "✅ doc2_p031_img02_138.png Saving image 36.26\n",
      "✅ doc2_p031_img03_140.png Saving image 21.84\n",
      "[!] Table 0 on page 31 may be bad — saving OCR fallback\n"
     ]
    },
    {
     "name": "stderr",
     "output_type": "stream",
     "text": [
      "Pass 1: Extracting text/tables/images:  38%|███▊      | 32/84 [00:46<01:11,  1.38s/it]"
     ]
    },
    {
     "name": "stdout",
     "output_type": "stream",
     "text": [
      "🗑️ [Page 31 | Image 0 | xref 2] Skipped (duplicate detected via hash)\n",
      "🗑️ [Page 31 | Image 1 | xref 5] Skipped (duplicate detected via hash)\n",
      "✅ doc2_p032_img02_144.png Saving image 16.33\n",
      "[!] Table 0 on page 32 may be bad — saving OCR fallback\n",
      "[!] Table 1 on page 32 may be bad — saving OCR fallback\n"
     ]
    },
    {
     "name": "stderr",
     "output_type": "stream",
     "text": [
      "Pass 1: Extracting text/tables/images:  39%|███▉      | 33/84 [00:48<01:23,  1.64s/it]"
     ]
    },
    {
     "name": "stdout",
     "output_type": "stream",
     "text": [
      "🗑️ [Page 32 | Image 0 | xref 5] Skipped (duplicate detected via hash)\n",
      "🗑️ [Page 32 | Image 1 | xref 2] Skipped (duplicate detected via hash)\n",
      "✅ doc2_p033_img02_148.png Saving image 29.28\n",
      "✅ doc2_p033_img03_150.png Saving image 4.69\n"
     ]
    },
    {
     "name": "stderr",
     "output_type": "stream",
     "text": [
      "Pass 1: Extracting text/tables/images:  40%|████      | 34/84 [00:49<01:07,  1.35s/it]"
     ]
    },
    {
     "name": "stdout",
     "output_type": "stream",
     "text": [
      "🗑️ [Page 33 | Image 0 | xref 2] Skipped (duplicate detected via hash)\n",
      "🗑️ [Page 33 | Image 1 | xref 5] Skipped (duplicate detected via hash)\n",
      "✅ doc2_p034_img02_154.png Saving image 45.42\n",
      "✅ doc2_p034_img03_156.png Saving image 53.32\n",
      "✅ doc2_p034_img04_158.png Saving image 65.04\n",
      "[!] Table 0 on page 34 may be bad — saving OCR fallback\n"
     ]
    },
    {
     "name": "stderr",
     "output_type": "stream",
     "text": [
      "Pass 1: Extracting text/tables/images:  42%|████▏     | 35/84 [00:50<01:02,  1.28s/it]"
     ]
    },
    {
     "name": "stdout",
     "output_type": "stream",
     "text": [
      "🗑️ [Page 34 | Image 0 | xref 5] Skipped (duplicate detected via hash)\n",
      "🗑️ [Page 34 | Image 1 | xref 2] Skipped (duplicate detected via hash)\n",
      "🗑️ [Page 34 | Image 2 | xref 8] Skipped (duplicate detected via hash)\n",
      "✅ doc2_p035_img03_162.png Saving image 79.47\n",
      "✅ doc2_p035_img04_164.png Saving image 14.99\n",
      "[!] Table 0 on page 35 may be bad — saving OCR fallback\n"
     ]
    },
    {
     "name": "stderr",
     "output_type": "stream",
     "text": [
      "Pass 1: Extracting text/tables/images:  43%|████▎     | 36/84 [00:51<01:03,  1.33s/it]"
     ]
    },
    {
     "name": "stdout",
     "output_type": "stream",
     "text": [
      "🗑️ [Page 35 | Image 0 | xref 2] Skipped (duplicate detected via hash)\n",
      "🗑️ [Page 35 | Image 1 | xref 5] Skipped (duplicate detected via hash)\n",
      "[!] Table 0 on page 36 may be bad — saving OCR fallback\n"
     ]
    },
    {
     "name": "stderr",
     "output_type": "stream",
     "text": [
      "Pass 1: Extracting text/tables/images:  44%|████▍     | 37/84 [00:52<01:01,  1.32s/it]"
     ]
    },
    {
     "name": "stdout",
     "output_type": "stream",
     "text": [
      "🗑️ [Page 36 | Image 0 | xref 5] Skipped (duplicate detected via hash)\n",
      "🗑️ [Page 36 | Image 1 | xref 2] Skipped (duplicate detected via hash)\n"
     ]
    },
    {
     "name": "stderr",
     "output_type": "stream",
     "text": [
      "Pass 1: Extracting text/tables/images:  45%|████▌     | 38/84 [00:53<00:51,  1.12s/it]"
     ]
    },
    {
     "name": "stdout",
     "output_type": "stream",
     "text": [
      "🗑️ [Page 37 | Image 0 | xref 2] Skipped (duplicate detected via hash)\n",
      "🗑️ [Page 37 | Image 1 | xref 5] Skipped (duplicate detected via hash)\n",
      "✅ doc2_p038_img02_172.png Saving image 1.23\n",
      "✅ doc2_p038_img03_175.png Saving image 1.01\n",
      "[!] Table 0 on page 38 may be bad — saving OCR fallback\n"
     ]
    },
    {
     "name": "stderr",
     "output_type": "stream",
     "text": [
      "Pass 1: Extracting text/tables/images:  46%|████▋     | 39/84 [00:54<00:49,  1.09s/it]"
     ]
    },
    {
     "name": "stdout",
     "output_type": "stream",
     "text": [
      "🗑️ [Page 38 | Image 0 | xref 5] Skipped (duplicate detected via hash)\n",
      "🗑️ [Page 38 | Image 1 | xref 2] Skipped (duplicate detected via hash)\n",
      "✅ doc2_p039_img02_180.png Saving image 1.21\n",
      "✅ doc2_p039_img03_183.png Saving image 36.85\n",
      "[!] Table 0 on page 39 may be bad — saving OCR fallback\n"
     ]
    },
    {
     "name": "stderr",
     "output_type": "stream",
     "text": [
      "Pass 1: Extracting text/tables/images:  48%|████▊     | 40/84 [00:55<00:50,  1.14s/it]"
     ]
    },
    {
     "name": "stdout",
     "output_type": "stream",
     "text": [
      "🗑️ [Page 39 | Image 0 | xref 2] Skipped (duplicate detected via hash)\n",
      "🗑️ [Page 39 | Image 1 | xref 5] Skipped (duplicate detected via hash)\n",
      "✅ doc2_p040_img02_188.png Saving image 44.06\n"
     ]
    },
    {
     "name": "stderr",
     "output_type": "stream",
     "text": [
      "Pass 1: Extracting text/tables/images:  49%|████▉     | 41/84 [00:56<00:42,  1.02it/s]"
     ]
    },
    {
     "name": "stdout",
     "output_type": "stream",
     "text": [
      "🗑️ [Page 40 | Image 0 | xref 5] Skipped (duplicate detected via hash)\n",
      "🗑️ [Page 40 | Image 1 | xref 2] Skipped (duplicate detected via hash)\n",
      "🗑️ [Page 40 | Image 2 | xref 180] Skipped (duplicate detected via hash)\n",
      "[!] Table 0 on page 41 may be bad — saving OCR fallback\n"
     ]
    },
    {
     "name": "stderr",
     "output_type": "stream",
     "text": [
      "Pass 1: Extracting text/tables/images:  50%|█████     | 42/84 [00:57<00:44,  1.06s/it]"
     ]
    },
    {
     "name": "stdout",
     "output_type": "stream",
     "text": [
      "🗑️ [Page 41 | Image 0 | xref 2] Skipped (duplicate detected via hash)\n",
      "🗑️ [Page 41 | Image 1 | xref 5] Skipped (duplicate detected via hash)\n",
      "[!] Table 0 on page 42 may be bad — saving OCR fallback\n"
     ]
    },
    {
     "name": "stderr",
     "output_type": "stream",
     "text": [
      "Pass 1: Extracting text/tables/images:  51%|█████     | 43/84 [00:58<00:42,  1.03s/it]"
     ]
    },
    {
     "name": "stdout",
     "output_type": "stream",
     "text": [
      "🗑️ [Page 42 | Image 0 | xref 5] Skipped (duplicate detected via hash)\n",
      "🗑️ [Page 42 | Image 1 | xref 2] Skipped (duplicate detected via hash)\n",
      "✅ doc2_p043_img02_197.png Saving image 1.06\n",
      "✅ doc2_p043_img03_200.png Saving image 57.1\n",
      "[!] Table 0 on page 43 may be bad — saving OCR fallback\n"
     ]
    },
    {
     "name": "stderr",
     "output_type": "stream",
     "text": [
      "Pass 1: Extracting text/tables/images:  52%|█████▏    | 44/84 [00:59<00:41,  1.03s/it]"
     ]
    },
    {
     "name": "stdout",
     "output_type": "stream",
     "text": [
      "🗑️ [Page 43 | Image 0 | xref 2] Skipped (duplicate detected via hash)\n",
      "🗑️ [Page 43 | Image 1 | xref 5] Skipped (duplicate detected via hash)\n",
      "✅ doc2_p044_img02_205.png Saving image 57.1\n",
      "[!] Table 0 on page 44 may be bad — saving OCR fallback\n"
     ]
    },
    {
     "name": "stderr",
     "output_type": "stream",
     "text": [
      "Pass 1: Extracting text/tables/images:  54%|█████▎    | 45/84 [01:01<00:49,  1.27s/it]"
     ]
    },
    {
     "name": "stdout",
     "output_type": "stream",
     "text": [
      "🗑️ [Page 44 | Image 0 | xref 5] Skipped (duplicate detected via hash)\n",
      "🗑️ [Page 44 | Image 1 | xref 2] Skipped (duplicate detected via hash)\n",
      "🗑️ [Page 44 | Image 2 | xref 180] Skipped (duplicate detected via hash)\n"
     ]
    },
    {
     "name": "stderr",
     "output_type": "stream",
     "text": [
      "Pass 1: Extracting text/tables/images:  55%|█████▍    | 46/84 [01:02<00:40,  1.07s/it]"
     ]
    },
    {
     "name": "stdout",
     "output_type": "stream",
     "text": [
      "🗑️ [Page 45 | Image 0 | xref 2] Skipped (duplicate detected via hash)\n",
      "🗑️ [Page 45 | Image 1 | xref 5] Skipped (duplicate detected via hash)\n",
      "🗑️ [Page 45 | Image 2 | xref 18] Skipped (duplicate detected via hash)\n",
      "🗑️ [Page 45 | Image 3 | xref 8] Skipped (duplicate detected via hash)\n",
      "✅ doc2_p046_img04_212.png Saving image 23.1\n"
     ]
    },
    {
     "name": "stderr",
     "output_type": "stream",
     "text": [
      "Pass 1: Extracting text/tables/images:  56%|█████▌    | 47/84 [01:02<00:34,  1.08it/s]"
     ]
    },
    {
     "name": "stdout",
     "output_type": "stream",
     "text": [
      "🗑️ [Page 46 | Image 0 | xref 5] Skipped (duplicate detected via hash)\n",
      "🗑️ [Page 46 | Image 1 | xref 2] Skipped (duplicate detected via hash)\n",
      "🗑️ [Page 46 | Image 2 | xref 8] Skipped (duplicate detected via hash)\n",
      "✅ doc2_p047_img03_216.png Saving image 57.1\n"
     ]
    },
    {
     "name": "stderr",
     "output_type": "stream",
     "text": [
      "Pass 1: Extracting text/tables/images:  57%|█████▋    | 48/84 [01:03<00:28,  1.27it/s]"
     ]
    },
    {
     "name": "stdout",
     "output_type": "stream",
     "text": [
      "🗑️ [Page 47 | Image 0 | xref 2] Skipped (duplicate detected via hash)\n",
      "🗑️ [Page 47 | Image 1 | xref 5] Skipped (duplicate detected via hash)\n",
      "🗑️ [Page 47 | Image 2 | xref 18] Skipped (duplicate detected via hash)\n",
      "[!] Table 0 on page 48 may be bad — saving OCR fallback\n"
     ]
    },
    {
     "name": "stderr",
     "output_type": "stream",
     "text": [
      "Pass 1: Extracting text/tables/images:  58%|█████▊    | 49/84 [01:04<00:32,  1.07it/s]"
     ]
    },
    {
     "name": "stdout",
     "output_type": "stream",
     "text": [
      "🗑️ [Page 48 | Image 0 | xref 5] Skipped (duplicate detected via hash)\n",
      "🗑️ [Page 48 | Image 1 | xref 2] Skipped (duplicate detected via hash)\n",
      "✅ doc2_p049_img02_222.png Saving image 26.58\n",
      "✅ doc2_p049_img03_224.png Saving image 26.9\n",
      "[!] Table 0 on page 49 may be bad — saving OCR fallback\n"
     ]
    },
    {
     "name": "stderr",
     "output_type": "stream",
     "text": [
      "Pass 1: Extracting text/tables/images:  60%|█████▉    | 50/84 [01:05<00:35,  1.05s/it]"
     ]
    },
    {
     "name": "stdout",
     "output_type": "stream",
     "text": [
      "🗑️ [Page 49 | Image 0 | xref 2] Skipped (duplicate detected via hash)\n",
      "🗑️ [Page 49 | Image 1 | xref 5] Skipped (duplicate detected via hash)\n",
      "✅ doc2_p050_img02_228.png Saving image 37.51\n",
      "🗑️ [Page 49 | Image 3 | xref 18] Skipped (duplicate detected via hash)\n",
      "✅ doc2_p050_img04_230.png Saving image 34.66\n"
     ]
    },
    {
     "name": "stderr",
     "output_type": "stream",
     "text": [
      "Pass 1: Extracting text/tables/images:  61%|██████    | 51/84 [01:06<00:30,  1.09it/s]"
     ]
    },
    {
     "name": "stdout",
     "output_type": "stream",
     "text": [
      "🗑️ [Page 50 | Image 0 | xref 5] Skipped (duplicate detected via hash)\n",
      "🗑️ [Page 50 | Image 1 | xref 2] Skipped (duplicate detected via hash)\n",
      "🗑️ [Page 50 | Image 2 | xref 18] Skipped (duplicate detected via hash)\n",
      "🗑️ [Page 50 | Image 3 | xref 8] Skipped (duplicate detected via hash)\n",
      "[!] Table 0 on page 51 may be bad — saving OCR fallback\n"
     ]
    },
    {
     "name": "stderr",
     "output_type": "stream",
     "text": [
      "Pass 1: Extracting text/tables/images:  62%|██████▏   | 52/84 [01:07<00:32,  1.02s/it]"
     ]
    },
    {
     "name": "stdout",
     "output_type": "stream",
     "text": [
      "🗑️ [Page 51 | Image 0 | xref 2] Skipped (duplicate detected via hash)\n",
      "🗑️ [Page 51 | Image 1 | xref 5] Skipped (duplicate detected via hash)\n",
      "🗑️ [Page 51 | Image 2 | xref 8] Skipped (duplicate detected via hash)\n",
      "[!] Table 0 on page 52 may be bad — saving OCR fallback\n"
     ]
    },
    {
     "name": "stderr",
     "output_type": "stream",
     "text": [
      "Pass 1: Extracting text/tables/images:  63%|██████▎   | 53/84 [01:08<00:33,  1.08s/it]"
     ]
    },
    {
     "name": "stdout",
     "output_type": "stream",
     "text": [
      "🗑️ [Page 52 | Image 0 | xref 5] Skipped (duplicate detected via hash)\n",
      "🗑️ [Page 52 | Image 1 | xref 2] Skipped (duplicate detected via hash)\n",
      "✅ doc2_p053_img02_238.png Saving image 155.22\n",
      "[!] Table 1 on page 53 may be bad — saving OCR fallback\n"
     ]
    },
    {
     "name": "stderr",
     "output_type": "stream",
     "text": [
      "Pass 1: Extracting text/tables/images:  64%|██████▍   | 54/84 [01:10<00:34,  1.13s/it]"
     ]
    },
    {
     "name": "stdout",
     "output_type": "stream",
     "text": [
      "🗑️ [Page 53 | Image 0 | xref 2] Skipped (duplicate detected via hash)\n",
      "🗑️ [Page 53 | Image 1 | xref 5] Skipped (duplicate detected via hash)\n",
      "🗑️ [Page 53 | Image 2 | xref 8] Skipped (duplicate detected via hash)\n",
      "✅ doc2_p054_img03_242.png Saving image 35.42\n",
      "[!] Table 0 on page 54 may be bad — saving OCR fallback\n"
     ]
    },
    {
     "name": "stderr",
     "output_type": "stream",
     "text": [
      "Pass 1: Extracting text/tables/images:  65%|██████▌   | 55/84 [01:11<00:32,  1.11s/it]"
     ]
    },
    {
     "name": "stdout",
     "output_type": "stream",
     "text": [
      "🗑️ [Page 54 | Image 0 | xref 5] Skipped (duplicate detected via hash)\n",
      "🗑️ [Page 54 | Image 1 | xref 2] Skipped (duplicate detected via hash)\n",
      "✅ doc2_p055_img02_246.png Saving image 26.08\n",
      "✅ doc2_p055_img03_248.png Saving image 46.34\n",
      "[!] Table 0 on page 55 may be bad — saving OCR fallback\n"
     ]
    },
    {
     "name": "stderr",
     "output_type": "stream",
     "text": [
      "Pass 1: Extracting text/tables/images:  67%|██████▋   | 56/84 [01:12<00:29,  1.04s/it]"
     ]
    },
    {
     "name": "stdout",
     "output_type": "stream",
     "text": [
      "🗑️ [Page 55 | Image 0 | xref 2] Skipped (duplicate detected via hash)\n",
      "🗑️ [Page 55 | Image 1 | xref 5] Skipped (duplicate detected via hash)\n",
      "✅ doc2_p056_img02_253.png Saving image 59.75\n",
      "[!] Table 0 on page 56 may be bad — saving OCR fallback\n"
     ]
    },
    {
     "name": "stderr",
     "output_type": "stream",
     "text": [
      "Pass 1: Extracting text/tables/images:  68%|██████▊   | 57/84 [01:12<00:26,  1.00it/s]"
     ]
    },
    {
     "name": "stdout",
     "output_type": "stream",
     "text": [
      "✅ Detected composite diagram on page 56 covering 56.93%\n",
      "[!] Table 0 on page 57 may be bad — saving OCR fallback\n"
     ]
    },
    {
     "name": "stderr",
     "output_type": "stream",
     "text": [
      "Pass 1: Extracting text/tables/images:  69%|██████▉   | 58/84 [01:13<00:24,  1.04it/s]"
     ]
    },
    {
     "name": "stdout",
     "output_type": "stream",
     "text": [
      "✅ Detected composite diagram on page 57 covering 54.38%\n"
     ]
    },
    {
     "name": "stderr",
     "output_type": "stream",
     "text": [
      "Pass 1: Extracting text/tables/images:  70%|███████   | 59/84 [01:14<00:21,  1.16it/s]"
     ]
    },
    {
     "name": "stdout",
     "output_type": "stream",
     "text": [
      "🗑️ [Page 58 | Image 0 | xref 5] Skipped (duplicate detected via hash)\n",
      "🗑️ [Page 58 | Image 1 | xref 2] Skipped (duplicate detected via hash)\n",
      "✅ doc2_p059_img02_280.png Saving image 130.39\n"
     ]
    },
    {
     "name": "stderr",
     "output_type": "stream",
     "text": [
      "Pass 1: Extracting text/tables/images:  71%|███████▏  | 60/84 [01:14<00:18,  1.30it/s]"
     ]
    },
    {
     "name": "stdout",
     "output_type": "stream",
     "text": [
      "🗑️ [Page 59 | Image 0 | xref 2] Skipped (duplicate detected via hash)\n",
      "🗑️ [Page 59 | Image 1 | xref 5] Skipped (duplicate detected via hash)\n",
      "[!] Table 0 on page 60 may be bad — saving OCR fallback\n"
     ]
    },
    {
     "name": "stderr",
     "output_type": "stream",
     "text": [
      "Pass 1: Extracting text/tables/images:  73%|███████▎  | 61/84 [01:15<00:18,  1.25it/s]"
     ]
    },
    {
     "name": "stdout",
     "output_type": "stream",
     "text": [
      "✅ Detected composite diagram on page 60 covering 63.08%\n",
      "[!] Table 0 on page 61 may be bad — saving OCR fallback\n"
     ]
    },
    {
     "name": "stderr",
     "output_type": "stream",
     "text": [
      "Pass 1: Extracting text/tables/images:  74%|███████▍  | 62/84 [01:16<00:18,  1.22it/s]"
     ]
    },
    {
     "name": "stdout",
     "output_type": "stream",
     "text": [
      "✅ Detected composite diagram on page 61 covering 61.63%\n"
     ]
    },
    {
     "name": "stderr",
     "output_type": "stream",
     "text": [
      "Pass 1: Extracting text/tables/images:  75%|███████▌  | 63/84 [01:17<00:15,  1.34it/s]"
     ]
    },
    {
     "name": "stdout",
     "output_type": "stream",
     "text": [
      "🗑️ [Page 62 | Image 0 | xref 5] Skipped (duplicate detected via hash)\n",
      "🗑️ [Page 62 | Image 1 | xref 2] Skipped (duplicate detected via hash)\n",
      "✅ doc2_p063_img02_309.png Saving image 145.41\n",
      "✅ doc2_p063_img03_312.png Saving image 145.18\n"
     ]
    },
    {
     "name": "stderr",
     "output_type": "stream",
     "text": [
      "Pass 1: Extracting text/tables/images:  76%|███████▌  | 64/84 [01:17<00:14,  1.43it/s]"
     ]
    },
    {
     "name": "stdout",
     "output_type": "stream",
     "text": [
      "🗑️ [Page 63 | Image 0 | xref 2] Skipped (duplicate detected via hash)\n",
      "🗑️ [Page 63 | Image 1 | xref 5] Skipped (duplicate detected via hash)\n",
      "[!] Table 0 on page 64 may be bad — saving OCR fallback\n"
     ]
    },
    {
     "name": "stderr",
     "output_type": "stream",
     "text": [
      "Pass 1: Extracting text/tables/images:  77%|███████▋  | 65/84 [01:18<00:13,  1.37it/s]"
     ]
    },
    {
     "name": "stdout",
     "output_type": "stream",
     "text": [
      "✅ Detected composite diagram on page 64 covering 40.64%\n",
      "[!] Table 0 on page 65 may be bad — saving OCR fallback\n"
     ]
    },
    {
     "name": "stderr",
     "output_type": "stream",
     "text": [
      "Pass 1: Extracting text/tables/images:  79%|███████▊  | 66/84 [01:19<00:15,  1.19it/s]"
     ]
    },
    {
     "name": "stdout",
     "output_type": "stream",
     "text": [
      "✅ Detected composite diagram on page 65 covering 60.34%\n",
      "[!] Table 0 on page 66 may be bad — saving OCR fallback\n"
     ]
    },
    {
     "name": "stderr",
     "output_type": "stream",
     "text": [
      "Pass 1: Extracting text/tables/images:  80%|███████▉  | 67/84 [01:20<00:14,  1.16it/s]"
     ]
    },
    {
     "name": "stdout",
     "output_type": "stream",
     "text": [
      "✅ Detected composite diagram on page 66 covering 57.95%\n"
     ]
    },
    {
     "name": "stderr",
     "output_type": "stream",
     "text": [
      "Pass 1: Extracting text/tables/images:  81%|████████  | 68/84 [01:21<00:12,  1.27it/s]"
     ]
    },
    {
     "name": "stdout",
     "output_type": "stream",
     "text": [
      "🗑️ [Page 67 | Image 0 | xref 2] Skipped (duplicate detected via hash)\n",
      "🗑️ [Page 67 | Image 1 | xref 5] Skipped (duplicate detected via hash)\n"
     ]
    },
    {
     "name": "stderr",
     "output_type": "stream",
     "text": [
      "Pass 1: Extracting text/tables/images:  82%|████████▏ | 69/84 [01:21<00:10,  1.41it/s]"
     ]
    },
    {
     "name": "stdout",
     "output_type": "stream",
     "text": [
      "🗑️ [Page 68 | Image 0 | xref 5] Skipped (duplicate detected via hash)\n",
      "🗑️ [Page 68 | Image 1 | xref 2] Skipped (duplicate detected via hash)\n",
      "[!] Table 0 on page 69 may be bad — saving OCR fallback\n"
     ]
    },
    {
     "name": "stderr",
     "output_type": "stream",
     "text": [
      "Pass 1: Extracting text/tables/images:  83%|████████▎ | 70/84 [01:22<00:10,  1.30it/s]"
     ]
    },
    {
     "name": "stdout",
     "output_type": "stream",
     "text": [
      "✅ Detected composite diagram on page 69 covering 62.67%\n",
      "[!] Table 0 on page 70 may be bad — saving OCR fallback\n"
     ]
    },
    {
     "name": "stderr",
     "output_type": "stream",
     "text": [
      "Pass 1: Extracting text/tables/images:  85%|████████▍ | 71/84 [01:23<00:10,  1.25it/s]"
     ]
    },
    {
     "name": "stdout",
     "output_type": "stream",
     "text": [
      "✅ Detected composite diagram on page 70 covering 61.14%\n"
     ]
    },
    {
     "name": "stderr",
     "output_type": "stream",
     "text": [
      "Pass 1: Extracting text/tables/images:  86%|████████▌ | 72/84 [01:24<00:09,  1.27it/s]"
     ]
    },
    {
     "name": "stdout",
     "output_type": "stream",
     "text": [
      "🗑️ [Page 71 | Image 0 | xref 2] Skipped (duplicate detected via hash)\n",
      "🗑️ [Page 71 | Image 1 | xref 5] Skipped (duplicate detected via hash)\n"
     ]
    },
    {
     "name": "stderr",
     "output_type": "stream",
     "text": [
      "Pass 1: Extracting text/tables/images:  87%|████████▋ | 73/84 [01:24<00:07,  1.49it/s]"
     ]
    },
    {
     "name": "stdout",
     "output_type": "stream",
     "text": [
      "🗑️ [Page 72 | Image 0 | xref 5] Skipped (duplicate detected via hash)\n",
      "🗑️ [Page 72 | Image 1 | xref 2] Skipped (duplicate detected via hash)\n",
      "[!] Table 0 on page 73 may be bad — saving OCR fallback\n"
     ]
    },
    {
     "name": "stderr",
     "output_type": "stream",
     "text": [
      "Pass 1: Extracting text/tables/images:  88%|████████▊ | 74/84 [01:25<00:07,  1.33it/s]"
     ]
    },
    {
     "name": "stdout",
     "output_type": "stream",
     "text": [
      "✅ Detected composite diagram on page 73 covering 59.79%\n",
      "[!] Table 0 on page 74 may be bad — saving OCR fallback\n"
     ]
    },
    {
     "name": "stderr",
     "output_type": "stream",
     "text": [
      "Pass 1: Extracting text/tables/images:  89%|████████▉ | 75/84 [01:26<00:07,  1.28it/s]"
     ]
    },
    {
     "name": "stdout",
     "output_type": "stream",
     "text": [
      "✅ Detected composite diagram on page 74 covering 59.85%\n"
     ]
    },
    {
     "name": "stderr",
     "output_type": "stream",
     "text": [
      "Pass 1: Extracting text/tables/images:  90%|█████████ | 76/84 [01:27<00:06,  1.33it/s]"
     ]
    },
    {
     "name": "stdout",
     "output_type": "stream",
     "text": [
      "🗑️ [Page 75 | Image 0 | xref 2] Skipped (duplicate detected via hash)\n",
      "🗑️ [Page 75 | Image 1 | xref 5] Skipped (duplicate detected via hash)\n",
      "[!] Table 0 on page 76 may be bad — saving OCR fallback\n"
     ]
    },
    {
     "name": "stderr",
     "output_type": "stream",
     "text": [
      "Pass 1: Extracting text/tables/images:  92%|█████████▏| 77/84 [01:28<00:05,  1.26it/s]"
     ]
    },
    {
     "name": "stdout",
     "output_type": "stream",
     "text": [
      "✅ Detected composite diagram on page 76 covering 60.38%\n"
     ]
    },
    {
     "name": "stderr",
     "output_type": "stream",
     "text": [
      "Pass 1: Extracting text/tables/images:  93%|█████████▎| 78/84 [01:28<00:04,  1.28it/s]"
     ]
    },
    {
     "name": "stdout",
     "output_type": "stream",
     "text": [
      "🗑️ [Page 77 | Image 0 | xref 2] Skipped (duplicate detected via hash)\n",
      "🗑️ [Page 77 | Image 1 | xref 5] Skipped (duplicate detected via hash)\n",
      "✅ doc2_p078_img02_411.png Saving image 144.49\n",
      "[!] Table 0 on page 78 may be bad — saving OCR fallback\n"
     ]
    },
    {
     "name": "stderr",
     "output_type": "stream",
     "text": [
      "Pass 1: Extracting text/tables/images:  94%|█████████▍| 79/84 [01:29<00:03,  1.26it/s]"
     ]
    },
    {
     "name": "stdout",
     "output_type": "stream",
     "text": [
      "✅ Detected composite diagram on page 78 covering 55.13%\n"
     ]
    },
    {
     "name": "stderr",
     "output_type": "stream",
     "text": [
      "Pass 1: Extracting text/tables/images:  95%|█████████▌| 80/84 [01:30<00:02,  1.40it/s]"
     ]
    },
    {
     "name": "stdout",
     "output_type": "stream",
     "text": [
      "🗑️ [Page 79 | Image 0 | xref 2] Skipped (duplicate detected via hash)\n",
      "🗑️ [Page 79 | Image 1 | xref 5] Skipped (duplicate detected via hash)\n"
     ]
    },
    {
     "name": "stderr",
     "output_type": "stream",
     "text": [
      "Pass 1: Extracting text/tables/images:  96%|█████████▋| 81/84 [01:30<00:01,  1.58it/s]"
     ]
    },
    {
     "name": "stdout",
     "output_type": "stream",
     "text": [
      "🗑️ [Page 80 | Image 0 | xref 5] Skipped (duplicate detected via hash)\n",
      "🗑️ [Page 80 | Image 1 | xref 2] Skipped (duplicate detected via hash)\n",
      "🗑️ [Page 80 | Image 2 | xref 8] Skipped (duplicate detected via hash)\n"
     ]
    },
    {
     "name": "stderr",
     "output_type": "stream",
     "text": [
      "Pass 1: Extracting text/tables/images:  98%|█████████▊| 82/84 [01:31<00:01,  1.69it/s]"
     ]
    },
    {
     "name": "stdout",
     "output_type": "stream",
     "text": [
      "🗑️ [Page 81 | Image 0 | xref 2] Skipped (duplicate detected via hash)\n",
      "🗑️ [Page 81 | Image 1 | xref 5] Skipped (duplicate detected via hash)\n",
      "[!] Table 0 on page 82 may be bad — saving OCR fallback\n"
     ]
    },
    {
     "name": "stderr",
     "output_type": "stream",
     "text": [
      "Pass 1: Extracting text/tables/images:  99%|█████████▉| 83/84 [01:31<00:00,  1.57it/s]"
     ]
    },
    {
     "name": "stdout",
     "output_type": "stream",
     "text": [
      "🗑️ [Page 82 | Image 0 | xref 5] Skipped (duplicate detected via hash)\n",
      "🗑️ [Page 82 | Image 1 | xref 2] Skipped (duplicate detected via hash)\n",
      "✅ doc2_p083_img02_429.png Saving image 81.72\n",
      "[!] Table 0 on page 83 may be bad — saving OCR fallback\n"
     ]
    },
    {
     "name": "stderr",
     "output_type": "stream",
     "text": [
      "Pass 1: Extracting text/tables/images: 100%|██████████| 84/84 [01:32<00:00,  1.10s/it]"
     ]
    },
    {
     "name": "stdout",
     "output_type": "stream",
     "text": [
      "🗑️ [Page 83 | Image 0 | xref 2] Skipped (duplicate detected via hash)\n",
      "🗑️ [Page 83 | Image 1 | xref 5] Skipped (duplicate detected via hash)\n",
      "✅ doc2_p084_img02_434.png Saving image 81.25\n",
      "✅ Finished pass 1 – extracted 472 items\n"
     ]
    },
    {
     "name": "stderr",
     "output_type": "stream",
     "text": [
      "\n"
     ]
    }
   ],
   "source": [
    "# Step 1\n",
    "items = extract_pdf_pass1(PDF_PATH)\n"
   ]
  },
  {
   "cell_type": "code",
   "execution_count": 80,
   "metadata": {},
   "outputs": [],
   "source": [
    "import hashlib\n",
    "import json\n",
    "from pathlib import Path\n",
    "\n",
    "# JSON file for storing final image captions\n",
    "final_captions_cache_file = Path(\"final_image_captions.json\")\n",
    "try:\n",
    "    final_captions_cache: dict[str, str] = json.loads(final_captions_cache_file.read_text(encoding=\"utf-8\"))\n",
    "except FileNotFoundError:\n",
    "    final_captions_cache = {}\n",
    "except json.JSONDecodeError:\n",
    "    print(\"[warn] final_image_captions.json is broken – recreating it\")\n",
    "    final_captions_cache = {}\n",
    "\n",
    "def generate_caption_from_metadata_cached(image_path: Path, metadata: dict, model: str = \"gpt-4o\") -> str:\n",
    "    \"\"\"\n",
    "\n",
    "    Generate a meaningful caption for an image using structured metadata and cache the result.\n",
    "    \n",
    "    Parameters:\n",
    "        image_path (Path): Path to the image file.\n",
    "        metadata (str): Structured metadata text from the first GPT call.\n",
    "        model (str): GPT Vision model to use (default is \"gpt-4o\").\n",
    "\n",
    "    Returns:\n",
    "        str: A concise, meaningful caption for the image.\n",
    "    \"\"\"\n",
    "    # Generate unique key using hash of image bytes + metadata\n",
    "    img_hash = hashlib.sha1(image_path.read_bytes()).hexdigest()\n",
    "    meta_hash = hashlib.sha1(json.dumps(metadata, sort_keys=True).encode(\"utf-8\")).hexdigest()\n",
    "    cache_key = image_path.name\n",
    "\n",
    "    if cache_key in final_captions_cache:\n",
    "        return final_captions_cache[cache_key]\n",
    "\n",
    "    # Prompt construction\n",
    "    data_uri = img_to_data_uri(image_path)\n",
    "    prompt = f\"\"\"\n",
    "You are looking at an illustration from a machine user manual. You are also provided with structured metadata describing this image.\n",
    "\n",
    "Based on both the image and the metadata, generate a clear, helpful, and concise caption (1–2 sentences) that summarizes what the image shows and why it is relevant.\n",
    "\n",
    "Only return the final caption. Do not include any labels or metadata fields.\n",
    "\n",
    "Metadata:\n",
    "{metadata}\n",
    "\"\"\"\n",
    "\n",
    "    try:\n",
    "        response = openai.chat.completions.create(\n",
    "            model=model,\n",
    "            messages=[{\n",
    "                \"role\": \"user\",\n",
    "                \"content\": [\n",
    "                    {\"type\": \"text\", \"text\": prompt},\n",
    "                    {\"type\": \"image_url\", \"image_url\": {\"url\": data_uri}},\n",
    "                ]\n",
    "            }],\n",
    "            max_tokens=100\n",
    "        )\n",
    "        core_caption = response.choices[0].message.content.strip()\n",
    "\n",
    "        # Assemble enriched caption\n",
    "        caption_parts = []\n",
    "\n",
    "        fig_title = metadata.get(\"Figure title\")\n",
    "        if fig_title:\n",
    "            caption_parts.append(f\"{fig_title}:\")\n",
    "\n",
    "        caption_parts.append(core_caption)\n",
    "\n",
    "        page_info = []\n",
    "        if metadata.get(\"Page\") is not None:\n",
    "            page_info.append(f\"Page {metadata['Page']}\")\n",
    "        if metadata.get(\"Section header\"):\n",
    "            page_info.append(f\"Section: {metadata['Section header']}\")\n",
    "\n",
    "        if page_info:\n",
    "            caption_parts.append(f\"({' | '.join(page_info)})\")\n",
    "\n",
    "        final_caption = \" \".join(caption_parts)\n",
    "\n",
    "\n",
    "        # Save using filename as key\n",
    "        final_captions_cache[image_path.name] = final_caption\n",
    "        final_captions_cache_file.write_text(\n",
    "            json.dumps(final_captions_cache, indent=2, ensure_ascii=False)\n",
    "        )\n",
    "        print(f\"💾 Saved caption to {final_captions_cache_file} for {image_path.name}\")\n",
    "        return final_caption\n",
    "\n",
    "\n",
    "    except Exception as e:\n",
    "        print(f\"[error] Caption generation failed for {image_path.name}: {e}\")\n",
    "        return \"Caption generation failed.\"\n"
   ]
  },
  {
   "cell_type": "code",
   "execution_count": 81,
   "metadata": {},
   "outputs": [],
   "source": [
    "def filter_relevant_context(image_path: Path, context: str, model: str = \"gpt-4o\") -> str:\n",
    "    \"\"\"\n",
    "    Use GPT to determine if the given context is relevant to the image.\n",
    "    If not, return an empty string.\n",
    "    \"\"\"\n",
    "    data_uri = img_to_data_uri(image_path)\n",
    "    prompt = f\"\"\"\n",
    "You are analyzing an image from a machine user manual and the surrounding context text.\n",
    "\n",
    "Decide whether the following context is directly relevant to understanding or describing this image.\n",
    "\n",
    "Context:\n",
    "{context[:4000]}\n",
    "\n",
    "Only answer with 'Yes' or 'No'. If the context does not describe the content or purpose of the image, return 'No'.\n",
    "\"\"\"\n",
    "\n",
    "    try:\n",
    "        response = openai.chat.completions.create(\n",
    "            model=model,\n",
    "            messages=[{\n",
    "                \"role\": \"user\",\n",
    "                \"content\": [\n",
    "                    {\"type\": \"text\", \"text\": prompt},\n",
    "                    {\"type\": \"image_url\", \"image_url\": {\"url\": data_uri}}\n",
    "                ]\n",
    "            }],\n",
    "            max_tokens=5,\n",
    "            temperature=0\n",
    "        )\n",
    "        verdict = response.choices[0].message.content.strip().lower()\n",
    "        return context if \"yes\" in verdict else \"\"\n",
    "    except Exception as e:\n",
    "        print(f\"[warn] GPT context relevance check failed for {image_path.name}: {e}\")\n",
    "        return context  # fallback: retain full context to avoid missing metadata\n"
   ]
  },
  {
   "cell_type": "code",
   "execution_count": 82,
   "metadata": {},
   "outputs": [],
   "source": [
    "def extract_pdf_pass2(pdf_path: Path, items: list):\n",
    "    print(\"\\n🔁 Starting second pass: GPT formatting for tables and image captioning...\")\n",
    "    updated_items = []\n",
    "    pages_dict = load_text_chunks(BASE_DIR / \"text\")  # must exist from pass 1\n",
    "\n",
    "    for item in tqdm(items, desc=\"Processing items (pass 2)\"):\n",
    "        if item[\"type\"] == \"table\" and item.get(\"extracted_with\") == \"ocr\":\n",
    "            # Add to list for batch formatting\n",
    "            updated_items.append(item)  # keep as-is for now\n",
    "\n",
    "        elif item[\"type\"] in {\"image\", \"page\"}:\n",
    "            img_path = Path(item[\"path\"])\n",
    "            page_num = item[\"page0\"] + 1\n",
    "            raw_context = build_context_for_page(pages_dict, page_num)\n",
    "            context = filter_relevant_context(img_path, raw_context)\n",
    "            print(f\"🧠 GPT judged context for {img_path.name} as {'relevant' if context else 'irrelevant'}\")\n",
    "            if not context:\n",
    "                print(f\"⚠️ Skipping context for {img_path.name} — using image only\")\n",
    "                context = \"\"\n",
    "\n",
    "\n",
    "\n",
    "            print(f\"\\n🧾 [Page {page_num}] Context for full-page image → {img_path.name}\")\n",
    "            print(\"-\" * 60)\n",
    "            print(context[:1000])\n",
    "            print(\"-\" * 60)\n",
    "\n",
    "            key = str(img_path.resolve())\n",
    "            if key in metadata_cache:\n",
    "                metadata = metadata_cache[key]\n",
    "            else:\n",
    "                metadata = caption_with_gpt_vision(img_path, context)\n",
    "                metadata_cache[key] = metadata\n",
    "                metadata_cache_file.write_text(json.dumps(metadata_cache, indent=2), encoding=\"utf-8\")\n",
    "\n",
    "            # First GPT metadata (already obtained)\n",
    "            item[\"metadata\"] = metadata\n",
    "\n",
    "\n",
    "            # Final caption using metadata + image\n",
    "            caption = generate_caption_from_metadata_cached(img_path, metadata)\n",
    "\n",
    "            item[\"text\"] = caption  # final caption gets stored in \"text\"\n",
    "\n",
    "            updated_items.append(item)\n",
    "\n",
    "        else:\n",
    "            updated_items.append(item)  # other types like 'text' or non-OCR tables\n",
    "\n",
    "    # ➕ Step 2A: Format OCR-extracted tables with GPT\n",
    "    ocr_items = [item for item in updated_items if item.get(\"extracted_with\") == \"ocr\"]\n",
    "    formatted = classify_and_format_tables(ocr_items)\n",
    "\n",
    "    # 🧹 Remove original .txt OCR entries that were converted to .md\n",
    "    ocr_paths = {Path(f[\"original_path\"]).name for f in formatted}\n",
    "    final_items = [\n",
    "        item for item in updated_items\n",
    "        if not (item[\"type\"] == \"table\" and Path(item[\"path\"]).name in ocr_paths)\n",
    "    ]\n",
    "\n",
    "    # ➕ Add formatted .md tables\n",
    "    for f in formatted:\n",
    "        final_items.append({\n",
    "            \"page\": f[\"page\"],\n",
    "            \"type\": \"table\",\n",
    "            \"text\": f[\"formatted_text\"],\n",
    "            \"path\": f[\"formatted_path\"],\n",
    "            \"extracted_with\": \"gpt-md\"\n",
    "        })\n",
    "\n",
    "    print(f\"\\n✅ Second pass complete: total items → {len(final_items)}\")\n",
    "    print(f\"📝 Structured .md tables added → {len(formatted)}\")\n",
    "\n",
    "    return final_items\n"
   ]
  },
  {
   "cell_type": "code",
   "execution_count": 58,
   "metadata": {},
   "outputs": [],
   "source": [
    "# Path(\"image_metadata_cache.json\").unlink(missing_ok=True)\n",
    "# Path(\"final_image_captions.json\").unlink(missing_ok=True)"
   ]
  },
  {
   "cell_type": "code",
   "execution_count": 83,
   "metadata": {},
   "outputs": [
    {
     "name": "stdout",
     "output_type": "stream",
     "text": [
      "\n",
      "🔁 Starting second pass: GPT formatting for tables and image captioning...\n"
     ]
    },
    {
     "name": "stderr",
     "output_type": "stream",
     "text": [
      "Processing items (pass 2):   0%|          | 0/472 [00:00<?, ?it/s]"
     ]
    },
    {
     "name": "stdout",
     "output_type": "stream",
     "text": [
      "🧠 GPT judged context for doc2_p001_img00_515.png as relevant\n",
      "\n",
      "🧾 [Page 1] Context for full-page image → doc2_p001_img00_515.png\n",
      "------------------------------------------------------------\n",
      "OPERATION AND\n",
      "MAINTENANCE MANUAL\n",
      "\n",
      "\n",
      "\n",
      "\n",
      "\n",
      "           Bench Lathe\n",
      "    Art. T999/230V – T999/230V3A\n",
      "    Art. T999/400V - T999/400V3Afervi.com\n",
      "\n",
      "\n",
      "\n",
      "\n",
      "               TRANSLATION OF THE ORIGINAL INSTRUCTIONS\n",
      "------------------------------------------------------------\n"
     ]
    },
    {
     "name": "stderr",
     "output_type": "stream",
     "text": [
      "Processing items (pass 2):   1%|          | 3/472 [00:03<08:48,  1.13s/it]"
     ]
    },
    {
     "name": "stdout",
     "output_type": "stream",
     "text": [
      "💾 Saved caption to final_image_captions.json for doc2_p001_img00_515.png\n",
      "🧠 GPT judged context for doc2_p001_img01_516.png as irrelevant\n",
      "⚠️ Skipping context for doc2_p001_img01_516.png — using image only\n",
      "\n",
      "🧾 [Page 1] Context for full-page image → doc2_p001_img01_516.png\n",
      "------------------------------------------------------------\n",
      "\n",
      "------------------------------------------------------------\n"
     ]
    },
    {
     "name": "stderr",
     "output_type": "stream",
     "text": [
      "Processing items (pass 2):   1%|          | 4/472 [00:06<13:09,  1.69s/it]"
     ]
    },
    {
     "name": "stdout",
     "output_type": "stream",
     "text": [
      "💾 Saved caption to final_image_captions.json for doc2_p001_img01_516.png\n",
      "🧠 GPT judged context for doc2_p002_img00_2.png as irrelevant\n",
      "⚠️ Skipping context for doc2_p002_img00_2.png — using image only\n",
      "\n",
      "🧾 [Page 2] Context for full-page image → doc2_p002_img00_2.png\n",
      "------------------------------------------------------------\n",
      "\n",
      "------------------------------------------------------------\n"
     ]
    },
    {
     "name": "stderr",
     "output_type": "stream",
     "text": [
      "Processing items (pass 2):   2%|▏         | 9/472 [00:08<06:34,  1.17it/s]"
     ]
    },
    {
     "name": "stdout",
     "output_type": "stream",
     "text": [
      "💾 Saved caption to final_image_captions.json for doc2_p002_img00_2.png\n",
      "🧠 GPT judged context for doc2_p002_img01_5.png as irrelevant\n",
      "⚠️ Skipping context for doc2_p002_img01_5.png — using image only\n",
      "\n",
      "🧾 [Page 2] Context for full-page image → doc2_p002_img01_5.png\n",
      "------------------------------------------------------------\n",
      "\n",
      "------------------------------------------------------------\n"
     ]
    },
    {
     "name": "stderr",
     "output_type": "stream",
     "text": [
      "Processing items (pass 2):   2%|▏         | 10/472 [00:14<13:03,  1.70s/it]"
     ]
    },
    {
     "name": "stdout",
     "output_type": "stream",
     "text": [
      "💾 Saved caption to final_image_captions.json for doc2_p002_img01_5.png\n",
      "🧠 GPT judged context for doc2_p002_img02_8.png as irrelevant\n",
      "⚠️ Skipping context for doc2_p002_img02_8.png — using image only\n",
      "\n",
      "🧾 [Page 2] Context for full-page image → doc2_p002_img02_8.png\n",
      "------------------------------------------------------------\n",
      "\n",
      "------------------------------------------------------------\n"
     ]
    },
    {
     "name": "stderr",
     "output_type": "stream",
     "text": [
      "Processing items (pass 2):   2%|▏         | 11/472 [00:16<13:14,  1.72s/it]"
     ]
    },
    {
     "name": "stdout",
     "output_type": "stream",
     "text": [
      "💾 Saved caption to final_image_captions.json for doc2_p002_img02_8.png\n",
      "🧠 GPT judged context for doc2_p003_img00_5.png as irrelevant\n",
      "⚠️ Skipping context for doc2_p003_img00_5.png — using image only\n",
      "\n",
      "🧾 [Page 3] Context for full-page image → doc2_p003_img00_5.png\n",
      "------------------------------------------------------------\n",
      "\n",
      "------------------------------------------------------------\n"
     ]
    },
    {
     "name": "stderr",
     "output_type": "stream",
     "text": [
      "Processing items (pass 2):   5%|▍         | 23/472 [00:18<03:58,  1.88it/s]"
     ]
    },
    {
     "name": "stdout",
     "output_type": "stream",
     "text": [
      "💾 Saved caption to final_image_captions.json for doc2_p003_img00_5.png\n",
      "🧠 GPT judged context for doc2_p003_img01_2.png as irrelevant\n",
      "⚠️ Skipping context for doc2_p003_img01_2.png — using image only\n",
      "\n",
      "🧾 [Page 3] Context for full-page image → doc2_p003_img01_2.png\n",
      "------------------------------------------------------------\n",
      "\n",
      "------------------------------------------------------------\n"
     ]
    },
    {
     "name": "stderr",
     "output_type": "stream",
     "text": [
      "Processing items (pass 2):   5%|▌         | 24/472 [00:20<05:05,  1.47it/s]"
     ]
    },
    {
     "name": "stdout",
     "output_type": "stream",
     "text": [
      "💾 Saved caption to final_image_captions.json for doc2_p003_img01_2.png\n",
      "🧠 GPT judged context for doc2_p006_img02_8.png as relevant\n",
      "\n",
      "🧾 [Page 6] Context for full-page image → doc2_p006_img02_8.png\n",
      "------------------------------------------------------------\n",
      "MACHINES AND\n",
      "                                                         ACCESSORIES\n",
      "\n",
      "\n",
      "\n",
      "\n",
      "The Gear head lathe has been designed and built with mechanical guards and safety devices\n",
      "designed to protect the operator/user from possible injury.\n",
      "It is strictly forbidden to modify or remove guards, safety devices and caution labels. If you\n",
      "do so temporarily (for example, for the purposes of cleaning or repair), make sure that no\n",
      "one can use the machine.\n",
      "\n",
      "Graphic representation of safety, operational and risk warnings\n",
      "\n",
      "The following boxes are designed to attract the attention of the reader / user for the proper\n",
      "and safe use of the machine:\n",
      "\n",
      "\n",
      "     Pay Attention\n",
      "\n",
      "The following boxes are designed to attract the attention of the reader / user for the proper\n",
      "and safe use of the machine:\n",
      "\n",
      "\n",
      "     Pay Attention\n",
      "\n",
      "This highlights behavioural rules to prevent damage to the machine and/or the occurrence of\n",
      "dangerous situations.\n",
      "\n",
      "\n",
      "      Residual Risks\n",
      "\n",
      "This highlights the presence of dangers that cause residual\n",
      "------------------------------------------------------------\n"
     ]
    },
    {
     "name": "stderr",
     "output_type": "stream",
     "text": [
      "Processing items (pass 2):  10%|▉         | 46/472 [00:23<01:51,  3.81it/s]"
     ]
    },
    {
     "name": "stdout",
     "output_type": "stream",
     "text": [
      "💾 Saved caption to final_image_captions.json for doc2_p006_img02_8.png\n",
      "🧠 GPT judged context for doc2_p006_img03_18.png as relevant\n",
      "\n",
      "🧾 [Page 6] Context for full-page image → doc2_p006_img03_18.png\n",
      "------------------------------------------------------------\n",
      "MACHINES AND\n",
      "                                                         ACCESSORIES\n",
      "\n",
      "\n",
      "\n",
      "\n",
      "The Gear head lathe has been designed and built with mechanical guards and safety devices\n",
      "designed to protect the operator/user from possible injury.\n",
      "It is strictly forbidden to modify or remove guards, safety devices and caution labels. If you\n",
      "do so temporarily (for example, for the purposes of cleaning or repair), make sure that no\n",
      "one can use the machine.\n",
      "\n",
      "Graphic representation of safety, operational and risk warnings\n",
      "\n",
      "The following boxes are designed to attract the attention of the reader / user for the proper\n",
      "and safe use of the machine:\n",
      "\n",
      "\n",
      "     Pay Attention\n",
      "\n",
      "The following boxes are designed to attract the attention of the reader / user for the proper\n",
      "and safe use of the machine:\n",
      "\n",
      "\n",
      "     Pay Attention\n",
      "\n",
      "This highlights behavioural rules to prevent damage to the machine and/or the occurrence of\n",
      "dangerous situations.\n",
      "\n",
      "\n",
      "      Residual Risks\n",
      "\n",
      "This highlights the presence of dangers that cause residual\n",
      "------------------------------------------------------------\n"
     ]
    },
    {
     "name": "stderr",
     "output_type": "stream",
     "text": [
      "Processing items (pass 2):  10%|▉         | 47/472 [00:25<02:25,  2.91it/s]"
     ]
    },
    {
     "name": "stdout",
     "output_type": "stream",
     "text": [
      "💾 Saved caption to final_image_captions.json for doc2_p006_img03_18.png\n",
      "🧠 GPT judged context for doc2_p011_img02_18.png as irrelevant\n",
      "⚠️ Skipping context for doc2_p011_img02_18.png — using image only\n",
      "\n",
      "🧾 [Page 11] Context for full-page image → doc2_p011_img02_18.png\n",
      "------------------------------------------------------------\n",
      "\n",
      "------------------------------------------------------------\n"
     ]
    },
    {
     "name": "stderr",
     "output_type": "stream",
     "text": [
      "Processing items (pass 2):  18%|█▊        | 87/472 [00:29<01:09,  5.57it/s]"
     ]
    },
    {
     "name": "stdout",
     "output_type": "stream",
     "text": [
      "💾 Saved caption to final_image_captions.json for doc2_p011_img02_18.png\n",
      "🧠 GPT judged context for doc2_p012_img02_32.png as relevant\n",
      "\n",
      "🧾 [Page 12] Context for full-page image → doc2_p012_img02_32.png\n",
      "------------------------------------------------------------\n",
      "MACHINES AND\n",
      "                                                         ACCESSORIES\n",
      "\n",
      "\n",
      "The lathe is equipped with a support base and must be installed and used on flat surfaces,\n",
      "with ergonomic features and adequate resistance.\n",
      "The Lathe can operate in closed work environments (production halls, warehouses, etc.), i.e.\n",
      "protected from the weather and where there is no danger of fire or explosion.\n",
      "\n",
      "The operating temperature range is -20 to +50°C.\n",
      "\n",
      "The environment must also be sufficiently illuminated so as to ensure operation in maximum\n",
      "safety (at least 200 lux is recommended).\n",
      "\n",
      "The operating temperature range is -20 to +50°C.\n",
      "\n",
      "The environment must also be sufficiently illuminated so as to ensure operation in maximum\n",
      "safety (at least 200 lux is recommended).\n",
      "\n",
      "There are two main groups within the Lathe (see figure 1):\n",
      "      The spindle shaft unit;\n",
      "      The sliding tool holder unit.\n",
      "\n",
      "The first is constituted by the spindle, which is made integral with the workpiece, and by the\n",
      "components th\n",
      "------------------------------------------------------------\n"
     ]
    },
    {
     "name": "stderr",
     "output_type": "stream",
     "text": [
      "Processing items (pass 2):  19%|█▉        | 92/472 [00:34<01:40,  3.76it/s]"
     ]
    },
    {
     "name": "stdout",
     "output_type": "stream",
     "text": [
      "💾 Saved caption to final_image_captions.json for doc2_p012_img02_32.png\n",
      "🧠 GPT judged context for doc2_p013_img02_515.png as relevant\n",
      "\n",
      "🧾 [Page 13] Context for full-page image → doc2_p013_img02_515.png\n",
      "------------------------------------------------------------\n",
      "MACHINES AND\n",
      " ACCESSORIES\n",
      "\n",
      "\n",
      " 4.2 Description of the main parts\n",
      "\n",
      "\n",
      "\n",
      "                                             10\n",
      "                                                        11   12\n",
      "                                                                  13                                 8      9\n",
      "                                                                       14   15    17                         7\n",
      "              24\n",
      "                                                                                     16\n",
      "\n",
      "              6\n",
      "                                                                                        18\n",
      "              5\n",
      "\n",
      "6\n",
      "                                                                                        18\n",
      "              5\n",
      "\n",
      "                                                                                        19              4\n",
      "\n",
      "\n",
      "                                                                                        20\n",
      "\n",
      "\n",
      "                                                            \n",
      "------------------------------------------------------------\n"
     ]
    },
    {
     "name": "stderr",
     "output_type": "stream",
     "text": [
      "Processing items (pass 2):  21%|██        | 98/472 [00:37<01:53,  3.30it/s]"
     ]
    },
    {
     "name": "stdout",
     "output_type": "stream",
     "text": [
      "💾 Saved caption to final_image_captions.json for doc2_p013_img02_515.png\n",
      "🧠 GPT judged context for doc2_p014_img02_38.png as irrelevant\n",
      "⚠️ Skipping context for doc2_p014_img02_38.png — using image only\n",
      "\n",
      "🧾 [Page 14] Context for full-page image → doc2_p014_img02_38.png\n",
      "------------------------------------------------------------\n",
      "\n",
      "------------------------------------------------------------\n"
     ]
    },
    {
     "name": "stderr",
     "output_type": "stream",
     "text": [
      "Processing items (pass 2):  22%|██▏       | 105/472 [00:39<01:52,  3.25it/s]"
     ]
    },
    {
     "name": "stdout",
     "output_type": "stream",
     "text": [
      "💾 Saved caption to final_image_captions.json for doc2_p014_img02_38.png\n",
      "🧠 GPT judged context for doc2_p014_img03_40.png as relevant\n",
      "\n",
      "🧾 [Page 14] Context for full-page image → doc2_p014_img03_40.png\n",
      "------------------------------------------------------------\n",
      "4.2.3 Spindle speed adjustment levers\n",
      "The panel for the adjustment of the spindle rotation speed (see\n",
      "figure 4), is positioned at the left part of the machine, between the\n",
      "spindle and the feeding speed change gearbox. It is equipped with\n",
      "two levers for selection of the desired rotation speed, depending on\n",
      "the type of processing and the material.fervi.com\n",
      "                                                                    Figure  4  –  Speed\n",
      "                                                              adjustment lever.\n",
      "\n",
      "\n",
      "\n",
      "\n",
      "\n",
      " Page 14 of 84\n",
      "\n",
      "4.2.2 Head and spindle\n",
      "The head is made of high strength cast iron, in addition two internal  protrusions which have\n",
      "been introduced that increase rigidity, reducing vibration during high speed machining.\n",
      "The different spindle speeds are obtained by means of a gear speed change (see also section\n",
      "4.2.3 of this manual).\n",
      "The head is made of high strength cast iron, in addition two internal  protrusions which have\n",
      "been introduced that increase rigidity, \n",
      "------------------------------------------------------------\n"
     ]
    },
    {
     "name": "stderr",
     "output_type": "stream",
     "text": [
      "Processing items (pass 2):  22%|██▏       | 106/472 [00:42<02:25,  2.52it/s]"
     ]
    },
    {
     "name": "stdout",
     "output_type": "stream",
     "text": [
      "💾 Saved caption to final_image_captions.json for doc2_p014_img03_40.png\n",
      "🧠 GPT judged context for doc2_p015_img02_44.png as relevant\n",
      "\n",
      "🧾 [Page 15] Context for full-page image → doc2_p015_img02_44.png\n",
      "------------------------------------------------------------\n",
      "Figure 5 – Speed\n",
      "                                                                      adjustment.\n",
      "\n",
      " 4.2.5 Tool holder carriage\n",
      " The carriage sliding along the  rails of the bed  is used to hold,\n",
      " position and feed the tool. The various parts (see figure 6), are\n",
      " made of cast iron, with hardened and ground guides for greater\n",
      " stability. The carriage is equipped with an independent system that\n",
      " ensures the lubrication of the moving parts.\n",
      " The handwheels to move the carriage and the levers are easy to\n",
      " reach and easy to use.\n",
      "\n",
      "MACHINES AND\n",
      " ACCESSORIES\n",
      "\n",
      "\n",
      "\n",
      " 4.2.4 Feed speed adjustment panel\n",
      "\n",
      " The panel for the adjustment of the spindle rotation speed (see\n",
      " figure 5), is positioned at the left part of the machine, under the\n",
      " spindle speed adjustment panel. The lathe is provided with gears\n",
      " that can guarantee  the  considerable  availability  of  feeds and\n",
      " threads (metric and inch). The selection of the steps is made using\n",
      " 4 rotary knob switches which control the gear speed change. There\n",
      "\n",
      "------------------------------------------------------------\n"
     ]
    },
    {
     "name": "stderr",
     "output_type": "stream",
     "text": [
      "Processing items (pass 2):  24%|██▎       | 112/472 [00:44<02:20,  2.57it/s]"
     ]
    },
    {
     "name": "stdout",
     "output_type": "stream",
     "text": [
      "💾 Saved caption to final_image_captions.json for doc2_p015_img02_44.png\n",
      "🧠 GPT judged context for doc2_p015_img03_46.png as irrelevant\n",
      "⚠️ Skipping context for doc2_p015_img03_46.png — using image only\n",
      "\n",
      "🧾 [Page 15] Context for full-page image → doc2_p015_img03_46.png\n",
      "------------------------------------------------------------\n",
      "\n",
      "------------------------------------------------------------\n"
     ]
    },
    {
     "name": "stderr",
     "output_type": "stream",
     "text": [
      "Processing items (pass 2):  24%|██▍       | 113/472 [00:46<03:01,  1.98it/s]"
     ]
    },
    {
     "name": "stdout",
     "output_type": "stream",
     "text": [
      "💾 Saved caption to final_image_captions.json for doc2_p015_img03_46.png\n",
      "🧠 GPT judged context for doc2_p015_img04_48.png as irrelevant\n",
      "⚠️ Skipping context for doc2_p015_img04_48.png — using image only\n",
      "\n",
      "🧾 [Page 15] Context for full-page image → doc2_p015_img04_48.png\n",
      "------------------------------------------------------------\n",
      "\n",
      "------------------------------------------------------------\n"
     ]
    },
    {
     "name": "stderr",
     "output_type": "stream",
     "text": [
      "Processing items (pass 2):  24%|██▍       | 114/472 [00:49<04:00,  1.49it/s]"
     ]
    },
    {
     "name": "stdout",
     "output_type": "stream",
     "text": [
      "💾 Saved caption to final_image_captions.json for doc2_p015_img04_48.png\n",
      "🧠 GPT judged context for doc2_p016_img02_52.png as relevant\n",
      "\n",
      "🧾 [Page 16] Context for full-page image → doc2_p016_img02_52.png\n",
      "------------------------------------------------------------\n",
      "MACHINES AND\n",
      "                                                         ACCESSORIES\n",
      "\n",
      "\n",
      "\n",
      "4.2.7 Steady rest\n",
      "In the operations of drilling, boring and facing, the tailstock can not\n",
      "be used to secure the work piece.\n",
      "On the other hand,  if the pieces are long and heavy,  it  is not\n",
      "enough to use only a self-centring spindle, but you must attach one\n",
      "end of the work piece using a tool called a steady rest (see figure\n",
      "8)\n",
      "They are supplied with two rests: steady rest and follow rest\n",
      "\n",
      "\n",
      "                                                                       Figure 8 – Rests.\n",
      "\n",
      "4.2.8 Electric control panel\n",
      "\n",
      "Figure 8 – Rests.\n",
      "\n",
      "4.2.8 Electric control panel\n",
      "\n",
      "\n",
      "\n",
      "\n",
      "\n",
      "                    Figure A                                 Figure B\n",
      "Figure A\n",
      "WHITE WARNING LIGHT :         Indicates the presence of voltage\n",
      "BLACK SELECTOR :    Coolant pump selector\n",
      "GREEN BUTTON :Gears application button\n",
      "RED MUSHROOM :         EMERGENCY STOP\n",
      "\n",
      "Figure B\n",
      "Main switch with safety key\n",
      "\n",
      "\n",
      "4.2.9 Pedal brake\n",
      "The machine is equipped with \n",
      "------------------------------------------------------------\n"
     ]
    },
    {
     "name": "stderr",
     "output_type": "stream",
     "text": [
      "Processing items (pass 2):  25%|██▌       | 118/472 [00:51<03:43,  1.58it/s]"
     ]
    },
    {
     "name": "stdout",
     "output_type": "stream",
     "text": [
      "💾 Saved caption to final_image_captions.json for doc2_p016_img02_52.png\n",
      "🧠 GPT judged context for doc2_p016_img03_54.png as relevant\n",
      "\n",
      "🧾 [Page 16] Context for full-page image → doc2_p016_img03_54.png\n",
      "------------------------------------------------------------\n",
      "MACHINES AND\n",
      "                                                         ACCESSORIES\n",
      "\n",
      "\n",
      "\n",
      "4.2.7 Steady rest\n",
      "In the operations of drilling, boring and facing, the tailstock can not\n",
      "be used to secure the work piece.\n",
      "On the other hand,  if the pieces are long and heavy,  it  is not\n",
      "enough to use only a self-centring spindle, but you must attach one\n",
      "end of the work piece using a tool called a steady rest (see figure\n",
      "8)\n",
      "They are supplied with two rests: steady rest and follow rest\n",
      "\n",
      "\n",
      "                                                                       Figure 8 – Rests.\n",
      "\n",
      "4.2.8 Electric control panel\n",
      "\n",
      "Figure 8 – Rests.\n",
      "\n",
      "4.2.8 Electric control panel\n",
      "\n",
      "\n",
      "\n",
      "\n",
      "\n",
      "                    Figure A                                 Figure B\n",
      "Figure A\n",
      "WHITE WARNING LIGHT :         Indicates the presence of voltage\n",
      "BLACK SELECTOR :    Coolant pump selector\n",
      "GREEN BUTTON :Gears application button\n",
      "RED MUSHROOM :         EMERGENCY STOP\n",
      "\n",
      "Figure B\n",
      "Main switch with safety key\n",
      "\n",
      "\n",
      "4.2.9 Pedal brake\n",
      "The machine is equipped with \n",
      "------------------------------------------------------------\n"
     ]
    },
    {
     "name": "stderr",
     "output_type": "stream",
     "text": [
      "Processing items (pass 2):  25%|██▌       | 119/472 [00:54<05:20,  1.10it/s]"
     ]
    },
    {
     "name": "stdout",
     "output_type": "stream",
     "text": [
      "💾 Saved caption to final_image_captions.json for doc2_p016_img03_54.png\n",
      "🧠 GPT judged context for doc2_p016_img04_56.png as irrelevant\n",
      "⚠️ Skipping context for doc2_p016_img04_56.png — using image only\n",
      "\n",
      "🧾 [Page 16] Context for full-page image → doc2_p016_img04_56.png\n",
      "------------------------------------------------------------\n",
      "\n",
      "------------------------------------------------------------\n"
     ]
    },
    {
     "name": "stderr",
     "output_type": "stream",
     "text": [
      "Processing items (pass 2):  25%|██▌       | 120/472 [00:57<06:21,  1.08s/it]"
     ]
    },
    {
     "name": "stdout",
     "output_type": "stream",
     "text": [
      "💾 Saved caption to final_image_captions.json for doc2_p016_img04_56.png\n",
      "🧠 GPT judged context for doc2_p016_img05_58.png as irrelevant\n",
      "⚠️ Skipping context for doc2_p016_img05_58.png — using image only\n",
      "\n",
      "🧾 [Page 16] Context for full-page image → doc2_p016_img05_58.png\n",
      "------------------------------------------------------------\n",
      "\n",
      "------------------------------------------------------------\n"
     ]
    },
    {
     "name": "stderr",
     "output_type": "stream",
     "text": [
      "Processing items (pass 2):  26%|██▌       | 121/472 [00:59<06:58,  1.19s/it]"
     ]
    },
    {
     "name": "stdout",
     "output_type": "stream",
     "text": [
      "💾 Saved caption to final_image_captions.json for doc2_p016_img05_58.png\n",
      "🧠 GPT judged context for doc2_p017_img02_62.png as irrelevant\n",
      "⚠️ Skipping context for doc2_p017_img02_62.png — using image only\n",
      "\n",
      "🧾 [Page 17] Context for full-page image → doc2_p017_img02_62.png\n",
      "------------------------------------------------------------\n",
      "\n",
      "------------------------------------------------------------\n"
     ]
    },
    {
     "name": "stderr",
     "output_type": "stream",
     "text": [
      "Processing items (pass 2):  26%|██▋       | 124/472 [01:01<06:06,  1.05s/it]"
     ]
    },
    {
     "name": "stdout",
     "output_type": "stream",
     "text": [
      "💾 Saved caption to final_image_captions.json for doc2_p017_img02_62.png\n",
      "🧠 GPT judged context for doc2_p017_img03_64.png as relevant\n",
      "\n",
      "🧾 [Page 17] Context for full-page image → doc2_p017_img03_64.png\n",
      "------------------------------------------------------------\n",
      "MACHINES AND\n",
      " ACCESSORIES\n",
      "\n",
      "\n",
      " 4.2.10     Rotation reverse lever\n",
      " Lever for reversing the rotation direction of the electric motor. The lever is located to the\n",
      " right of the tool holder carriage.\n",
      "\n",
      "\n",
      "\n",
      "\n",
      "\n",
      "                                  Figure 10 – Reverse lever.\n",
      " 4.3 Identification plate\n",
      " On the machine, and in particular on the feed speed change gearbox, there is the following\n",
      " identification plate (see Figure 11):\n",
      "fervi.com\n",
      "\n",
      "\n",
      "\n",
      "\n",
      "\n",
      "                               Figure 11 – Identification plate.\n",
      "\n",
      "\n",
      "\n",
      "                                                                                      Page 17 of 84\n",
      "\n",
      "MACHINES AND\n",
      "                                                         ACCESSORIES\n",
      "\n",
      "\n",
      "\n",
      "4.2.7 Steady rest\n",
      "In the operations of drilling, boring and facing, the tailstock can not\n",
      "be used to secure the work piece.\n",
      "On the other hand,  if the pieces are long and heavy,  it  is not\n",
      "enough to use only a self-centring spindle, but you must attach one\n",
      "end of the work piece using a tool called a steady rest \n",
      "------------------------------------------------------------\n"
     ]
    },
    {
     "name": "stderr",
     "output_type": "stream",
     "text": [
      "Processing items (pass 2):  26%|██▋       | 125/472 [01:04<07:38,  1.32s/it]"
     ]
    },
    {
     "name": "stdout",
     "output_type": "stream",
     "text": [
      "💾 Saved caption to final_image_captions.json for doc2_p017_img03_64.png\n",
      "🧠 GPT judged context for doc2_p017_img04_66.png as relevant\n",
      "\n",
      "🧾 [Page 17] Context for full-page image → doc2_p017_img04_66.png\n",
      "------------------------------------------------------------\n",
      "MACHINES AND\n",
      " ACCESSORIES\n",
      "\n",
      "\n",
      " 4.2.10     Rotation reverse lever\n",
      " Lever for reversing the rotation direction of the electric motor. The lever is located to the\n",
      " right of the tool holder carriage.\n",
      "\n",
      "\n",
      "\n",
      "\n",
      "\n",
      "                                  Figure 10 – Reverse lever.\n",
      " 4.3 Identification plate\n",
      " On the machine, and in particular on the feed speed change gearbox, there is the following\n",
      " identification plate (see Figure 11):\n",
      "fervi.com\n",
      "\n",
      "\n",
      "\n",
      "\n",
      "\n",
      "                               Figure 11 – Identification plate.\n",
      "\n",
      "\n",
      "\n",
      "                                                                                      Page 17 of 84\n",
      "\n",
      "MACHINES AND\n",
      "                                                         ACCESSORIES\n",
      "\n",
      "\n",
      "\n",
      "4.2.7 Steady rest\n",
      "In the operations of drilling, boring and facing, the tailstock can not\n",
      "be used to secure the work piece.\n",
      "On the other hand,  if the pieces are long and heavy,  it  is not\n",
      "enough to use only a self-centring spindle, but you must attach one\n",
      "end of the work piece using a tool called a steady rest \n",
      "------------------------------------------------------------\n"
     ]
    },
    {
     "name": "stderr",
     "output_type": "stream",
     "text": [
      "Processing items (pass 2):  27%|██▋       | 126/472 [01:07<09:14,  1.60s/it]"
     ]
    },
    {
     "name": "stdout",
     "output_type": "stream",
     "text": [
      "💾 Saved caption to final_image_captions.json for doc2_p017_img04_66.png\n",
      "🧠 GPT judged context for doc2_p017_img05_68.png as relevant\n",
      "\n",
      "🧾 [Page 17] Context for full-page image → doc2_p017_img05_68.png\n",
      "------------------------------------------------------------\n",
      "MACHINES AND\n",
      " ACCESSORIES\n",
      "\n",
      "\n",
      " 4.2.10     Rotation reverse lever\n",
      " Lever for reversing the rotation direction of the electric motor. The lever is located to the\n",
      " right of the tool holder carriage.\n",
      "\n",
      "\n",
      "\n",
      "\n",
      "\n",
      "                                  Figure 10 – Reverse lever.\n",
      " 4.3 Identification plate\n",
      " On the machine, and in particular on the feed speed change gearbox, there is the following\n",
      " identification plate (see Figure 11):\n",
      "fervi.com\n",
      "\n",
      "\n",
      "\n",
      "\n",
      "\n",
      "                               Figure 11 – Identification plate.\n",
      "\n",
      "\n",
      "\n",
      "                                                                                      Page 17 of 84\n",
      "\n",
      "MACHINES AND\n",
      "                                                         ACCESSORIES\n",
      "\n",
      "\n",
      "\n",
      "4.2.7 Steady rest\n",
      "In the operations of drilling, boring and facing, the tailstock can not\n",
      "be used to secure the work piece.\n",
      "On the other hand,  if the pieces are long and heavy,  it  is not\n",
      "enough to use only a self-centring spindle, but you must attach one\n",
      "end of the work piece using a tool called a steady rest \n",
      "------------------------------------------------------------\n"
     ]
    },
    {
     "name": "stderr",
     "output_type": "stream",
     "text": [
      "Processing items (pass 2):  27%|██▋       | 127/472 [01:10<10:44,  1.87s/it]"
     ]
    },
    {
     "name": "stdout",
     "output_type": "stream",
     "text": [
      "💾 Saved caption to final_image_captions.json for doc2_p017_img05_68.png\n",
      "🧠 GPT judged context for doc2_p017_img06_70.png as relevant\n",
      "\n",
      "🧾 [Page 17] Context for full-page image → doc2_p017_img06_70.png\n",
      "------------------------------------------------------------\n",
      "MACHINES AND\n",
      " ACCESSORIES\n",
      "\n",
      "\n",
      " 4.2.10     Rotation reverse lever\n",
      " Lever for reversing the rotation direction of the electric motor. The lever is located to the\n",
      " right of the tool holder carriage.\n",
      "\n",
      "\n",
      "\n",
      "\n",
      "\n",
      "                                  Figure 10 – Reverse lever.\n",
      " 4.3 Identification plate\n",
      " On the machine, and in particular on the feed speed change gearbox, there is the following\n",
      " identification plate (see Figure 11):\n",
      "fervi.com\n",
      "\n",
      "\n",
      "\n",
      "\n",
      "\n",
      "                               Figure 11 – Identification plate.\n",
      "\n",
      "\n",
      "\n",
      "                                                                                      Page 17 of 84\n",
      "\n",
      "MACHINES AND\n",
      "                                                         ACCESSORIES\n",
      "\n",
      "\n",
      "\n",
      "4.2.7 Steady rest\n",
      "In the operations of drilling, boring and facing, the tailstock can not\n",
      "be used to secure the work piece.\n",
      "On the other hand,  if the pieces are long and heavy,  it  is not\n",
      "enough to use only a self-centring spindle, but you must attach one\n",
      "end of the work piece using a tool called a steady rest \n",
      "------------------------------------------------------------\n"
     ]
    },
    {
     "name": "stderr",
     "output_type": "stream",
     "text": [
      "Processing items (pass 2):  27%|██▋       | 128/472 [01:12<11:12,  1.95s/it]"
     ]
    },
    {
     "name": "stdout",
     "output_type": "stream",
     "text": [
      "💾 Saved caption to final_image_captions.json for doc2_p017_img06_70.png\n",
      "🧠 GPT judged context for doc2_p018_img04_78.png as relevant\n",
      "\n",
      "🧾 [Page 18] Context for full-page image → doc2_p018_img04_78.png\n",
      "------------------------------------------------------------\n",
      "In ottemperanza al Dgs.81/08 relativo alla prevenzioni                                                                    prevention\n",
      "                                   infortuni\n",
      "\n",
      "NON                                                   DO NOT\n",
      "           RIMUOVERE                                                       REMOVE\n",
      "                        I DISPOSITIVI DI                                                                                    THE SAFETY DEVICES                     SICUREZZAfervi.com\n",
      "\n",
      "\n",
      "\n",
      "\n",
      "\n",
      "                                   Figure 12 - Pictograms\n",
      "\n",
      "\n",
      "\n",
      "\n",
      "\n",
      " Page 18 of 84\n",
      "\n",
      "AUTORIZZATE DAL CAPO RESPONSABILE                                                                    UNDER PARTICULARLY DANGEROUS CONDITIONS,\n",
      "      IN CONDIZIONI DI PARTICOLARE PERICOLO DEVE                                                                               ANOTHER PERSON MUST BE PRESENT WHO IS NOT        ESSERE PRESENTE UN’ALTRA PERSONA OLTRE A CHI\n",
      "                                               \n",
      "------------------------------------------------------------\n"
     ]
    },
    {
     "name": "stderr",
     "output_type": "stream",
     "text": [
      "Processing items (pass 2):  29%|██▉       | 136/472 [01:13<03:51,  1.45it/s]"
     ]
    },
    {
     "name": "stdout",
     "output_type": "stream",
     "text": [
      "💾 Saved caption to final_image_captions.json for doc2_p018_img04_78.png\n",
      "🧠 GPT judged context for doc2_p018_img05_80.png as relevant\n",
      "\n",
      "🧾 [Page 18] Context for full-page image → doc2_p018_img05_80.png\n",
      "------------------------------------------------------------\n",
      "In ottemperanza al Dgs.81/08 relativo alla prevenzioni                                                                    prevention\n",
      "                                   infortuni\n",
      "\n",
      "NON                                                   DO NOT\n",
      "           RIMUOVERE                                                       REMOVE\n",
      "                        I DISPOSITIVI DI                                                                                    THE SAFETY DEVICES                     SICUREZZAfervi.com\n",
      "\n",
      "\n",
      "\n",
      "\n",
      "\n",
      "                                   Figure 12 - Pictograms\n",
      "\n",
      "\n",
      "\n",
      "\n",
      "\n",
      " Page 18 of 84\n",
      "\n",
      "AUTORIZZATE DAL CAPO RESPONSABILE                                                                    UNDER PARTICULARLY DANGEROUS CONDITIONS,\n",
      "      IN CONDIZIONI DI PARTICOLARE PERICOLO DEVE                                                                               ANOTHER PERSON MUST BE PRESENT WHO IS NOT        ESSERE PRESENTE UN’ALTRA PERSONA OLTRE A CHI\n",
      "                                               \n",
      "------------------------------------------------------------\n"
     ]
    },
    {
     "name": "stderr",
     "output_type": "stream",
     "text": [
      "Processing items (pass 2):  29%|██▉       | 137/472 [01:18<06:23,  1.15s/it]"
     ]
    },
    {
     "name": "stdout",
     "output_type": "stream",
     "text": [
      "💾 Saved caption to final_image_captions.json for doc2_p018_img05_80.png\n",
      "🧠 GPT judged context for doc2_p018_img06_82.png as relevant\n",
      "\n",
      "🧾 [Page 18] Context for full-page image → doc2_p018_img06_82.png\n",
      "------------------------------------------------------------\n",
      "In ottemperanza al Dgs.81/08 relativo alla prevenzioni                                                                    prevention\n",
      "                                   infortuni\n",
      "\n",
      "NON                                                   DO NOT\n",
      "           RIMUOVERE                                                       REMOVE\n",
      "                        I DISPOSITIVI DI                                                                                    THE SAFETY DEVICES                     SICUREZZAfervi.com\n",
      "\n",
      "\n",
      "\n",
      "\n",
      "\n",
      "                                   Figure 12 - Pictograms\n",
      "\n",
      "\n",
      "\n",
      "\n",
      "\n",
      " Page 18 of 84\n",
      "\n",
      "AUTORIZZATE DAL CAPO RESPONSABILE                                                                    UNDER PARTICULARLY DANGEROUS CONDITIONS,\n",
      "      IN CONDIZIONI DI PARTICOLARE PERICOLO DEVE                                                                               ANOTHER PERSON MUST BE PRESENT WHO IS NOT        ESSERE PRESENTE UN’ALTRA PERSONA OLTRE A CHI\n",
      "                                               \n",
      "------------------------------------------------------------\n"
     ]
    },
    {
     "name": "stderr",
     "output_type": "stream",
     "text": [
      "Processing items (pass 2):  29%|██▉       | 138/472 [01:21<07:35,  1.36s/it]"
     ]
    },
    {
     "name": "stdout",
     "output_type": "stream",
     "text": [
      "💾 Saved caption to final_image_captions.json for doc2_p018_img06_82.png\n",
      "🧠 GPT judged context for doc2_p020_img02_88.png as relevant\n",
      "\n",
      "🧾 [Page 20] Context for full-page image → doc2_p020_img02_88.png\n",
      "------------------------------------------------------------\n",
      "MACHINES AND\n",
      "                                                         ACCESSORIES\n",
      "\n",
      "\n",
      "5.2 Mechanical Safety Devices\n",
      "Protective screens\n",
      "The screens and guards have the role of protecting the operator by preventing coolant, chips,\n",
      "splinters, tool fragments or even the workpiece, which may detach, from being projected\n",
      "towards the face or torso. The screens are fixed or mobile (see Figure 13).\n",
      "\n",
      "Figure 13 – Position of the protective screens.\n",
      "LEGEND:\n",
      "1: Gearbox guard (fixed);\n",
      "2: Protective screen for the spindle (movable interlocked);\n",
      "The interlocking movable guards, are equipped with suitable safety switches, connected to\n",
      "the machine's control system (electric circuit), so that the opening of the movable screen\n",
      "causes the motion of the spindle and the dangerous moving parts to stop.\n",
      "\n",
      "\n",
      "     Checking the Safety devices\n",
      "\n",
      "  Each time the Lathe is used, check that the safety devices function and are positioned\n",
      "   properly.\n",
      "  In case of damage and/or breakage, do not use the machine.\n",
      "\n",
      "  Each ti\n",
      "------------------------------------------------------------\n"
     ]
    },
    {
     "name": "stderr",
     "output_type": "stream",
     "text": [
      "Processing items (pass 2):  31%|███▏      | 148/472 [01:23<03:16,  1.65it/s]"
     ]
    },
    {
     "name": "stdout",
     "output_type": "stream",
     "text": [
      "💾 Saved caption to final_image_captions.json for doc2_p020_img02_88.png\n",
      "🧠 GPT judged context for doc2_p021_img03_93.png as irrelevant\n",
      "⚠️ Skipping context for doc2_p021_img03_93.png — using image only\n",
      "\n",
      "🧾 [Page 21] Context for full-page image → doc2_p021_img03_93.png\n",
      "------------------------------------------------------------\n",
      "\n",
      "------------------------------------------------------------\n"
     ]
    },
    {
     "name": "stderr",
     "output_type": "stream",
     "text": [
      "Processing items (pass 2):  32%|███▏      | 151/472 [01:25<03:13,  1.66it/s]"
     ]
    },
    {
     "name": "stdout",
     "output_type": "stream",
     "text": [
      "💾 Saved caption to final_image_captions.json for doc2_p021_img03_93.png\n",
      "🧠 GPT judged context for doc2_p021_img04_95.png as relevant\n",
      "\n",
      "🧾 [Page 21] Context for full-page image → doc2_p021_img04_95.png\n",
      "------------------------------------------------------------\n",
      "MACHINES AND\n",
      " ACCESSORIES\n",
      "\n",
      "\n",
      " 5.3 Personal Protective Equipment (PPE)\n",
      "\n",
      "\n",
      "      Use of PPE\n",
      "\n",
      " ALWAYS use appropriate personal protective equipment (PPE) such as (see Figure 14):\n",
      "   Gloves;\n",
      "   Goggles or face shields;\n",
      "   Overalls or aprons;\n",
      "   Safety shoes.\n",
      "\n",
      "\n",
      "\n",
      "\n",
      "\n",
      "   PROTECTIVE    PROTECT YOUR    PROTECTIVE     PROTECTIVE     PROTECTIVE\n",
      "    GLOVES          EYES         SCREEN       CLOTHING       SHOES\n",
      "\n",
      "                          Figure 14 – Personal Protective Equipment.fervi.com\n",
      "\n",
      "\n",
      "\n",
      "\n",
      "\n",
      "                                                                                      Page 21 of 84\n",
      "\n",
      "MACHINES AND\n",
      "                                                         ACCESSORIES\n",
      "\n",
      "\n",
      "5.2 Mechanical Safety Devices\n",
      "Protective screens\n",
      "The screens and guards have the role of protecting the operator by preventing coolant, chips,\n",
      "splinters, tool fragments or even the workpiece, which may detach, from being projected\n",
      "towards the face or torso. The screens are fixed or mobile (see Figure 13).\n",
      "\n",
      "Figure 13 – Position\n",
      "------------------------------------------------------------\n"
     ]
    },
    {
     "name": "stderr",
     "output_type": "stream",
     "text": [
      "Processing items (pass 2):  32%|███▏      | 152/472 [01:27<04:07,  1.29it/s]"
     ]
    },
    {
     "name": "stdout",
     "output_type": "stream",
     "text": [
      "💾 Saved caption to final_image_captions.json for doc2_p021_img04_95.png\n",
      "🧠 GPT judged context for doc2_p021_img05_97.png as relevant\n",
      "\n",
      "🧾 [Page 21] Context for full-page image → doc2_p021_img05_97.png\n",
      "------------------------------------------------------------\n",
      "MACHINES AND\n",
      " ACCESSORIES\n",
      "\n",
      "\n",
      " 5.3 Personal Protective Equipment (PPE)\n",
      "\n",
      "\n",
      "      Use of PPE\n",
      "\n",
      " ALWAYS use appropriate personal protective equipment (PPE) such as (see Figure 14):\n",
      "   Gloves;\n",
      "   Goggles or face shields;\n",
      "   Overalls or aprons;\n",
      "   Safety shoes.\n",
      "\n",
      "\n",
      "\n",
      "\n",
      "\n",
      "   PROTECTIVE    PROTECT YOUR    PROTECTIVE     PROTECTIVE     PROTECTIVE\n",
      "    GLOVES          EYES         SCREEN       CLOTHING       SHOES\n",
      "\n",
      "                          Figure 14 – Personal Protective Equipment.fervi.com\n",
      "\n",
      "\n",
      "\n",
      "\n",
      "\n",
      "                                                                                      Page 21 of 84\n",
      "\n",
      "MACHINES AND\n",
      "                                                         ACCESSORIES\n",
      "\n",
      "\n",
      "5.2 Mechanical Safety Devices\n",
      "Protective screens\n",
      "The screens and guards have the role of protecting the operator by preventing coolant, chips,\n",
      "splinters, tool fragments or even the workpiece, which may detach, from being projected\n",
      "towards the face or torso. The screens are fixed or mobile (see Figure 13).\n",
      "\n",
      "Figure 13 – Position\n",
      "------------------------------------------------------------\n"
     ]
    },
    {
     "name": "stderr",
     "output_type": "stream",
     "text": [
      "Processing items (pass 2):  32%|███▏      | 153/472 [01:30<05:17,  1.01it/s]"
     ]
    },
    {
     "name": "stdout",
     "output_type": "stream",
     "text": [
      "💾 Saved caption to final_image_captions.json for doc2_p021_img05_97.png\n",
      "🧠 GPT judged context for doc2_p021_img06_99.png as relevant\n",
      "\n",
      "🧾 [Page 21] Context for full-page image → doc2_p021_img06_99.png\n",
      "------------------------------------------------------------\n",
      "MACHINES AND\n",
      " ACCESSORIES\n",
      "\n",
      "\n",
      " 5.3 Personal Protective Equipment (PPE)\n",
      "\n",
      "\n",
      "      Use of PPE\n",
      "\n",
      " ALWAYS use appropriate personal protective equipment (PPE) such as (see Figure 14):\n",
      "   Gloves;\n",
      "   Goggles or face shields;\n",
      "   Overalls or aprons;\n",
      "   Safety shoes.\n",
      "\n",
      "\n",
      "\n",
      "\n",
      "\n",
      "   PROTECTIVE    PROTECT YOUR    PROTECTIVE     PROTECTIVE     PROTECTIVE\n",
      "    GLOVES          EYES         SCREEN       CLOTHING       SHOES\n",
      "\n",
      "                          Figure 14 – Personal Protective Equipment.fervi.com\n",
      "\n",
      "\n",
      "\n",
      "\n",
      "\n",
      "                                                                                      Page 21 of 84\n",
      "\n",
      "MACHINES AND\n",
      "                                                         ACCESSORIES\n",
      "\n",
      "\n",
      "5.2 Mechanical Safety Devices\n",
      "Protective screens\n",
      "The screens and guards have the role of protecting the operator by preventing coolant, chips,\n",
      "splinters, tool fragments or even the workpiece, which may detach, from being projected\n",
      "towards the face or torso. The screens are fixed or mobile (see Figure 13).\n",
      "\n",
      "Figure 13 – Position\n",
      "------------------------------------------------------------\n"
     ]
    },
    {
     "name": "stderr",
     "output_type": "stream",
     "text": [
      "Processing items (pass 2):  33%|███▎      | 154/472 [01:33<06:43,  1.27s/it]"
     ]
    },
    {
     "name": "stdout",
     "output_type": "stream",
     "text": [
      "💾 Saved caption to final_image_captions.json for doc2_p021_img06_99.png\n",
      "🧠 GPT judged context for doc2_p021_img07_101.png as relevant\n",
      "\n",
      "🧾 [Page 21] Context for full-page image → doc2_p021_img07_101.png\n",
      "------------------------------------------------------------\n",
      "MACHINES AND\n",
      " ACCESSORIES\n",
      "\n",
      "\n",
      " 5.3 Personal Protective Equipment (PPE)\n",
      "\n",
      "\n",
      "      Use of PPE\n",
      "\n",
      " ALWAYS use appropriate personal protective equipment (PPE) such as (see Figure 14):\n",
      "   Gloves;\n",
      "   Goggles or face shields;\n",
      "   Overalls or aprons;\n",
      "   Safety shoes.\n",
      "\n",
      "\n",
      "\n",
      "\n",
      "\n",
      "   PROTECTIVE    PROTECT YOUR    PROTECTIVE     PROTECTIVE     PROTECTIVE\n",
      "    GLOVES          EYES         SCREEN       CLOTHING       SHOES\n",
      "\n",
      "                          Figure 14 – Personal Protective Equipment.fervi.com\n",
      "\n",
      "\n",
      "\n",
      "\n",
      "\n",
      "                                                                                      Page 21 of 84\n",
      "\n",
      "MACHINES AND\n",
      "                                                         ACCESSORIES\n",
      "\n",
      "\n",
      "5.2 Mechanical Safety Devices\n",
      "Protective screens\n",
      "The screens and guards have the role of protecting the operator by preventing coolant, chips,\n",
      "splinters, tool fragments or even the workpiece, which may detach, from being projected\n",
      "towards the face or torso. The screens are fixed or mobile (see Figure 13).\n",
      "\n",
      "Figure 13 – Position\n",
      "------------------------------------------------------------\n"
     ]
    },
    {
     "name": "stderr",
     "output_type": "stream",
     "text": [
      "Processing items (pass 2):  33%|███▎      | 155/472 [01:35<07:30,  1.42s/it]"
     ]
    },
    {
     "name": "stdout",
     "output_type": "stream",
     "text": [
      "💾 Saved caption to final_image_captions.json for doc2_p021_img07_101.png\n",
      "🧠 GPT judged context for doc2_p025_img04_111.png as relevant\n",
      "\n",
      "🧾 [Page 25] Context for full-page image → doc2_p025_img04_111.png\n",
      "------------------------------------------------------------\n",
      "MACHINES AND\n",
      " ACCESSORIES\n",
      "\n",
      "\n",
      "8 ASSEMBLY AND COMMISSIONING\n",
      " 8.1 Identification of the installation site\n",
      " To install the machine, identify an area that is well  lit, away from wet areas and has no\n",
      " sources of vibration nearby.\n",
      " The lathe must be located so that adequate space is available for the operator, so you can\n",
      " use it to its full potential, and safely adjust, maintain and clean the machine. In this regard,\n",
      " an area of at least two square metres in front of the machine must be kept free.\n",
      "\n",
      "       Installing the Machine\n",
      "\n",
      " Do not install the Machine outdoors to avoid deformation, loss of function and damage to the\n",
      " electrical control circuit.\n",
      "\n",
      "Installing the Machine\n",
      "\n",
      " Do not install the Machine outdoors to avoid deformation, loss of function and damage to the\n",
      " electrical control circuit.\n",
      "\n",
      " 8.2 Support base\n",
      " It is essential that the machine is positioned on a uniform, flat supporting surface that has\n",
      " sufficient strength to support it in any condition which may occur during normal use.\n",
      "\n",
      "------------------------------------------------------------\n"
     ]
    },
    {
     "name": "stderr",
     "output_type": "stream",
     "text": [
      "Processing items (pass 2):  38%|███▊      | 177/472 [01:37<01:24,  3.48it/s]"
     ]
    },
    {
     "name": "stdout",
     "output_type": "stream",
     "text": [
      "💾 Saved caption to final_image_captions.json for doc2_p025_img04_111.png\n",
      "🧠 GPT judged context for doc2_p028_img02_120.png as relevant\n",
      "\n",
      "🧾 [Page 28] Context for full-page image → doc2_p028_img02_120.png\n",
      "------------------------------------------------------------\n",
      "MACHINES AND\n",
      "                                                         ACCESSORIES\n",
      "\n",
      "\n",
      "9 DESCRIPTION OF CONTROLS\n",
      "9.1 Control buttons\n",
      "\n",
      "9.1.1 Main switch\n",
      "The main switch with safety key is located on the left side of the electric panel, and  it is\n",
      "useful to prevent unauthorised use of the machine.\n",
      "To power the machine (see Figure 16), in fact, it is necessary to:\n",
      "  insert the safety key into the lock to the left of the switch (marked R.L.);\n",
      "  turn the key clockwise and simultaneously turn the main switch to \"I\", by turning  it\n",
      "   clockwise.\n",
      "\n",
      "\n",
      "\n",
      "\n",
      "\n",
      "                                  Figure 16 - Main switch.\n",
      "\n",
      "Confirm the white power light has turned on, found on the electrical panel (marked POWER).\n",
      "\n",
      "Figure 16 - Main switch.\n",
      "\n",
      "Confirm the white power light has turned on, found on the electrical panel (marked POWER).\n",
      "\n",
      "\n",
      "9.1.2 Electric and control panel buttons and lights\n",
      "\n",
      "\n",
      "\n",
      "\n",
      "\n",
      "                           Figure 17 – Electrical and control panel.\n",
      "\n",
      "The electrical panel has the following controls: fer\n",
      "------------------------------------------------------------\n"
     ]
    },
    {
     "name": "stderr",
     "output_type": "stream",
     "text": [
      "Processing items (pass 2):  40%|████      | 191/472 [01:39<01:06,  4.22it/s]"
     ]
    },
    {
     "name": "stdout",
     "output_type": "stream",
     "text": [
      "💾 Saved caption to final_image_captions.json for doc2_p028_img02_120.png\n",
      "🧠 GPT judged context for doc2_p028_img03_54.png as relevant\n",
      "\n",
      "🧾 [Page 28] Context for full-page image → doc2_p028_img03_54.png\n",
      "------------------------------------------------------------\n",
      "MACHINES AND\n",
      "                                                         ACCESSORIES\n",
      "\n",
      "\n",
      "9 DESCRIPTION OF CONTROLS\n",
      "9.1 Control buttons\n",
      "\n",
      "9.1.1 Main switch\n",
      "The main switch with safety key is located on the left side of the electric panel, and  it is\n",
      "useful to prevent unauthorised use of the machine.\n",
      "To power the machine (see Figure 16), in fact, it is necessary to:\n",
      "  insert the safety key into the lock to the left of the switch (marked R.L.);\n",
      "  turn the key clockwise and simultaneously turn the main switch to \"I\", by turning  it\n",
      "   clockwise.\n",
      "\n",
      "\n",
      "\n",
      "\n",
      "\n",
      "                                  Figure 16 - Main switch.\n",
      "\n",
      "Confirm the white power light has turned on, found on the electrical panel (marked POWER).\n",
      "\n",
      "Figure 16 - Main switch.\n",
      "\n",
      "Confirm the white power light has turned on, found on the electrical panel (marked POWER).\n",
      "\n",
      "\n",
      "9.1.2 Electric and control panel buttons and lights\n",
      "\n",
      "\n",
      "\n",
      "\n",
      "\n",
      "                           Figure 17 – Electrical and control panel.\n",
      "\n",
      "The electrical panel has the following controls: fer\n",
      "------------------------------------------------------------\n"
     ]
    },
    {
     "name": "stderr",
     "output_type": "stream",
     "text": [
      "Processing items (pass 2):  41%|████      | 192/472 [01:42<01:43,  2.70it/s]"
     ]
    },
    {
     "name": "stdout",
     "output_type": "stream",
     "text": [
      "💾 Saved caption to final_image_captions.json for doc2_p028_img03_54.png\n",
      "🧠 GPT judged context for doc2_p029_img04_124.png as relevant\n",
      "\n",
      "🧾 [Page 29] Context for full-page image → doc2_p029_img04_124.png\n",
      "------------------------------------------------------------\n",
      "Figure 18 – Speed adjustment knobs.fervi.com\n",
      "\n",
      " To select the desired rotation speed, turn the knobs to the corresponding positions, according\n",
      " to the instructions given in this manual or on the rotation speed plate attached directly to the\n",
      " machine (see Figure 16).\n",
      "\n",
      "      Spindle speed adjustment\n",
      "\n",
      " Before changing the spindle speed, always stop the electric motor of the machine.\n",
      "\n",
      "\n",
      "\n",
      "\n",
      "                                                                                      Page 29 of 84\n",
      "\n",
      "  After pressing the stop or emergency switch, the spindle will continue to rotate by inertia.\n",
      "   Do not hold body parts near the moving spindle!\n",
      "\n",
      " 9.2 Levers and control wheels\n",
      "\n",
      " 9.2.1 Spindle speed adjustment knobs\n",
      " The panel for the adjustment of the spindle rotation speed (see Figure 16), is positioned at\n",
      " the left part of the machine, between the spindle and the gearbox. It is equipped with two\n",
      " levers, marked with colours, letters and numbers, for selection of the desired rotation speed,\n",
      " depending o\n",
      "------------------------------------------------------------\n"
     ]
    },
    {
     "name": "stderr",
     "output_type": "stream",
     "text": [
      "Processing items (pass 2):  42%|████▏     | 198/472 [01:45<01:42,  2.68it/s]"
     ]
    },
    {
     "name": "stdout",
     "output_type": "stream",
     "text": [
      "💾 Saved caption to final_image_captions.json for doc2_p029_img04_124.png\n",
      "🧠 GPT judged context for doc2_p029_img05_126.png as relevant\n",
      "\n",
      "🧾 [Page 29] Context for full-page image → doc2_p029_img05_126.png\n",
      "------------------------------------------------------------\n",
      "Figure 18 – Speed adjustment knobs.fervi.com\n",
      "\n",
      " To select the desired rotation speed, turn the knobs to the corresponding positions, according\n",
      " to the instructions given in this manual or on the rotation speed plate attached directly to the\n",
      " machine (see Figure 16).\n",
      "\n",
      "      Spindle speed adjustment\n",
      "\n",
      " Before changing the spindle speed, always stop the electric motor of the machine.\n",
      "\n",
      "\n",
      "\n",
      "\n",
      "                                                                                      Page 29 of 84\n",
      "\n",
      "  After pressing the stop or emergency switch, the spindle will continue to rotate by inertia.\n",
      "   Do not hold body parts near the moving spindle!\n",
      "\n",
      " 9.2 Levers and control wheels\n",
      "\n",
      " 9.2.1 Spindle speed adjustment knobs\n",
      " The panel for the adjustment of the spindle rotation speed (see Figure 16), is positioned at\n",
      " the left part of the machine, between the spindle and the gearbox. It is equipped with two\n",
      " levers, marked with colours, letters and numbers, for selection of the desired rotation speed,\n",
      " depending o\n",
      "------------------------------------------------------------\n"
     ]
    },
    {
     "name": "stderr",
     "output_type": "stream",
     "text": [
      "Processing items (pass 2):  42%|████▏     | 199/472 [01:47<02:18,  1.97it/s]"
     ]
    },
    {
     "name": "stdout",
     "output_type": "stream",
     "text": [
      "💾 Saved caption to final_image_captions.json for doc2_p029_img05_126.png\n",
      "🧠 GPT judged context for doc2_p030_img02_130.png as relevant\n",
      "\n",
      "🧾 [Page 30] Context for full-page image → doc2_p030_img02_130.png\n",
      "------------------------------------------------------------\n",
      "MACHINES AND\n",
      "                                                         ACCESSORIES\n",
      "\n",
      "\n",
      "9.2.2 Automatic feed speed adjustment knobs\n",
      "\n",
      "\n",
      "\n",
      "\n",
      "                                   E\n",
      "\n",
      "\n",
      "\n",
      "\n",
      "                                     F                                                                                                        I\n",
      "\n",
      "\n",
      "\n",
      "\n",
      "\n",
      "                           H                                           G\n",
      "\n",
      "\n",
      "                            Figure 19 - Feed adjustment knobs.\n",
      "\n",
      "H                                           G\n",
      "\n",
      "\n",
      "                            Figure 19 - Feed adjustment knobs.\n",
      "\n",
      "The panel for automatic feed speed adjustment (see Figure 19),  is\n",
      "positioned at the left part of the machine, under the spindle rotation\n",
      "speed adjustment panel.\n",
      "The different speeds are selected via 4 knob switches which control the\n",
      "gear speed change (ref. F, G, H, I in Figure 19). There is also a fifth\n",
      "knob for selecting the feed direction of the carriage (ref. E in Figure\n",
      "19).\n",
      "\n",
      "Threading\n",
      "To make a thread:fervi.comOperate\n",
      "------------------------------------------------------------\n"
     ]
    },
    {
     "name": "stderr",
     "output_type": "stream",
     "text": [
      "Processing items (pass 2):  43%|████▎     | 205/472 [01:50<02:03,  2.17it/s]"
     ]
    },
    {
     "name": "stdout",
     "output_type": "stream",
     "text": [
      "💾 Saved caption to final_image_captions.json for doc2_p030_img02_130.png\n",
      "🧠 GPT judged context for doc2_p030_img03_132.png as relevant\n",
      "\n",
      "🧾 [Page 30] Context for full-page image → doc2_p030_img03_132.png\n",
      "------------------------------------------------------------\n",
      "MACHINES AND\n",
      "                                                         ACCESSORIES\n",
      "\n",
      "\n",
      "9.2.2 Automatic feed speed adjustment knobs\n",
      "\n",
      "\n",
      "\n",
      "\n",
      "                                   E\n",
      "\n",
      "\n",
      "\n",
      "\n",
      "                                     F                                                                                                        I\n",
      "\n",
      "\n",
      "\n",
      "\n",
      "\n",
      "                           H                                           G\n",
      "\n",
      "\n",
      "                            Figure 19 - Feed adjustment knobs.\n",
      "\n",
      "H                                           G\n",
      "\n",
      "\n",
      "                            Figure 19 - Feed adjustment knobs.\n",
      "\n",
      "The panel for automatic feed speed adjustment (see Figure 19),  is\n",
      "positioned at the left part of the machine, under the spindle rotation\n",
      "speed adjustment panel.\n",
      "The different speeds are selected via 4 knob switches which control the\n",
      "gear speed change (ref. F, G, H, I in Figure 19). There is also a fifth\n",
      "knob for selecting the feed direction of the carriage (ref. E in Figure\n",
      "19).\n",
      "\n",
      "Threading\n",
      "To make a thread:fervi.comOperate\n",
      "------------------------------------------------------------\n"
     ]
    },
    {
     "name": "stderr",
     "output_type": "stream",
     "text": [
      "Processing items (pass 2):  44%|████▎     | 206/472 [01:52<02:40,  1.66it/s]"
     ]
    },
    {
     "name": "stdout",
     "output_type": "stream",
     "text": [
      "💾 Saved caption to final_image_captions.json for doc2_p030_img03_132.png\n",
      "🧠 GPT judged context for doc2_p030_img04_134.png as irrelevant\n",
      "⚠️ Skipping context for doc2_p030_img04_134.png — using image only\n",
      "\n",
      "🧾 [Page 30] Context for full-page image → doc2_p030_img04_134.png\n",
      "------------------------------------------------------------\n",
      "\n",
      "------------------------------------------------------------\n"
     ]
    },
    {
     "name": "stderr",
     "output_type": "stream",
     "text": [
      "Processing items (pass 2):  44%|████▍     | 207/472 [01:54<03:12,  1.38it/s]"
     ]
    },
    {
     "name": "stdout",
     "output_type": "stream",
     "text": [
      "💾 Saved caption to final_image_captions.json for doc2_p030_img04_134.png\n",
      "🧠 GPT judged context for doc2_p031_img02_138.png as relevant\n",
      "\n",
      "🧾 [Page 31] Context for full-page image → doc2_p031_img02_138.png\n",
      "------------------------------------------------------------\n",
      "MACHINES AND\n",
      " ACCESSORIES\n",
      "\n",
      "\n",
      " 9.2.3 Adjustment knob / lever of the split casing\n",
      " The casing adjustment knob and lever for the transfer of motion from the lead screw to the\n",
      " tool holder carriage (see Figure 21), are located at the sides of the tool holder carriage itself.\n",
      "\n",
      "\n",
      "\n",
      "\n",
      "\n",
      "                            Figure 21 – Close-up of knob and lever.\n",
      " By turning the knob or lever 90°, the split casing \"closes\" on the lead screw, creating a rigid\n",
      " coupling between the two, and allowing the transfer of motion from the lead screw to the tool\n",
      " holder carriage (and to the tool) for the automatic feed for threading operations.\n",
      "fervi.com\n",
      "\n",
      "Page 31 of 84\n",
      "\n",
      "MACHINES AND\n",
      "                                                         ACCESSORIES\n",
      "\n",
      "\n",
      "9.2.2 Automatic feed speed adjustment knobs\n",
      "\n",
      "\n",
      "\n",
      "\n",
      "                                   E\n",
      "\n",
      "\n",
      "\n",
      "\n",
      "                                     F                                                                                                        I\n",
      "\n",
      "\n",
      "\n",
      "\n",
      "\n",
      "                           H    \n",
      "------------------------------------------------------------\n"
     ]
    },
    {
     "name": "stderr",
     "output_type": "stream",
     "text": [
      "Processing items (pass 2):  45%|████▍     | 211/472 [01:57<03:12,  1.36it/s]"
     ]
    },
    {
     "name": "stdout",
     "output_type": "stream",
     "text": [
      "💾 Saved caption to final_image_captions.json for doc2_p031_img02_138.png\n",
      "🧠 GPT judged context for doc2_p031_img03_140.png as relevant\n",
      "\n",
      "🧾 [Page 31] Context for full-page image → doc2_p031_img03_140.png\n",
      "------------------------------------------------------------\n",
      "MACHINES AND\n",
      " ACCESSORIES\n",
      "\n",
      "\n",
      " 9.2.3 Adjustment knob / lever of the split casing\n",
      " The casing adjustment knob and lever for the transfer of motion from the lead screw to the\n",
      " tool holder carriage (see Figure 21), are located at the sides of the tool holder carriage itself.\n",
      "\n",
      "\n",
      "\n",
      "\n",
      "\n",
      "                            Figure 21 – Close-up of knob and lever.\n",
      " By turning the knob or lever 90°, the split casing \"closes\" on the lead screw, creating a rigid\n",
      " coupling between the two, and allowing the transfer of motion from the lead screw to the tool\n",
      " holder carriage (and to the tool) for the automatic feed for threading operations.\n",
      "fervi.com\n",
      "\n",
      "Page 31 of 84\n",
      "\n",
      "MACHINES AND\n",
      "                                                         ACCESSORIES\n",
      "\n",
      "\n",
      "9.2.2 Automatic feed speed adjustment knobs\n",
      "\n",
      "\n",
      "\n",
      "\n",
      "                                   E\n",
      "\n",
      "\n",
      "\n",
      "\n",
      "                                     F                                                                                                        I\n",
      "\n",
      "\n",
      "\n",
      "\n",
      "\n",
      "                           H    \n",
      "------------------------------------------------------------\n"
     ]
    },
    {
     "name": "stderr",
     "output_type": "stream",
     "text": [
      "Processing items (pass 2):  45%|████▍     | 212/472 [02:05<06:36,  1.53s/it]"
     ]
    },
    {
     "name": "stdout",
     "output_type": "stream",
     "text": [
      "💾 Saved caption to final_image_captions.json for doc2_p031_img03_140.png\n",
      "🧠 GPT judged context for doc2_p032_img02_144.png as relevant\n",
      "\n",
      "🧾 [Page 32] Context for full-page image → doc2_p032_img02_144.png\n",
      "------------------------------------------------------------\n",
      "P\n",
      "\n",
      "\n",
      "\n",
      "\n",
      "                                           N\n",
      "\n",
      "                  M\n",
      "\n",
      "\n",
      "                                                                                       J\n",
      "                                            K\n",
      "                              L\n",
      "                                                                                                                                I\n",
      "\n",
      "\n",
      "\n",
      "                      Figure 22 – Lever and handwheel of the carriage.\n",
      "\n",
      "MACHINES AND\n",
      "                                                         ACCESSORIES\n",
      "\n",
      "\n",
      "\n",
      "9.2.4 Levers and handwheels of the carriage and tool holder slides\n",
      "On the tool holder carriage there are five manual controls (levers and handwheels) for\n",
      "carrying out fine adjustments and feeding (see Figure 22).\n",
      "\n",
      "\n",
      "\n",
      "                                                 P\n",
      "\n",
      "\n",
      "\n",
      "\n",
      "                                           N\n",
      "\n",
      "                  M\n",
      "\n",
      "(I)   Split casing lever : See section 9.2.3.\n",
      "(J)   Lever for selection of transverse or longitudinal feeds: The lever selects the \n",
      "------------------------------------------------------------\n"
     ]
    },
    {
     "name": "stderr",
     "output_type": "stream",
     "text": [
      "Processing items (pass 2):  47%|████▋     | 221/472 [02:08<03:29,  1.20it/s]"
     ]
    },
    {
     "name": "stdout",
     "output_type": "stream",
     "text": [
      "💾 Saved caption to final_image_captions.json for doc2_p032_img02_144.png\n",
      "🧠 GPT judged context for doc2_p033_img02_148.png as relevant\n",
      "\n",
      "🧾 [Page 33] Context for full-page image → doc2_p033_img02_148.png\n",
      "------------------------------------------------------------\n",
      "Figure 23 - Close-up of the\n",
      "                                                                                 lever.\n",
      "\n",
      " 9.2.5 Lever and handwheel of the tailstock\n",
      " On the tailstock there are manual controls (levers, handwheels and screws) which allow fine\n",
      " adjustments and feed adjustments (see Figure 24).\n",
      "\n",
      "                                      R\n",
      "\n",
      "\n",
      "                                                                S\n",
      "\n",
      "\n",
      "                                      T\n",
      "\n",
      "\n",
      "                       Figure 24 – Lever and handwheel of the tailstock.\n",
      "\n",
      "MACHINES AND\n",
      " ACCESSORIES\n",
      "\n",
      "\n",
      " (Q)  Lever for activating and selecting the direction\n",
      " of rotation of the electric motor: The  lever  selects\n",
      " activation and the direction of rotation of the electric motor\n",
      " and the other rotating parts (spindle). Move the lever down\n",
      " to rotate the spindle clockwise, move the lever up to turn\n",
      " the spindle anti-clockwise. The central location \"0\", puts the\n",
      " spindle in neutral.\n",
      "\n",
      "\n",
      "                                                         \n",
      "------------------------------------------------------------\n"
     ]
    },
    {
     "name": "stderr",
     "output_type": "stream",
     "text": [
      "Processing items (pass 2):  49%|████▊     | 229/472 [02:11<02:31,  1.60it/s]"
     ]
    },
    {
     "name": "stdout",
     "output_type": "stream",
     "text": [
      "💾 Saved caption to final_image_captions.json for doc2_p033_img02_148.png\n",
      "🧠 GPT judged context for doc2_p033_img03_150.png as irrelevant\n",
      "⚠️ Skipping context for doc2_p033_img03_150.png — using image only\n",
      "\n",
      "🧾 [Page 33] Context for full-page image → doc2_p033_img03_150.png\n",
      "------------------------------------------------------------\n",
      "\n",
      "------------------------------------------------------------\n"
     ]
    },
    {
     "name": "stderr",
     "output_type": "stream",
     "text": [
      "Processing items (pass 2):  49%|████▊     | 230/472 [02:28<07:26,  1.85s/it]"
     ]
    },
    {
     "name": "stdout",
     "output_type": "stream",
     "text": [
      "💾 Saved caption to final_image_captions.json for doc2_p033_img03_150.png\n",
      "🧠 GPT judged context for doc2_p034_img02_154.png as relevant\n",
      "\n",
      "🧾 [Page 34] Context for full-page image → doc2_p034_img02_154.png\n",
      "------------------------------------------------------------\n",
      "MACHINES AND\n",
      "                                                         ACCESSORIES\n",
      "\n",
      "\n",
      "9.3 Mechanical brake pedal of the spindle\n",
      "The machine is equipped with a mechanical brake pedal that slows or stops the rotation of\n",
      "the spindle as required (see Figure 25).\n",
      "Pressing the pedal with your foot, the spindle  is immediately braked, while releasing the\n",
      "pedal stops the braking action.\n",
      "\n",
      "Figure 25 – Pedal Details.\n",
      "9.4 Digital display\n",
      "The Gear head lathe 400V3A-T070 is equipped with a digital display that can monitor the\n",
      "dimensions X, Y and Z with a precision of 0.001.\n",
      "Furthermore it is possible to store different machining depths depending on the X coordinate\n",
      "in which the tool is located.\n",
      "\n",
      "\n",
      "\n",
      "\n",
      "                                                                              2\n",
      "\n",
      "                                                                    3\n",
      "\n",
      "                                                         1\n",
      "\n",
      "\n",
      "\n",
      "\n",
      "\n",
      "                         Figure 26 - Close-up of the digital display.\n",
      "\n",
      "1\n",
      "\n",
      "\n",
      "\n",
      "\n",
      "\n",
      "              \n",
      "------------------------------------------------------------\n"
     ]
    },
    {
     "name": "stderr",
     "output_type": "stream",
     "text": [
      "Processing items (pass 2):  50%|████▉     | 235/472 [02:32<05:42,  1.44s/it]"
     ]
    },
    {
     "name": "stdout",
     "output_type": "stream",
     "text": [
      "💾 Saved caption to final_image_captions.json for doc2_p034_img02_154.png\n",
      "🧠 GPT judged context for doc2_p034_img03_156.png as relevant\n",
      "\n",
      "🧾 [Page 34] Context for full-page image → doc2_p034_img03_156.png\n",
      "------------------------------------------------------------\n",
      "MACHINES AND\n",
      "                                                         ACCESSORIES\n",
      "\n",
      "\n",
      "9.3 Mechanical brake pedal of the spindle\n",
      "The machine is equipped with a mechanical brake pedal that slows or stops the rotation of\n",
      "the spindle as required (see Figure 25).\n",
      "Pressing the pedal with your foot, the spindle  is immediately braked, while releasing the\n",
      "pedal stops the braking action.\n",
      "\n",
      "Figure 25 – Pedal Details.\n",
      "9.4 Digital display\n",
      "The Gear head lathe 400V3A-T070 is equipped with a digital display that can monitor the\n",
      "dimensions X, Y and Z with a precision of 0.001.\n",
      "Furthermore it is possible to store different machining depths depending on the X coordinate\n",
      "in which the tool is located.\n",
      "\n",
      "\n",
      "\n",
      "\n",
      "                                                                              2\n",
      "\n",
      "                                                                    3\n",
      "\n",
      "                                                         1\n",
      "\n",
      "\n",
      "\n",
      "\n",
      "\n",
      "                         Figure 26 - Close-up of the digital display.\n",
      "\n",
      "1\n",
      "\n",
      "\n",
      "\n",
      "\n",
      "\n",
      "              \n",
      "------------------------------------------------------------\n"
     ]
    },
    {
     "name": "stderr",
     "output_type": "stream",
     "text": [
      "Processing items (pass 2):  50%|█████     | 236/472 [02:35<06:23,  1.63s/it]"
     ]
    },
    {
     "name": "stdout",
     "output_type": "stream",
     "text": [
      "💾 Saved caption to final_image_captions.json for doc2_p034_img03_156.png\n",
      "🧠 GPT judged context for doc2_p034_img04_158.png as relevant\n",
      "\n",
      "🧾 [Page 34] Context for full-page image → doc2_p034_img04_158.png\n",
      "------------------------------------------------------------\n",
      "MACHINES AND\n",
      "                                                         ACCESSORIES\n",
      "\n",
      "\n",
      "9.3 Mechanical brake pedal of the spindle\n",
      "The machine is equipped with a mechanical brake pedal that slows or stops the rotation of\n",
      "the spindle as required (see Figure 25).\n",
      "Pressing the pedal with your foot, the spindle  is immediately braked, while releasing the\n",
      "pedal stops the braking action.\n",
      "\n",
      "Figure 25 – Pedal Details.\n",
      "9.4 Digital display\n",
      "The Gear head lathe 400V3A-T070 is equipped with a digital display that can monitor the\n",
      "dimensions X, Y and Z with a precision of 0.001.\n",
      "Furthermore it is possible to store different machining depths depending on the X coordinate\n",
      "in which the tool is located.\n",
      "\n",
      "\n",
      "\n",
      "\n",
      "                                                                              2\n",
      "\n",
      "                                                                    3\n",
      "\n",
      "                                                         1\n",
      "\n",
      "\n",
      "\n",
      "\n",
      "\n",
      "                         Figure 26 - Close-up of the digital display.\n",
      "\n",
      "1\n",
      "\n",
      "\n",
      "\n",
      "\n",
      "\n",
      "              \n",
      "------------------------------------------------------------\n"
     ]
    },
    {
     "name": "stderr",
     "output_type": "stream",
     "text": [
      "Processing items (pass 2):  50%|█████     | 237/472 [02:38<07:04,  1.81s/it]"
     ]
    },
    {
     "name": "stdout",
     "output_type": "stream",
     "text": [
      "💾 Saved caption to final_image_captions.json for doc2_p034_img04_158.png\n",
      "🧠 GPT judged context for doc2_p035_img03_162.png as relevant\n",
      "\n",
      "🧾 [Page 35] Context for full-page image → doc2_p035_img03_162.png\n",
      "------------------------------------------------------------\n",
      "MACHINES AND\n",
      " ACCESSORIES\n",
      "\n",
      "\n",
      "\n",
      "      Data cable connections\n",
      "\n",
      " Pay attention to the correct connection of the data cables.\n",
      " If reversed they can cause erroneous readings by the digital display.\n",
      " The display can be rotated and tilted to allow the data to be viewed at any time.\n",
      " Rotation is achieved by simply moving it with one hand, and to adjust the angle, loosen the\n",
      " bolt located just below the power cord, tilt the panel and then retighten the bolt.\n",
      "\n",
      "\n",
      "\n",
      "\n",
      "\n",
      "                                Figure 27 – Panel adjustment\n",
      "\n",
      " 9.4.1 Using the display\n",
      " When activating the panel, the management system performs a self-diagnostic routine.\n",
      "\n",
      "Figure 27 – Panel adjustment\n",
      "\n",
      " 9.4.1 Using the display\n",
      " When activating the panel, the management system performs a self-diagnostic routine.\n",
      "\n",
      "\n",
      "\n",
      "\n",
      "\n",
      "                              Figure 28 – Close-up of the displayfervi.com\n",
      "\n",
      "\n",
      "\n",
      "\n",
      "\n",
      "                                                                                      Page 35 of 84\n",
      "\n",
      "MACHINES AND\n",
      "                             \n",
      "------------------------------------------------------------\n"
     ]
    },
    {
     "name": "stderr",
     "output_type": "stream",
     "text": [
      "Processing items (pass 2):  51%|█████     | 241/472 [02:42<05:43,  1.48s/it]"
     ]
    },
    {
     "name": "stdout",
     "output_type": "stream",
     "text": [
      "💾 Saved caption to final_image_captions.json for doc2_p035_img03_162.png\n",
      "🧠 GPT judged context for doc2_p035_img04_164.png as relevant\n",
      "\n",
      "🧾 [Page 35] Context for full-page image → doc2_p035_img04_164.png\n",
      "------------------------------------------------------------\n",
      "MACHINES AND\n",
      " ACCESSORIES\n",
      "\n",
      "\n",
      "\n",
      "      Data cable connections\n",
      "\n",
      " Pay attention to the correct connection of the data cables.\n",
      " If reversed they can cause erroneous readings by the digital display.\n",
      " The display can be rotated and tilted to allow the data to be viewed at any time.\n",
      " Rotation is achieved by simply moving it with one hand, and to adjust the angle, loosen the\n",
      " bolt located just below the power cord, tilt the panel and then retighten the bolt.\n",
      "\n",
      "\n",
      "\n",
      "\n",
      "\n",
      "                                Figure 27 – Panel adjustment\n",
      "\n",
      " 9.4.1 Using the display\n",
      " When activating the panel, the management system performs a self-diagnostic routine.\n",
      "\n",
      "Figure 27 – Panel adjustment\n",
      "\n",
      " 9.4.1 Using the display\n",
      " When activating the panel, the management system performs a self-diagnostic routine.\n",
      "\n",
      "\n",
      "\n",
      "\n",
      "\n",
      "                              Figure 28 – Close-up of the displayfervi.com\n",
      "\n",
      "\n",
      "\n",
      "\n",
      "\n",
      "                                                                                      Page 35 of 84\n",
      "\n",
      "MACHINES AND\n",
      "                             \n",
      "------------------------------------------------------------\n"
     ]
    },
    {
     "name": "stderr",
     "output_type": "stream",
     "text": [
      "Processing items (pass 2):  51%|█████▏    | 242/472 [02:45<06:08,  1.60s/it]"
     ]
    },
    {
     "name": "stdout",
     "output_type": "stream",
     "text": [
      "💾 Saved caption to final_image_captions.json for doc2_p035_img04_164.png\n",
      "🧠 GPT judged context for doc2_p038_img02_172.png as relevant\n",
      "\n",
      "🧾 [Page 38] Context for full-page image → doc2_p038_img02_172.png\n",
      "------------------------------------------------------------\n",
      "X    t e s t o f f\n",
      "\n",
      "3 – RESETTING THE DISPLAY\n",
      "\n",
      "\n",
      "                                                                                            X\n",
      "    -  You can reset the display of the X, Y and Z axes at any time by pressing the\n",
      "\n",
      "                                                         CLS\n",
      "      button,      or   and then the      button.\n",
      "\n",
      "           3 2 1. 4 5 6   X\n",
      "                          \n",
      "\n",
      "               0. 0 0 0    Xfervi.com\n",
      "\n",
      "\n",
      "\n",
      "\n",
      "\n",
      " Page 38 of 84\n",
      "\n",
      "MACHINES AND\n",
      "                                                         ACCESSORIES\n",
      "\n",
      "\n",
      "    -  Integration of the Y-axis with the Z axis\n",
      "\n",
      "                    0                    1\n",
      "    -  Press the     button or the     button to change the setting\n",
      "\n",
      "                                                Y      N O N E\n",
      "\n",
      "                                               Y    I N G R E A T\n",
      "\n",
      "\n",
      "                                                   ENT         -  After the selection press the     and     buttons to move to the next step.\n",
      "\n",
      "ENT         -  After t\n",
      "------------------------------------------------------------\n"
     ]
    },
    {
     "name": "stderr",
     "output_type": "stream",
     "text": [
      "Processing items (pass 2):  54%|█████▍    | 256/472 [02:47<02:01,  1.77it/s]"
     ]
    },
    {
     "name": "stdout",
     "output_type": "stream",
     "text": [
      "💾 Saved caption to final_image_captions.json for doc2_p038_img02_172.png\n",
      "🧠 GPT judged context for doc2_p038_img03_175.png as irrelevant\n",
      "⚠️ Skipping context for doc2_p038_img03_175.png — using image only\n",
      "\n",
      "🧾 [Page 38] Context for full-page image → doc2_p038_img03_175.png\n",
      "------------------------------------------------------------\n",
      "\n",
      "------------------------------------------------------------\n"
     ]
    },
    {
     "name": "stderr",
     "output_type": "stream",
     "text": [
      "Processing items (pass 2):  54%|█████▍    | 257/472 [02:49<02:20,  1.53it/s]"
     ]
    },
    {
     "name": "stdout",
     "output_type": "stream",
     "text": [
      "💾 Saved caption to final_image_captions.json for doc2_p038_img03_175.png\n",
      "🧠 GPT judged context for doc2_p039_img02_180.png as irrelevant\n",
      "⚠️ Skipping context for doc2_p039_img02_180.png — using image only\n",
      "\n",
      "🧾 [Page 39] Context for full-page image → doc2_p039_img02_180.png\n",
      "------------------------------------------------------------\n",
      "\n",
      "------------------------------------------------------------\n"
     ]
    },
    {
     "name": "stderr",
     "output_type": "stream",
     "text": [
      "Processing items (pass 2):  55%|█████▌    | 261/472 [02:52<02:32,  1.39it/s]"
     ]
    },
    {
     "name": "stdout",
     "output_type": "stream",
     "text": [
      "💾 Saved caption to final_image_captions.json for doc2_p039_img02_180.png\n",
      "🧠 GPT judged context for doc2_p039_img03_183.png as relevant\n",
      "\n",
      "🧾 [Page 39] Context for full-page image → doc2_p039_img03_183.png\n",
      "------------------------------------------------------------\n",
      "MACHINES AND\n",
      " ACCESSORIES\n",
      "\n",
      "\n",
      " 4- DEFAULT DATA\n",
      " The default data allows continuous monitoring of the machining in\n",
      " operation.\n",
      " If, for example,  it has a piece as shown in Figure 29/a) and you\n",
      " want to get the piece in Figure 29/b) you can set all the heights in\n",
      " order to precisely control the actual machining.\n",
      " To set the data, proceed as follows:\n",
      "\n",
      "\n",
      "\n",
      "\n",
      "\n",
      "                                                                     Figure 29 – Example of\n",
      "                                                                 machining.\n",
      "      -  Move the tool to the height A in the Z direction (longitudinal).\n",
      "\n",
      "\n",
      "\n",
      "      -  Press the button      to set height 5.\n",
      "\n",
      "-  Press the button      to set height 5.\n",
      "\n",
      "                .       Y\n",
      "                           \n",
      "         -      5. 0 0 0 Y\n",
      "\n",
      "\n",
      "                5             ±      -  Press the      button then the      button to choose the negative direction of the\n",
      "       machining (towards the spindle ).\n",
      "\n",
      "\n",
      " If an incorrect value is entered, press      again to ent\n",
      "------------------------------------------------------------\n"
     ]
    },
    {
     "name": "stderr",
     "output_type": "stream",
     "text": [
      "Processing items (pass 2):  56%|█████▌    | 262/472 [02:55<03:09,  1.11it/s]"
     ]
    },
    {
     "name": "stdout",
     "output_type": "stream",
     "text": [
      "💾 Saved caption to final_image_captions.json for doc2_p039_img03_183.png\n",
      "🧠 GPT judged context for doc2_p040_img02_188.png as relevant\n",
      "\n",
      "🧾 [Page 40] Context for full-page image → doc2_p040_img02_188.png\n",
      "------------------------------------------------------------\n",
      "With reference to Figure 30  , proceed as follows, to switch from absolute coordinates to\n",
      "relative coordinates.\n",
      "    -  Bring the cutting tool to the D plane.\n",
      "\n",
      "               0. 0 0 0 X  A L E\n",
      "\n",
      "               0. 0 0 0 Y\n",
      "\n",
      "    -  Move the cutting tool to the C plane.\n",
      "\n",
      "                0. 0 0 0 X  A L E\n",
      "\n",
      "        -   1 0 0. 0 0 0 Yfervi.com-  Move the cutting tool to the B plane.\n",
      "\n",
      "                0. 0 0 0 X  A L E\n",
      "\n",
      "        -   1 5 0. 0 0 0 Y\n",
      "\n",
      "\n",
      "\n",
      "\n",
      "\n",
      " Page 40 of 84\n",
      "\n",
      "MACHINES AND\n",
      "                                                         ACCESSORIES\n",
      "\n",
      "\n",
      "5 – Displaying the absolute / relative coordinates\n",
      "\n",
      "               Press the buttons            to move from the relative coordinates \"INC\" to the absolute\n",
      "coordinates \"ALE\" and vice versa, on the display of the Y coordinate. Set the D plane as the\n",
      "reference plane, in this way in \"ALE\" mode (absolute coordinates) on the Y axis 0 will be\n",
      "displayed.\n",
      "\n",
      "               0.       Y\n",
      "\n",
      "\n",
      "\n",
      "\n",
      "\n",
      "                           Figure 30 – Viewing absolute / relative.\n",
      "\n",
      "Wi\n",
      "------------------------------------------------------------\n"
     ]
    },
    {
     "name": "stderr",
     "output_type": "stream",
     "text": [
      "Processing items (pass 2):  56%|█████▋    | 266/472 [02:57<02:44,  1.25it/s]"
     ]
    },
    {
     "name": "stdout",
     "output_type": "stream",
     "text": [
      "💾 Saved caption to final_image_captions.json for doc2_p040_img02_188.png\n",
      "🧠 GPT judged context for doc2_p043_img02_197.png as relevant\n",
      "\n",
      "🧾 [Page 43] Context for full-page image → doc2_p043_img02_197.png\n",
      "------------------------------------------------------------\n",
      "MACHINES AND\n",
      " ACCESSORIES\n",
      "\n",
      "\n",
      " 7 – Radius / Diameter display\n",
      "\n",
      "\n",
      "\n",
      "\n",
      "\n",
      "                            Figure 31 – Radius / Diameter display\n",
      "\n",
      " The reference for axis X is the axis of spindle rotation (dashed line in Figure 31).\n",
      "\n",
      "      -  Move the cutting tool to point A.\n",
      "\n",
      "                5. 0 0 0 X\n",
      "\n",
      "\n",
      "\n",
      "               X      -  Press the     and      buttons to switch from viewing the radius to the diameter.\n",
      "\n",
      "              1 0. 0 0 0 X\n",
      "\n",
      "      -  Move the cutting tool to point B.\n",
      "\n",
      "              2 0. 0 0 0 X\n",
      "\n",
      "\n",
      "\n",
      "               X      -  Press the     and      buttons to switch from viewing the diameter to the radius.\n",
      "\n",
      "-  Move the cutting tool to point B.\n",
      "\n",
      "              2 0. 0 0 0 X\n",
      "\n",
      "\n",
      "\n",
      "               X      -  Press the     and      buttons to switch from viewing the diameter to the radius.\n",
      "\n",
      "              1 0. 0 0 0 Xfervi.com\n",
      " If the word \"DIR\" appears this means that on the X-axis the diameter of the workpiece is\n",
      " being displayed. The Y-axes only have one display mode.\n",
      "\n",
      "\n",
      "\n",
      "\n",
      "\n",
      "                          \n",
      "------------------------------------------------------------\n"
     ]
    },
    {
     "name": "stderr",
     "output_type": "stream",
     "text": [
      "Processing items (pass 2):  59%|█████▊    | 277/472 [02:59<01:26,  2.26it/s]"
     ]
    },
    {
     "name": "stdout",
     "output_type": "stream",
     "text": [
      "💾 Saved caption to final_image_captions.json for doc2_p043_img02_197.png\n",
      "🧠 GPT judged context for doc2_p043_img03_200.png as relevant\n",
      "\n",
      "🧾 [Page 43] Context for full-page image → doc2_p043_img03_200.png\n",
      "------------------------------------------------------------\n",
      "MACHINES AND\n",
      " ACCESSORIES\n",
      "\n",
      "\n",
      " 7 – Radius / Diameter display\n",
      "\n",
      "\n",
      "\n",
      "\n",
      "\n",
      "                            Figure 31 – Radius / Diameter display\n",
      "\n",
      " The reference for axis X is the axis of spindle rotation (dashed line in Figure 31).\n",
      "\n",
      "      -  Move the cutting tool to point A.\n",
      "\n",
      "                5. 0 0 0 X\n",
      "\n",
      "\n",
      "\n",
      "               X      -  Press the     and      buttons to switch from viewing the radius to the diameter.\n",
      "\n",
      "              1 0. 0 0 0 X\n",
      "\n",
      "      -  Move the cutting tool to point B.\n",
      "\n",
      "              2 0. 0 0 0 X\n",
      "\n",
      "\n",
      "\n",
      "               X      -  Press the     and      buttons to switch from viewing the diameter to the radius.\n",
      "\n",
      "-  Move the cutting tool to point B.\n",
      "\n",
      "              2 0. 0 0 0 X\n",
      "\n",
      "\n",
      "\n",
      "               X      -  Press the     and      buttons to switch from viewing the diameter to the radius.\n",
      "\n",
      "              1 0. 0 0 0 Xfervi.com\n",
      " If the word \"DIR\" appears this means that on the X-axis the diameter of the workpiece is\n",
      " being displayed. The Y-axes only have one display mode.\n",
      "\n",
      "\n",
      "\n",
      "\n",
      "\n",
      "                          \n",
      "------------------------------------------------------------\n"
     ]
    },
    {
     "name": "stderr",
     "output_type": "stream",
     "text": [
      "Processing items (pass 2):  59%|█████▉    | 278/472 [03:02<01:53,  1.71it/s]"
     ]
    },
    {
     "name": "stdout",
     "output_type": "stream",
     "text": [
      "💾 Saved caption to final_image_captions.json for doc2_p043_img03_200.png\n",
      "🧠 GPT judged context for doc2_p044_img02_205.png as relevant\n",
      "\n",
      "🧾 [Page 44] Context for full-page image → doc2_p044_img02_205.png\n",
      "------------------------------------------------------------\n",
      "2 5. 4 0 0 X\n",
      "\n",
      "\n",
      "\n",
      "                      M/\n",
      "    -  Pressing the      button, switches the display to Imperial units 1”.\n",
      "\n",
      "            1. 0 0 0 0 0 X\n",
      "\n",
      "    -  Move the tool to point B, the coordinates in Imperial units are 2”.\n",
      "\n",
      "            2. 0 0 0 0 0 X\n",
      "\n",
      "\n",
      "\n",
      "                      M/\n",
      "    -  Pressing the      button, switches the display to Metric units 50.8 mm.fervi.com\n",
      "             5 0. 8 0 0 X\n",
      "\n",
      "\n",
      "\n",
      "\n",
      "\n",
      " Page 44 of 84\n",
      "\n",
      "MACHINES AND\n",
      "                                                         ACCESSORIES\n",
      "\n",
      "\n",
      "8 – Displaying Metric / Imperial coordinates\n",
      "The digital panel can also show the coordinates of the X axis in Imperial units (inches), this\n",
      "display is not available for the Y axis\n",
      "With reference to Figure 32, proceed as follows, to switch from Metric coordinates to Imperial\n",
      "coordinates.\n",
      "\n",
      "\n",
      "\n",
      "\n",
      "\n",
      "                    Figure 32 – Displaying Metric / Imperial coordinates.\n",
      "\n",
      "    -  Move the tool to point A, the coordinates in Metric units are 25.4 mm.\n",
      "\n",
      "             2 5. 4 0 0 X\n",
      "\n",
      "\n",
      "\n",
      "                      M/\n",
      "   \n",
      "------------------------------------------------------------\n"
     ]
    },
    {
     "name": "stderr",
     "output_type": "stream",
     "text": [
      "Processing items (pass 2):  60%|█████▉    | 282/472 [03:05<02:08,  1.47it/s]"
     ]
    },
    {
     "name": "stdout",
     "output_type": "stream",
     "text": [
      "💾 Saved caption to final_image_captions.json for doc2_p044_img02_205.png\n",
      "🧠 GPT judged context for doc2_p046_img04_212.png as relevant\n",
      "\n",
      "🧾 [Page 46] Context for full-page image → doc2_p046_img04_212.png\n",
      "------------------------------------------------------------\n",
      "Working close to the spindle\n",
      "\n",
      "Before starting work in the vicinity of the spindle, ALWAYS check that the machine is stopped.\n",
      "\n",
      "It is recommended to not extend the continued use of the machine for more than 10 minutes\n",
      "to avoid overheating the machine (which could damage the motor) and the equipment.\n",
      "1.  Lift the movable protective screen of the spindle.\n",
      "2. Place the workpiece on the spindle and secure  it by tightening the jaws, with the\n",
      "   appropriate key.\n",
      "Insert the key into one of the holes with a square cross-section on the spindle, and to close\n",
      "the jaws, turn it clockwise (see Figure 33).fervi.com\n",
      "\n",
      "\n",
      "\n",
      "\n",
      "\n",
      "                                  Figure 33 – Spindle key.\n",
      "\n",
      "\n",
      "\n",
      "\n",
      " Page 46 of 84\n",
      "\n",
      "Environment of Use\n",
      "\n",
      "  The  lathe can operate  in enclosed working environments  (production departments,\n",
      "   warehouses, etc.), such as those that are protected from the weather and where there is\n",
      "   no danger of fire or explosion.\n",
      "  The operating temperature is within the range of -10 / +50°C.\n",
      "  The work\n",
      "------------------------------------------------------------\n"
     ]
    },
    {
     "name": "stderr",
     "output_type": "stream",
     "text": [
      "Processing items (pass 2):  62%|██████▏   | 293/472 [03:08<01:16,  2.35it/s]"
     ]
    },
    {
     "name": "stdout",
     "output_type": "stream",
     "text": [
      "💾 Saved caption to final_image_captions.json for doc2_p046_img04_212.png\n",
      "🧠 GPT judged context for doc2_p047_img03_216.png as relevant\n",
      "\n",
      "🧾 [Page 47] Context for full-page image → doc2_p047_img03_216.png\n",
      "------------------------------------------------------------\n",
      "11. Perform the machining of the workpiece, by moving the tool towards the workpiece, in\n",
      "     rotation, using the handwheels that regulate the fine movement of the tool holder slides\n",
      "      (ref. m / n in Figure 22). If necessary, move the nozzle of the cooling liquid closer to the\n",
      "    area affected by the machining and operate the pump.\n",
      " 12. When finished, move the tool away from the work piece, then stop the rotation of the\n",
      "     spindle with the start lever.\n",
      "\n",
      "8.  Set the correct spindle rotation speed, using the knobs on the control panel of the\n",
      "    machine (see Figure 18).\n",
      " 9.  Turn the main switch to position \"I\" (see Figure 16) verifying that the voltage warning\n",
      "      light has turned on (white, see ref. c in Figure 17).\n",
      " 10. Move the start lever of the electric motor to start the rotation of the spindle, at the samefervi.comtime choosing the direction of rotation.\n",
      " 11. Perform the machining of the workpiece, by moving the tool towards the workpiece, in\n",
      "     rotation, using the han\n",
      "------------------------------------------------------------\n"
     ]
    },
    {
     "name": "stderr",
     "output_type": "stream",
     "text": [
      "Processing items (pass 2):  64%|██████▎   | 300/472 [03:11<01:17,  2.22it/s]"
     ]
    },
    {
     "name": "stdout",
     "output_type": "stream",
     "text": [
      "💾 Saved caption to final_image_captions.json for doc2_p047_img03_216.png\n",
      "🧠 GPT judged context for doc2_p049_img02_222.png as relevant\n",
      "\n",
      "🧾 [Page 49] Context for full-page image → doc2_p049_img02_222.png\n",
      "------------------------------------------------------------\n",
      "Figure 35 – Longitudinal feed.\n",
      " Transverse feed\n",
      " The transverse feed is due to the transverse slide which drags the upper slide and the tool in\n",
      " the perpendicular direction to the axis of the Lathe (see Figure 36). And by moving the lever\n",
      " E to position 3, the idler wheel O meshes with the pinion G integral with the screw H. The\n",
      " screw is coupled to the casing I integral with the transverse slide. The rotation of the screw\n",
      " therefore moves the transverse slide.fervi.com\n",
      "\n",
      "\n",
      "\n",
      "\n",
      "\n",
      "                                 Figure 36 – Transverse feed.\n",
      "\n",
      "\n",
      "                                                                                      Page 49 of 84\n",
      "\n",
      "MACHINES AND\n",
      " ACCESSORIES\n",
      "\n",
      "\n",
      " 10.1Automatic Feed Tool Carriage\n",
      " Longitudinal feed\n",
      " The automatic longitudinal feed of the carriage is derived from spindle, which transmits its\n",
      " motion to the grooved bar (see Figure 35).\n",
      " The longitudinal feed is due to the lower slide that drags the carriage in the direction of the\n",
      " axis of the Lathe. A worm screw B, con\n",
      "------------------------------------------------------------\n"
     ]
    },
    {
     "name": "stderr",
     "output_type": "stream",
     "text": [
      "Processing items (pass 2):  65%|██████▌   | 307/472 [03:13<01:07,  2.45it/s]"
     ]
    },
    {
     "name": "stdout",
     "output_type": "stream",
     "text": [
      "💾 Saved caption to final_image_captions.json for doc2_p049_img02_222.png\n",
      "🧠 GPT judged context for doc2_p049_img03_224.png as relevant\n",
      "\n",
      "🧾 [Page 49] Context for full-page image → doc2_p049_img03_224.png\n",
      "------------------------------------------------------------\n",
      "Figure 35 – Longitudinal feed.\n",
      " Transverse feed\n",
      " The transverse feed is due to the transverse slide which drags the upper slide and the tool in\n",
      " the perpendicular direction to the axis of the Lathe (see Figure 36). And by moving the lever\n",
      " E to position 3, the idler wheel O meshes with the pinion G integral with the screw H. The\n",
      " screw is coupled to the casing I integral with the transverse slide. The rotation of the screw\n",
      " therefore moves the transverse slide.fervi.com\n",
      "\n",
      "\n",
      "\n",
      "\n",
      "\n",
      "                                 Figure 36 – Transverse feed.\n",
      "\n",
      "\n",
      "                                                                                      Page 49 of 84\n",
      "\n",
      "MACHINES AND\n",
      " ACCESSORIES\n",
      "\n",
      "\n",
      " 10.1Automatic Feed Tool Carriage\n",
      " Longitudinal feed\n",
      " The automatic longitudinal feed of the carriage is derived from spindle, which transmits its\n",
      " motion to the grooved bar (see Figure 35).\n",
      " The longitudinal feed is due to the lower slide that drags the carriage in the direction of the\n",
      " axis of the Lathe. A worm screw B, con\n",
      "------------------------------------------------------------\n"
     ]
    },
    {
     "name": "stderr",
     "output_type": "stream",
     "text": [
      "Processing items (pass 2):  65%|██████▌   | 308/472 [03:16<01:25,  1.92it/s]"
     ]
    },
    {
     "name": "stdout",
     "output_type": "stream",
     "text": [
      "💾 Saved caption to final_image_captions.json for doc2_p049_img03_224.png\n",
      "🧠 GPT judged context for doc2_p050_img02_228.png as irrelevant\n",
      "⚠️ Skipping context for doc2_p050_img02_228.png — using image only\n",
      "\n",
      "🧾 [Page 50] Context for full-page image → doc2_p050_img02_228.png\n",
      "------------------------------------------------------------\n",
      "\n",
      "------------------------------------------------------------\n"
     ]
    },
    {
     "name": "stderr",
     "output_type": "stream",
     "text": [
      "Processing items (pass 2):  66%|██████▋   | 313/472 [03:18<01:20,  1.98it/s]"
     ]
    },
    {
     "name": "stdout",
     "output_type": "stream",
     "text": [
      "💾 Saved caption to final_image_captions.json for doc2_p050_img02_228.png\n",
      "🧠 GPT judged context for doc2_p050_img04_230.png as relevant\n",
      "\n",
      "🧾 [Page 50] Context for full-page image → doc2_p050_img04_230.png\n",
      "------------------------------------------------------------\n",
      "Risk of Crushing\n",
      "\n",
      "Before replacing the gears, turn off the machine, put the main switch in the \"0\" position .\n",
      "\n",
      "1. Open the guard for the feed speed change gearbox, placed on\n",
      "   the left part of the machine;\n",
      "2. Unscrew the fastening nuts and disassemble the gears (see\n",
      "   Figure 38);\n",
      "3. Position the relative gears for the feed desired, check they  fit\n",
      "   perfectly and tighten the fastening nuts;\n",
      "4. Close the guard of the gearbox.fervi.com\n",
      "                                                                    Figure 38 – Gears.\n",
      "\n",
      "\n",
      "\n",
      "\n",
      "\n",
      " Page 50 of 84\n",
      "\n",
      "Figure 37 – Longitudinal feed with the lead screw.\n",
      "The change of feed speed of the Gear head lathe (Art. LC340/1000) is mixed: mechanical\n",
      "with knobs for speed selection (see section 9.2.2) and with replaceable gears.\n",
      "To carry out the replacement of the gears, proceed as described below:\n",
      "\n",
      "\n",
      "      Risk of Crushing\n",
      "\n",
      "Before replacing the gears, turn off the machine, put the main switch in the \"0\" position .\n",
      "\n",
      "MACHINES AND\n",
      "                               \n",
      "------------------------------------------------------------\n"
     ]
    },
    {
     "name": "stderr",
     "output_type": "stream",
     "text": [
      "Processing items (pass 2):  67%|██████▋   | 314/472 [03:22<02:01,  1.30it/s]"
     ]
    },
    {
     "name": "stdout",
     "output_type": "stream",
     "text": [
      "💾 Saved caption to final_image_captions.json for doc2_p050_img04_230.png\n",
      "🧠 GPT judged context for doc2_p053_img02_238.png as relevant\n",
      "\n",
      "🧾 [Page 53] Context for full-page image → doc2_p053_img02_238.png\n",
      "------------------------------------------------------------\n",
      "Page 53 of 84\n",
      "\n",
      "Longitudinal        feed\n",
      "   6                        1             Oil             Daily         /        handwheel\n",
      "         Transverse         feed\n",
      "   7                        1             Oil             Daily         /        handwheel\n",
      "                                                              Level\n",
      "   8    Tool carriage           1             Oil 20                  6 months\n",
      "                                                                   indicator\n",
      "                                                              Level\n",
      "   9    Spindle gears          1             Oil 20                  6 months\n",
      "                                                                   indicator\n",
      "\n",
      "MACHINES AND\n",
      " ACCESSORIES\n",
      "\n",
      "\n",
      " For proper lubrication of the Lathe, proceed as follows (see Figure 39):\n",
      "\n",
      "\n",
      "\n",
      "                                   Top up the level\n",
      "\n",
      "                                                   ONNCCEEO      AA DDAAYY\n",
      "\n",
      "\n",
      "\n",
      "\n",
      "\n",
      "                                                      Oil l\n",
      "------------------------------------------------------------\n"
     ]
    },
    {
     "name": "stderr",
     "output_type": "stream",
     "text": [
      "Processing items (pass 2):  70%|██████▉   | 329/472 [03:26<01:04,  2.20it/s]"
     ]
    },
    {
     "name": "stdout",
     "output_type": "stream",
     "text": [
      "💾 Saved caption to final_image_captions.json for doc2_p053_img02_238.png\n",
      "🧠 GPT judged context for doc2_p054_img03_242.png as relevant\n",
      "\n",
      "🧾 [Page 54] Context for full-page image → doc2_p054_img03_242.png\n",
      "------------------------------------------------------------\n",
      "11.3.1     Adjusting the tension of the motor belts\n",
      "Make sure the motor belt tension is at an appropriate level. In this regard, make a simple\n",
      "check by pressing down firmly on the individual belts (approximately in the middle), which\n",
      "should move by a maximum of 5 mm.\n",
      "If the belts are loose or too tight, loosen the belt adjustment system bolts until the correct\n",
      "tension is achieved.fervi.com\n",
      "\n",
      "\n",
      "\n",
      "                                  Figure 40 – Drive belts.\n",
      "Proper belt tension reduces wear and increases the production of the machine.\n",
      "\n",
      "\n",
      "\n",
      "\n",
      "\n",
      " Page 54 of 84\n",
      "\n",
      "Types of oil recommended\n",
      "   Mobil Vectra No. 2\n",
      "   Shell – Tonna – T68/TX68\n",
      "   Chevron – Vistac – 68X\n",
      "   Esso – Febis – K68\n",
      "\n",
      "\n",
      "      Lubrication\n",
      "\n",
      "DO NOT disperse used oil into the environment. Notify one of the authorized consortiums for\n",
      "collection and removal of used oil.\n",
      "\n",
      "11.2Periodic checks\n",
      "Every 6 months of the machine’s life, perform a thorough inspection of operation and wear\n",
      "and precisely level the table.\n",
      "The gear unit requires no mainte\n",
      "------------------------------------------------------------\n"
     ]
    },
    {
     "name": "stderr",
     "output_type": "stream",
     "text": [
      "Processing items (pass 2):  71%|███████   | 335/472 [03:28<00:58,  2.35it/s]"
     ]
    },
    {
     "name": "stdout",
     "output_type": "stream",
     "text": [
      "💾 Saved caption to final_image_captions.json for doc2_p054_img03_242.png\n",
      "🧠 GPT judged context for doc2_p055_img02_246.png as irrelevant\n",
      "⚠️ Skipping context for doc2_p055_img02_246.png — using image only\n",
      "\n",
      "🧾 [Page 55] Context for full-page image → doc2_p055_img02_246.png\n",
      "------------------------------------------------------------\n",
      "\n",
      "------------------------------------------------------------\n"
     ]
    },
    {
     "name": "stderr",
     "output_type": "stream",
     "text": [
      "Processing items (pass 2):  72%|███████▏  | 340/472 [03:33<01:12,  1.82it/s]"
     ]
    },
    {
     "name": "stdout",
     "output_type": "stream",
     "text": [
      "💾 Saved caption to final_image_captions.json for doc2_p055_img02_246.png\n",
      "🧠 GPT judged context for doc2_p055_img03_248.png as relevant\n",
      "\n",
      "🧾 [Page 55] Context for full-page image → doc2_p055_img03_248.png\n",
      "------------------------------------------------------------\n",
      "Figure 42 – Spindle alignment.fervi.com\n",
      "\n",
      "\n",
      "\n",
      "\n",
      "\n",
      "                                                                                      Page 55 of 84\n",
      "\n",
      "Figure 41 – Adjustment screw.\n",
      "\n",
      " 11.3.3     Spindle alignment\n",
      " When the spindle rotates off-axis or  if particularly heavy machining operations must be\n",
      " carried out, make an adjustment to the bearings.\n",
      " The bearing that supports the spindle is tapered, to carry out the adjustment, proceed as\n",
      " follows (see Figure 42):\n",
      " 1. Loosen the bearing lock nut;\n",
      " 2. Tighten the bearing adjustment nut;\n",
      " 3. Test the spindle by rotating it, and — by means of a comparator (See Point 4 of Chapter\n",
      "    10) — make sure it rotates perfectly.\n",
      " 4. Re-tighten the bearing locking nut.\n",
      "\n",
      "\n",
      "\n",
      "\n",
      "\n",
      "                                Figure 42 – Spindle alignment.fervi.com\n",
      "\n",
      "MACHINES AND\n",
      " ACCESSORIES\n",
      "\n",
      "\n",
      " 11.3.2     Tailstock alignment\n",
      " When the tailstock is off-axis, it is necessary to correct its position by turning the adjustment\n",
      " screw until aligned with the reference marks on the\n",
      "------------------------------------------------------------\n"
     ]
    },
    {
     "name": "stderr",
     "output_type": "stream",
     "text": [
      "Processing items (pass 2):  72%|███████▏  | 341/472 [03:36<01:38,  1.32it/s]"
     ]
    },
    {
     "name": "stdout",
     "output_type": "stream",
     "text": [
      "💾 Saved caption to final_image_captions.json for doc2_p055_img03_248.png\n",
      "🧠 GPT judged context for doc2_p056_img02_253.png as relevant\n",
      "\n",
      "🧾 [Page 56] Context for full-page image → doc2_p056_img02_253.png\n",
      "------------------------------------------------------------\n",
      "MACHINES AND\n",
      "                                                         ACCESSORIES\n",
      "\n",
      "\n",
      "\n",
      "11.3.4     Adjusting the slack of the gears\n",
      "\n",
      "It is very important that there is no abnormal slack between\n",
      "the gears, to avoid breakage or rapid wear of the teeth of the                                               II\n",
      "gears themselves.\n",
      "\n",
      "To reduce and / or adjust the slack , move the gear II and\n",
      "firmly tighten nuts III and IV (see Figure 43 )\n",
      "\n",
      "\n",
      "\n",
      "                                                                                IV\n",
      "\n",
      "\n",
      "                                                                                                                                                                       III\n",
      "\n",
      "III\n",
      "\n",
      "\n",
      "\n",
      "                                                               Figure 43 – Gear slack\n",
      "fervi.com\n",
      "\n",
      "\n",
      "\n",
      "\n",
      "\n",
      " Page 56 of 84\n",
      "\n",
      "Figure 42 – Spindle alignment.fervi.com\n",
      "\n",
      "\n",
      "\n",
      "\n",
      "\n",
      "                                                                                      Page 55 of 84\n",
      "\n",
      "Figure 41 – Adjustment screw.\n",
      "\n",
      " 11.3.3   \n",
      "------------------------------------------------------------\n"
     ]
    },
    {
     "name": "stderr",
     "output_type": "stream",
     "text": [
      "Processing items (pass 2):  73%|███████▎  | 345/472 [03:40<01:39,  1.27it/s]"
     ]
    },
    {
     "name": "stdout",
     "output_type": "stream",
     "text": [
      "💾 Saved caption to final_image_captions.json for doc2_p056_img02_253.png\n",
      "🧠 GPT judged context for doc2_p057_diag.png as irrelevant\n",
      "⚠️ Skipping context for doc2_p057_diag.png — using image only\n",
      "\n",
      "🧾 [Page 57] Context for full-page image → doc2_p057_diag.png\n",
      "------------------------------------------------------------\n",
      "\n",
      "------------------------------------------------------------\n"
     ]
    },
    {
     "name": "stderr",
     "output_type": "stream",
     "text": [
      "Processing items (pass 2):  74%|███████▎  | 348/472 [03:43<01:46,  1.16it/s]"
     ]
    },
    {
     "name": "stdout",
     "output_type": "stream",
     "text": [
      "💾 Saved caption to final_image_captions.json for doc2_p057_diag.png\n",
      "🧠 GPT judged context for doc2_p058_diag.png as irrelevant\n",
      "⚠️ Skipping context for doc2_p058_diag.png — using image only\n",
      "\n",
      "🧾 [Page 58] Context for full-page image → doc2_p058_diag.png\n",
      "------------------------------------------------------------\n",
      "\n",
      "------------------------------------------------------------\n"
     ]
    },
    {
     "name": "stderr",
     "output_type": "stream",
     "text": [
      "Processing items (pass 2):  74%|███████▍  | 351/472 [03:46<01:44,  1.15it/s]"
     ]
    },
    {
     "name": "stdout",
     "output_type": "stream",
     "text": [
      "💾 Saved caption to final_image_captions.json for doc2_p058_diag.png\n",
      "🧠 GPT judged context for doc2_p059_img02_280.png as irrelevant\n",
      "⚠️ Skipping context for doc2_p059_img02_280.png — using image only\n",
      "\n",
      "🧾 [Page 59] Context for full-page image → doc2_p059_img02_280.png\n",
      "------------------------------------------------------------\n",
      "\n",
      "------------------------------------------------------------\n"
     ]
    },
    {
     "name": "stderr",
     "output_type": "stream",
     "text": [
      "Processing items (pass 2):  76%|███████▌  | 357/472 [03:48<01:17,  1.49it/s]"
     ]
    },
    {
     "name": "stdout",
     "output_type": "stream",
     "text": [
      "💾 Saved caption to final_image_captions.json for doc2_p059_img02_280.png\n",
      "🧠 GPT judged context for doc2_p061_diag.png as irrelevant\n",
      "⚠️ Skipping context for doc2_p061_diag.png — using image only\n",
      "\n",
      "🧾 [Page 61] Context for full-page image → doc2_p061_diag.png\n",
      "------------------------------------------------------------\n",
      "\n",
      "------------------------------------------------------------\n"
     ]
    },
    {
     "name": "stderr",
     "output_type": "stream",
     "text": [
      "Processing items (pass 2):  78%|███████▊  | 367/472 [03:51<00:50,  2.08it/s]"
     ]
    },
    {
     "name": "stdout",
     "output_type": "stream",
     "text": [
      "💾 Saved caption to final_image_captions.json for doc2_p061_diag.png\n",
      "🧠 GPT judged context for doc2_p062_diag.png as relevant\n",
      "\n",
      "🧾 [Page 62] Context for full-page image → doc2_p062_diag.png\n",
      "------------------------------------------------------------\n",
      "MACHINES AND\n",
      "                                                        ACCESSORIES\n",
      "fervi.com\n",
      "\n",
      "\n",
      "\n",
      "\n",
      "\n",
      "Page 62 of 84\n",
      "\n",
      "MACHINES AND\n",
      " ACCESSORIES\n",
      "\n",
      "\n",
      " TABLE B\n",
      "fervi.com\n",
      "\n",
      "\n",
      "\n",
      "\n",
      "\n",
      "                                                                                      Page 61 of 84\n",
      "\n",
      "Page 60 of 84\n",
      "\n",
      "T999/A042   Washer                   T999/A091   Rivet\n",
      "  T999/A043   Washer                   T999/A092   O-ring\n",
      "  T999/A044   Washer                   T999/A095  Key\n",
      "  T999/A050   Cap                      T999/A096   Steel ball\n",
      "  T999/A051   Cap                      T999/A097  Washer\n",
      "  T999/A052   Cap                      T999/A098  Screwfervi.com\n",
      "\n",
      "T999/A032   Shaft                     T999/A082   Plug\n",
      "  T999/A033   Gear 16 Teeth             T999/A083   Plug\n",
      "  T999/A034   Shaft                     T999/A084   Oiler\n",
      "  T999/A035   Comparator shaft           T999/A085  Washer\n",
      "  T999/A038   Gear                     T999/A086  Locking ring\n",
      "  T999/A039   Ring                     T999/A087  Nut\n",
      "  T999/A040   Bar      \n",
      "------------------------------------------------------------\n"
     ]
    },
    {
     "name": "stderr",
     "output_type": "stream",
     "text": [
      "Processing items (pass 2):  78%|███████▊  | 370/472 [03:54<00:56,  1.79it/s]"
     ]
    },
    {
     "name": "stdout",
     "output_type": "stream",
     "text": [
      "💾 Saved caption to final_image_captions.json for doc2_p062_diag.png\n",
      "🧠 GPT judged context for doc2_p063_img02_309.png as irrelevant\n",
      "⚠️ Skipping context for doc2_p063_img02_309.png — using image only\n",
      "\n",
      "🧾 [Page 63] Context for full-page image → doc2_p063_img02_309.png\n",
      "------------------------------------------------------------\n",
      "\n",
      "------------------------------------------------------------\n"
     ]
    },
    {
     "name": "stderr",
     "output_type": "stream",
     "text": [
      "Processing items (pass 2):  80%|███████▉  | 376/472 [03:57<00:52,  1.83it/s]"
     ]
    },
    {
     "name": "stdout",
     "output_type": "stream",
     "text": [
      "💾 Saved caption to final_image_captions.json for doc2_p063_img02_309.png\n",
      "🧠 GPT judged context for doc2_p063_img03_312.png as irrelevant\n",
      "⚠️ Skipping context for doc2_p063_img03_312.png — using image only\n",
      "\n",
      "🧾 [Page 63] Context for full-page image → doc2_p063_img03_312.png\n",
      "------------------------------------------------------------\n",
      "\n",
      "------------------------------------------------------------\n"
     ]
    },
    {
     "name": "stderr",
     "output_type": "stream",
     "text": [
      "Processing items (pass 2):  80%|███████▉  | 377/472 [03:59<01:03,  1.50it/s]"
     ]
    },
    {
     "name": "stdout",
     "output_type": "stream",
     "text": [
      "💾 Saved caption to final_image_captions.json for doc2_p063_img03_312.png\n",
      "🧠 GPT judged context for doc2_p065_diag.png as relevant\n",
      "\n",
      "🧾 [Page 65] Context for full-page image → doc2_p065_diag.png\n",
      "------------------------------------------------------------\n",
      "MACHINES AND\n",
      " ACCESSORIES\n",
      "\n",
      "\n",
      " TABLE C\n",
      "fervi.com\n",
      "\n",
      "\n",
      "\n",
      "\n",
      "\n",
      "                                                                                      Page 65 of 84\n",
      "\n",
      "T999/B032     Plug                     T999/B060     Gear\n",
      "  T999/B033     Support                  T999/B081     Gear\n",
      "  T999/B034     Small sphere              T999/B082     Brass bushing\n",
      "  T999/B035     Spring                   T999/B083     Gear\n",
      "  T999/B036     Locking screw             T999/B084    Key\n",
      "  T999/B037     Label                    T999/B085     Shaft\n",
      "  T999/B038      Phillips head screw         T999/B086    Key\n",
      "  T999/B039     Locking screw             T999/B087     Bearing cover\n",
      "  T999/B040      Oil level                  T999/B088     Gasket\n",
      "  T999/B041     Label                    T999/B089     Gear\n",
      "  T999/B042     Lock                     T999/B090     Shaft\n",
      "\n",
      "T999/B024     Support                  T999/B072     Gear\n",
      "  T999/B025     Allen key                 T999/B073     Brass bushing\n",
      "  T999/B026    Gear             \n",
      "------------------------------------------------------------\n"
     ]
    },
    {
     "name": "stderr",
     "output_type": "stream",
     "text": [
      "Processing items (pass 2):  82%|████████▏ | 388/472 [04:02<00:36,  2.33it/s]"
     ]
    },
    {
     "name": "stdout",
     "output_type": "stream",
     "text": [
      "💾 Saved caption to final_image_captions.json for doc2_p065_diag.png\n",
      "🧠 GPT judged context for doc2_p066_diag.png as irrelevant\n",
      "⚠️ Skipping context for doc2_p066_diag.png — using image only\n",
      "\n",
      "🧾 [Page 66] Context for full-page image → doc2_p066_diag.png\n",
      "------------------------------------------------------------\n",
      "\n",
      "------------------------------------------------------------\n"
     ]
    },
    {
     "name": "stderr",
     "output_type": "stream",
     "text": [
      "Processing items (pass 2):  83%|████████▎ | 391/472 [04:04<00:40,  1.98it/s]"
     ]
    },
    {
     "name": "stdout",
     "output_type": "stream",
     "text": [
      "💾 Saved caption to final_image_captions.json for doc2_p066_diag.png\n",
      "🧠 GPT judged context for doc2_p067_diag.png as relevant\n",
      "\n",
      "🧾 [Page 67] Context for full-page image → doc2_p067_diag.png\n",
      "------------------------------------------------------------\n",
      "MACHINES AND\n",
      " ACCESSORIES\n",
      "fervi.com\n",
      "\n",
      "\n",
      "\n",
      "\n",
      "\n",
      "                                                                                      Page 67 of 84\n",
      "\n",
      "MACHINES AND\n",
      "                                                        ACCESSORIES\n",
      "fervi.com\n",
      "\n",
      "\n",
      "\n",
      "\n",
      "\n",
      "Page 66 of 84\n",
      "\n",
      "MACHINES AND\n",
      " ACCESSORIES\n",
      "\n",
      "\n",
      " TABLE C\n",
      "fervi.com\n",
      "\n",
      "\n",
      "\n",
      "\n",
      "\n",
      "                                                                                      Page 65 of 84\n",
      "\n",
      "T999/B032     Plug                     T999/B060     Gear\n",
      "  T999/B033     Support                  T999/B081     Gear\n",
      "  T999/B034     Small sphere              T999/B082     Brass bushing\n",
      "  T999/B035     Spring                   T999/B083     Gear\n",
      "  T999/B036     Locking screw             T999/B084    Key\n",
      "  T999/B037     Label                    T999/B085     Shaft\n",
      "  T999/B038      Phillips head screw         T999/B086    Key\n",
      "  T999/B039     Locking screw             T999/B087     Bearing cover\n",
      "  T999/B040      Oil level                  T999/B088     Gasket\n",
      "  T999/B041     Label        \n",
      "------------------------------------------------------------\n"
     ]
    },
    {
     "name": "stderr",
     "output_type": "stream",
     "text": [
      "Processing items (pass 2):  83%|████████▎ | 394/472 [04:07<00:46,  1.66it/s]"
     ]
    },
    {
     "name": "stdout",
     "output_type": "stream",
     "text": [
      "💾 Saved caption to final_image_captions.json for doc2_p067_diag.png\n",
      "🧠 GPT judged context for doc2_p070_diag.png as relevant\n",
      "\n",
      "🧾 [Page 70] Context for full-page image → doc2_p070_diag.png\n",
      "------------------------------------------------------------\n",
      "MACHINES AND\n",
      "                                                         ACCESSORIES\n",
      "\n",
      "\n",
      "TABLE D\n",
      "fervi.com\n",
      "\n",
      "\n",
      "\n",
      "\n",
      "\n",
      " Page 70 of 84\n",
      "\n",
      "MACHINES AND\n",
      " ACCESSORIES\n",
      "\n",
      "Part No.    Description               Part No.     Description\n",
      "   T999/C042   Gear 74z                 T999/C102    Nut M12\n",
      "   T999/C043   Gear 37z                 T999/C103   Key 5 x 15\n",
      "   T999/C044   Shaft                    T999/C104   Key 5 x 18\n",
      "   T999/C045   Spring                   T999/C105   Key5 x 50\n",
      "   T999/C106   Key 6 x 40                T999/C131    O_Ring\n",
      "   T999/C107   Key 6 x 55                T999/C132    O_Ring\n",
      "   T999/C108   Key 6 x 120               T999/C133    O_Ring\n",
      "   T999/C109   Key 6 x 120               T999/C134    O_Ring\n",
      "   T999/C110   Key 6 x 18                T999/C135    O_Ring\n",
      "   T999/C111   Key 5 x 20                T999/C136    O_Ring\n",
      "\n",
      "T999/C120   Locking ring 50            T999/C142   Hub\n",
      "   T999/C121   Locking ring 72            T999/C143    Brass tube\n",
      "   T999/C122   Locking ring 42            T999/C14\n",
      "------------------------------------------------------------\n"
     ]
    },
    {
     "name": "stderr",
     "output_type": "stream",
     "text": [
      "Processing items (pass 2):  87%|████████▋ | 411/472 [04:10<00:19,  3.06it/s]"
     ]
    },
    {
     "name": "stdout",
     "output_type": "stream",
     "text": [
      "💾 Saved caption to final_image_captions.json for doc2_p070_diag.png\n",
      "🧠 GPT judged context for doc2_p071_diag.png as irrelevant\n",
      "⚠️ Skipping context for doc2_p071_diag.png — using image only\n",
      "\n",
      "🧾 [Page 71] Context for full-page image → doc2_p071_diag.png\n",
      "------------------------------------------------------------\n",
      "\n",
      "------------------------------------------------------------\n"
     ]
    },
    {
     "name": "stderr",
     "output_type": "stream",
     "text": [
      "Processing items (pass 2):  88%|████████▊ | 414/472 [04:12<00:22,  2.57it/s]"
     ]
    },
    {
     "name": "stdout",
     "output_type": "stream",
     "text": [
      "💾 Saved caption to final_image_captions.json for doc2_p071_diag.png\n",
      "🧠 GPT judged context for doc2_p074_diag.png as relevant\n",
      "\n",
      "🧾 [Page 74] Context for full-page image → doc2_p074_diag.png\n",
      "------------------------------------------------------------\n",
      "MACHINES AND\n",
      "                                                         ACCESSORIES\n",
      "\n",
      "\n",
      "TABLE E\n",
      "fervi.com\n",
      "\n",
      "\n",
      "\n",
      "\n",
      "\n",
      " Page 74 of 84\n",
      "\n",
      "MACHINES AND\n",
      " ACCESSORIES\n",
      "\n",
      "\n",
      "\n",
      "    Part No.    Description               Part No.     Description\n",
      "   T999/D061   Plug                     T999/D109   Screw\n",
      "   T999/D061A Plug                     T999/D110   Nut\n",
      "   T999/D067   Spring                   T999/D111   Rod support\n",
      "   T999/D068  Sphere\n",
      "fervi.com\n",
      "\n",
      "\n",
      "\n",
      "\n",
      "\n",
      "                                                                                      Page 73 of 84\n",
      "\n",
      "T999/D008  Spacer                   T999/D076   Bolt\n",
      "  T999/A009   Collar                    T999/D077   Bolt\n",
      "  T999/D010  Rack                    T999/D078   Nut\n",
      "  T999/D011  Rack                    T999/D079   Bath\n",
      "  T999/D013  Rack                    T999/D060   Screw\n",
      "  T999/D016  Main screw               T999/D081   Lid\n",
      "  T999/D019  Feed rod                 T999/D082   Left table support\n",
      "  T999/D022   Shaft                    T999/D083   Right table support\n",
      " \n",
      "------------------------------------------------------------\n"
     ]
    },
    {
     "name": "stderr",
     "output_type": "stream",
     "text": [
      "Processing items (pass 2):  90%|█████████ | 427/472 [04:15<00:14,  3.12it/s]"
     ]
    },
    {
     "name": "stdout",
     "output_type": "stream",
     "text": [
      "💾 Saved caption to final_image_captions.json for doc2_p074_diag.png\n",
      "🧠 GPT judged context for doc2_p075_diag.png as irrelevant\n",
      "⚠️ Skipping context for doc2_p075_diag.png — using image only\n",
      "\n",
      "🧾 [Page 75] Context for full-page image → doc2_p075_diag.png\n",
      "------------------------------------------------------------\n",
      "\n",
      "------------------------------------------------------------\n"
     ]
    },
    {
     "name": "stderr",
     "output_type": "stream",
     "text": [
      "Processing items (pass 2):  91%|█████████ | 430/472 [04:18<00:16,  2.57it/s]"
     ]
    },
    {
     "name": "stdout",
     "output_type": "stream",
     "text": [
      "💾 Saved caption to final_image_captions.json for doc2_p075_diag.png\n",
      "🧠 GPT judged context for doc2_p077_diag.png as relevant\n",
      "\n",
      "🧾 [Page 77] Context for full-page image → doc2_p077_diag.png\n",
      "------------------------------------------------------------\n",
      "MACHINES AND\n",
      " ACCESSORIES\n",
      "\n",
      "\n",
      " TABLE F\n",
      "fervi.com\n",
      "\n",
      "\n",
      "\n",
      "\n",
      "\n",
      "                                                                                      Page 77 of 84\n",
      "\n",
      "T999/E025     Plate                    T999/E067    Shaft gear\n",
      "  T999/E026     Plate                    T999/E069    Bearing\n",
      "  T999/E027     Plate                    T999/E070     Allen key\n",
      "  T999/E028    Screw                   T999/E071    Lever\n",
      "  T999/E029    Washer                  T999/E072    Handle\n",
      "  T999/E030     Turret base              T999/E073    Spacer\n",
      "  T999/E031    Adjustment screw         T999/E074    Key\n",
      "  T999/E032    Adjustment screw         T999/E075    Screw\n",
      "  T999/E033    Switch                  T999/E076    Keyfervi.comT999/E034    Gib                     T999/E077    Thrusting bearing\n",
      "  T999/E035    T bolts                  T999/E078    Bearing housing\n",
      "\n",
      "T999/E035    T bolts                  T999/E078    Bearing housing\n",
      "  T999/E036    Threaded lock            T999/E079    Bearing dust cover\n",
      "  T999/E037    Nut    \n",
      "------------------------------------------------------------\n"
     ]
    },
    {
     "name": "stderr",
     "output_type": "stream",
     "text": [
      "Processing items (pass 2):  93%|█████████▎| 441/472 [04:21<00:11,  2.80it/s]"
     ]
    },
    {
     "name": "stdout",
     "output_type": "stream",
     "text": [
      "💾 Saved caption to final_image_captions.json for doc2_p077_diag.png\n",
      "🧠 GPT judged context for doc2_p078_img02_411.png as irrelevant\n",
      "⚠️ Skipping context for doc2_p078_img02_411.png — using image only\n",
      "\n",
      "🧾 [Page 78] Context for full-page image → doc2_p078_img02_411.png\n",
      "------------------------------------------------------------\n",
      "\n",
      "------------------------------------------------------------\n"
     ]
    },
    {
     "name": "stderr",
     "output_type": "stream",
     "text": [
      "Processing items (pass 2):  95%|█████████▍| 448/472 [04:24<00:09,  2.61it/s]"
     ]
    },
    {
     "name": "stdout",
     "output_type": "stream",
     "text": [
      "💾 Saved caption to final_image_captions.json for doc2_p078_img02_411.png\n",
      "🧠 GPT judged context for doc2_p079_diag.png as relevant\n",
      "\n",
      "🧾 [Page 79] Context for full-page image → doc2_p079_diag.png\n",
      "------------------------------------------------------------\n",
      "MACHINES AND\n",
      " ACCESSORIES\n",
      "\n",
      "\n",
      "             TABLE G                      TABLE H\n",
      "fervi.com\n",
      "\n",
      "\n",
      "\n",
      "\n",
      "\n",
      "                                                                                      Page 79 of 84\n",
      "\n",
      "Page 78 of 84\n",
      "\n",
      "MACHINES AND\n",
      "                                                        ACCESSORIES\n",
      "\n",
      "Part No.      Description              Part No.      Description\n",
      "  T999/F001    Body                    T999/F022     Micrometer\n",
      "  T999/F002     Flange                  T999/F023     Lock\n",
      "  T999/F003    Hand wheel              T999/F026     Switch\n",
      "  T999/F004     Plate                    T999/F029    Knob\n",
      "  T999/F005    Base                    T999/F030    Knob\n",
      "  T999/F007    Sleeve                  T999/F031     Allen key\n",
      "  T999/F008    Screw                   T999/F032     Allen key\n",
      "  T999/F009    Washer                  T999/F033    Screw\n",
      "  T999/F010    Screw                   T999/F034    Screw\n",
      "\n",
      "T999/F016     Tie rod                  T999/F040    Washer\n",
      "  T999/F019     Pin                     T99\n",
      "------------------------------------------------------------\n"
     ]
    },
    {
     "name": "stderr",
     "output_type": "stream",
     "text": [
      "Processing items (pass 2):  96%|█████████▌| 451/472 [04:27<00:09,  2.25it/s]"
     ]
    },
    {
     "name": "stdout",
     "output_type": "stream",
     "text": [
      "💾 Saved caption to final_image_captions.json for doc2_p079_diag.png\n",
      "🧠 GPT judged context for doc2_p083_img02_429.png as relevant\n",
      "\n",
      "🧾 [Page 83] Context for full-page image → doc2_p083_img02_429.png\n",
      "------------------------------------------------------------\n",
      "MACHINES AND\n",
      " ACCESSORIES\n",
      "\n",
      "\n",
      "15 ELECTRIC CIRCUIT\n",
      " 15.1Art. T999/400V\n",
      "fervi.com\n",
      "\n",
      "\n",
      "\n",
      "\n",
      "\n",
      "                                                                                      Page 83 of 84\n",
      "\n",
      "MACHINES AND\n",
      "                                                         ACCESSORIES\n",
      "\n",
      "\n",
      "14 TROUBLESHOOTING\n",
      "\n",
      "  PROBLEM      PROBABLE CAUSE          SOLUTION\n",
      "                    A) Damaged bearings.          B) Contact Customer Service.\n",
      "\n",
      "                    B) Bearings not lubricated.      C) Lubricate\n",
      "   Noisy operation\n",
      "                    C) Blunt tool.                 D) Remove/sharpen the tool.\n",
      "\n",
      "D) Loose tool.                   E) Tighten the fastening lever.\n",
      "                    A) Electrical power supply.      A)  Check  the  mains  power\n",
      "                                                            supply.\n",
      "                                                  B)  Check       the       wiring\n",
      "                                                           connections.\n",
      "                                                 \n",
      "------------------------------------------------------------\n"
     ]
    },
    {
     "name": "stderr",
     "output_type": "stream",
     "text": [
      "Processing items (pass 2):  99%|█████████▉| 469/472 [04:29<00:00,  3.57it/s]"
     ]
    },
    {
     "name": "stdout",
     "output_type": "stream",
     "text": [
      "💾 Saved caption to final_image_captions.json for doc2_p083_img02_429.png\n",
      "🧠 GPT judged context for doc2_p084_img02_434.png as relevant\n",
      "\n",
      "🧾 [Page 84] Context for full-page image → doc2_p084_img02_434.png\n",
      "------------------------------------------------------------\n",
      "MACHINES AND\n",
      "                                                         ACCESSORIES\n",
      "\n",
      "\n",
      "15.2Art. T999/230V\n",
      "fervi.com\n",
      "\n",
      "\n",
      "\n",
      "\n",
      "\n",
      " Page 84 of 84\n",
      "\n",
      "MACHINES AND\n",
      " ACCESSORIES\n",
      "\n",
      "\n",
      "15 ELECTRIC CIRCUIT\n",
      " 15.1Art. T999/400V\n",
      "fervi.com\n",
      "\n",
      "\n",
      "\n",
      "\n",
      "\n",
      "                                                                                      Page 83 of 84\n",
      "\n",
      "MACHINES AND\n",
      "                                                         ACCESSORIES\n",
      "\n",
      "\n",
      "14 TROUBLESHOOTING\n",
      "\n",
      "  PROBLEM      PROBABLE CAUSE          SOLUTION\n",
      "                    A) Damaged bearings.          B) Contact Customer Service.\n",
      "\n",
      "                    B) Bearings not lubricated.      C) Lubricate\n",
      "   Noisy operation\n",
      "                    C) Blunt tool.                 D) Remove/sharpen the tool.\n",
      "\n",
      "D) Loose tool.                   E) Tighten the fastening lever.\n",
      "                    A) Electrical power supply.      A)  Check  the  mains  power\n",
      "                                                            supply.\n",
      "                                                  B)  Check       the \n",
      "------------------------------------------------------------\n"
     ]
    },
    {
     "name": "stderr",
     "output_type": "stream",
     "text": [
      "Processing items (pass 2): 100%|██████████| 472/472 [04:33<00:00,  1.73it/s]"
     ]
    },
    {
     "name": "stdout",
     "output_type": "stream",
     "text": [
      "💾 Saved caption to final_image_captions.json for doc2_p084_img02_434.png\n"
     ]
    },
    {
     "name": "stderr",
     "output_type": "stream",
     "text": [
      "\n"
     ]
    },
    {
     "name": "stdout",
     "output_type": "stream",
     "text": [
      "❌ Not a table (deleted): doc2_p001_tbl00_ocr.txt\n",
      "❌ Not a table (deleted): doc2_p002_tbl00_ocr.txt\n",
      "❌ Not a table (deleted): doc2_p003_tbl00_ocr.txt\n",
      "❌ Not a table (deleted): doc2_p004_tbl00_ocr.txt\n",
      "❌ Not a table (deleted): doc2_p005_tbl00_ocr.txt\n",
      "❌ Not a table (deleted): doc2_p006_tbl00_ocr.txt\n",
      "❌ Not a table (deleted): doc2_p007_tbl00_ocr.txt\n",
      "❌ Not a table (deleted): doc2_p007_tbl01_ocr.txt\n",
      "❌ Not a table (deleted): doc2_p007_tbl02_ocr.txt\n",
      "❌ Not a table (deleted): doc2_p008_tbl00_ocr.txt\n",
      "❌ Not a table (deleted): doc2_p008_tbl01_ocr.txt\n",
      "❌ Not a table (deleted): doc2_p011_tbl00_ocr.txt\n",
      "❌ Not a table (deleted): doc2_p012_tbl00_ocr.txt\n",
      "❌ Not a table (deleted): doc2_p013_tbl00_ocr.txt\n",
      "❌ Not a table (deleted): doc2_p014_tbl00_ocr.txt\n",
      "❌ Not a table (deleted): doc2_p015_tbl00_ocr.txt\n",
      "❌ Not a table (deleted): doc2_p016_tbl00_ocr.txt\n",
      "❌ Not a table (deleted): doc2_p017_tbl00_ocr.txt\n",
      "❌ Not a table (deleted): doc2_p018_tbl00_ocr.txt\n",
      "❌ Not a table (deleted): doc2_p019_tbl00_ocr.txt\n",
      "❌ Not a table (deleted): doc2_p020_tbl00_ocr.txt\n",
      "❌ Not a table (deleted): doc2_p021_tbl00_ocr.txt\n",
      "❌ Not a table (deleted): doc2_p022_tbl00_ocr.txt\n",
      "❌ Not a table (deleted): doc2_p024_tbl00_ocr.txt\n",
      "❌ Not a table (deleted): doc2_p025_tbl00_ocr.txt\n",
      "❌ Not a table (deleted): doc2_p026_tbl00_ocr.txt\n",
      "❌ Not a table (deleted): doc2_p027_tbl00_ocr.txt\n",
      "❌ Not a table (deleted): doc2_p028_tbl00_ocr.txt\n",
      "❌ Not a table (deleted): doc2_p029_tbl00_ocr.txt\n",
      "❌ Not a table (deleted): doc2_p030_tbl00_ocr.txt\n",
      "❌ Not a table (deleted): doc2_p030_tbl01_ocr.txt\n",
      "❌ Not a table (deleted): doc2_p032_tbl00_ocr.txt\n",
      "❌ Not a table (deleted): doc2_p033_tbl00_ocr.txt\n",
      "❌ Not a table (deleted): doc2_p033_tbl01_ocr.txt\n",
      "❌ Not a table (deleted): doc2_p035_tbl00_ocr.txt\n",
      "❌ Not a table (deleted): doc2_p036_tbl00_ocr.txt\n",
      "❌ Not a table (deleted): doc2_p037_tbl00_ocr.txt\n",
      "❌ Not a table (deleted): doc2_p039_tbl00_ocr.txt\n",
      "❌ Not a table (deleted): doc2_p040_tbl00_ocr.txt\n",
      "❌ Not a table (deleted): doc2_p042_tbl00_ocr.txt\n",
      "❌ Not a table (deleted): doc2_p043_tbl00_ocr.txt\n",
      "❌ Not a table (deleted): doc2_p044_tbl00_ocr.txt\n",
      "❌ Not a table (deleted): doc2_p045_tbl00_ocr.txt\n",
      "❌ Not a table (deleted): doc2_p049_tbl00_ocr.txt\n",
      "❌ Not a table (deleted): doc2_p050_tbl00_ocr.txt\n",
      "❌ Not a table (deleted): doc2_p052_tbl00_ocr.txt\n",
      "❌ Not a table (deleted): doc2_p053_tbl00_ocr.txt\n",
      "❌ Not a table (deleted): doc2_p054_tbl01_ocr.txt\n",
      "❌ Not a table (deleted): doc2_p055_tbl00_ocr.txt\n",
      "❌ Not a table (deleted): doc2_p056_tbl00_ocr.txt\n",
      "❌ Not a table (deleted): doc2_p057_tbl00_ocr.txt\n",
      "❌ Not a table (deleted): doc2_p058_tbl00_ocr.txt\n",
      "❌ Not a table (deleted): doc2_p061_tbl00_ocr.txt\n",
      "❌ Not a table (deleted): doc2_p062_tbl00_ocr.txt\n",
      "❌ Not a table (deleted): doc2_p065_tbl00_ocr.txt\n",
      "❌ Not a table (deleted): doc2_p066_tbl00_ocr.txt\n",
      "❌ Not a table (deleted): doc2_p067_tbl00_ocr.txt\n",
      "❌ Not a table (deleted): doc2_p070_tbl00_ocr.txt\n",
      "❌ Not a table (deleted): doc2_p071_tbl00_ocr.txt\n",
      "❌ Not a table (deleted): doc2_p074_tbl00_ocr.txt\n",
      "❌ Not a table (deleted): doc2_p075_tbl00_ocr.txt\n",
      "❌ Not a table (deleted): doc2_p077_tbl00_ocr.txt\n",
      "❌ Not a table (deleted): doc2_p079_tbl00_ocr.txt\n",
      "❌ Not a table (deleted): doc2_p083_tbl00_ocr.txt\n",
      "❌ Not a table (deleted): doc2_p084_tbl00_ocr.txt\n",
      "\n",
      "✅ Second pass complete: total items → 472\n",
      "📝 Structured .md tables added → 0\n"
     ]
    }
   ],
   "source": [
    "items_pass2 = extract_pdf_pass2(PDF_PATH, items)"
   ]
  },
  {
   "cell_type": "code",
   "execution_count": 84,
   "metadata": {},
   "outputs": [
    {
     "name": "stderr",
     "output_type": "stream",
     "text": [
      "Preparing docs + metadata: 100%|██████████| 472/472 [00:10<00:00, 44.60it/s]\n"
     ]
    }
   ],
   "source": [
    "docs, meta, ids = [], [], []\n",
    "\n",
    "# 🧾 Build a quick index of text chunks by page\n",
    "text_by_page = {\n",
    "    obj[\"page\"]: obj[\"text\"].strip()\n",
    "    for obj in items if obj[\"type\"] == \"text\" and obj[\"text\"].strip()\n",
    "}\n",
    "\n",
    "# Prepare logs for captions and skipped pages\n",
    "captioned_pages = []\n",
    "skipped_pages = []\n",
    "\n",
    "for obj in tqdm(items, desc=\"Preparing docs + metadata\"):\n",
    "    # ---------------- TEXT & SECTION ----------------\n",
    "    if obj[\"type\"] == \"text\":\n",
    "        section  = obj.get(\"section\", \"\").strip()\n",
    "        chunk    = tag_special_chunks(obj[\"text\"])\n",
    "        text_repr = f\"[SECTION] {section}\\n{chunk}\" if section else chunk\n",
    "\n",
    "        keywords = [tok.lemma_ for tok in nlp(text_repr)\n",
    "                    if tok.pos_ in {\"NOUN\",\"PROPN\"}]\n",
    "\n",
    "        docs.append(text_repr)\n",
    "        meta.append({**obj, \"keywords\": keywords})\n",
    "        ids.append(str(uuid.uuid4()))\n",
    "\n",
    "    # ---------------- TABLE  (row-level) ------------\n",
    "    elif obj[\"type\"] == \"table\":\n",
    "        rows = obj[\"text\"].splitlines()\n",
    "        if not rows:\n",
    "            continue\n",
    "\n",
    "        # Try to parse header row from first line\n",
    "        header_fields = [col.strip() for col in rows[0].split(\" | \")]\n",
    "\n",
    "        for row in rows[1:]:\n",
    "            cells = [col.strip() for col in row.split(\" | \")]\n",
    "            if not any(cells):\n",
    "                continue\n",
    "            \n",
    "            # Align columns if possible\n",
    "            if len(cells) == len(header_fields):\n",
    "                structured = \" | \".join(f\"{h}: {v}\" for h, v in zip(header_fields, cells))\n",
    "            else:\n",
    "                structured = row  # fallback to raw\n",
    "\n",
    "            text_repr = f\"[TABLE ROW] {structured}\"\n",
    "            table_letter = obj.get(\"table_letter\", \"\")\n",
    "            if table_letter:\n",
    "                text_repr = f\"[TABLE {table_letter}]\\n{text_repr}\"\n",
    "            # optional: extract keywords for filtering\n",
    "            keywords = [tok.lemma_ for tok in nlp(text_repr) if tok.pos_ in {\"NOUN\", \"PROPN\"}]\n",
    "\n",
    "            docs.append(text_repr)\n",
    "            meta.append({**obj, \"keywords\": keywords})\n",
    "            ids.append(str(uuid.uuid4()))\n",
    "\n",
    "\n",
    "    # ---------------- IMAGE & PAGE ------------------\n",
    "    # ---------------- IMAGE & PAGE ------------------\n",
    "    elif obj[\"type\"] in {\"image\", \"page\"}:\n",
    "        structured_caption = obj.get(\"structured\", obj[\"text\"])\n",
    "        if isinstance(structured_caption, dict):\n",
    "            structured_caption = json.dumps(structured_caption, indent=2)\n",
    "        text_repr = structured_caption.strip()\n",
    "      \n",
    "\n",
    "        keywords = [tok.lemma_ for tok in nlp(text_repr)\n",
    "                    if tok.pos_ in {\"NOUN\", \"PROPN\"}]\n",
    "\n",
    "        docs.append(text_repr)\n",
    "        ids.append(str(uuid.uuid4()))\n",
    "        # Get group key like \"TABLE A\" if available\n",
    "        group_key = obj.get(\"caption_title\", \"\").strip().upper()\n",
    "\n",
    "        # Find all other items in the same group\n",
    "        grouped_imgs = [\n",
    "            img for img in items\n",
    "            if img.get(\"type\") in {\"image\", \"page\"}\n",
    "            and img.get(\"caption_title\", \"\").strip().upper() == group_key\n",
    "        ]\n",
    "        grouped_tbls = [\n",
    "            tbl for tbl in items\n",
    "            if tbl.get(\"type\") == \"table\"\n",
    "            and tbl.get(\"caption_title\", \"\").strip().upper() == group_key\n",
    "        ]\n",
    "\n",
    "        section = obj.get(\"section\", \"\").strip()\n",
    "        # Prepare metadata with linked references\n",
    "        meta.append({\n",
    "            **obj,\n",
    "            \"section\": section,\n",
    "            \"keywords\": keywords,\n",
    "            \"linked_images\": [g[\"path\"] for g in grouped_imgs if g.get(\"path\")],\n",
    "            \"linked_tables\": [g[\"path\"] for g in grouped_tbls if g.get(\"path\")]\n",
    "        })\n"
   ]
  },
  {
   "cell_type": "code",
   "execution_count": 85,
   "metadata": {},
   "outputs": [
    {
     "name": "stderr",
     "output_type": "stream",
     "text": [
      "Embedding: 100%|██████████| 22/22 [00:19<00:00,  1.14it/s]\n"
     ]
    }
   ],
   "source": [
    "\n",
    "# ── embed in batches ───────────────────────────────────────────\n",
    "batch = 100\n",
    "vectors = []\n",
    "for i in tqdm(range(0, len(docs), batch), desc=\"Embedding\"):\n",
    "    vecs = embeddings.embed_documents(docs[i:i+batch])\n",
    "    vectors.extend(vecs)\n"
   ]
  },
  {
   "cell_type": "code",
   "execution_count": null,
   "metadata": {},
   "outputs": [],
   "source": [
    "def sanitize_metadata(meta_dict):\n",
    "    def is_valid(v):\n",
    "        return isinstance(v, (str, int, float, bool)) or (\n",
    "            isinstance(v, list) and all(isinstance(i, str) for i in v)\n",
    "        )\n",
    "\n",
    "    return {k: v for k, v in meta_dict.items() if is_valid(v)}\n",
    "\n",
    "to_upsert = [\n",
    "    (\n",
    "        ids[i],\n",
    "        vectors[i],\n",
    "        sanitize_metadata({**meta[i], \"text\": docs[i]})\n",
    "    )\n",
    "    for i in range(len(docs))\n",
    "]"
   ]
  },
  {
   "cell_type": "code",
   "execution_count": 72,
   "metadata": {},
   "outputs": [
    {
     "data": {
      "text/plain": [
       "{}"
      ]
     },
     "execution_count": 72,
     "metadata": {},
     "output_type": "execute_result"
    }
   ],
   "source": [
    "index.delete(delete_all=True, namespace=\"v1\")\n"
   ]
  },
  {
   "cell_type": "code",
   "execution_count": 73,
   "metadata": {},
   "outputs": [
    {
     "name": "stdout",
     "output_type": "stream",
     "text": [
      "📤  Upserting to Pinecone …\n"
     ]
    },
    {
     "name": "stderr",
     "output_type": "stream",
     "text": [
      "100%|██████████| 2190/2190 [01:10<00:00, 31.01it/s]\n"
     ]
    },
    {
     "name": "stdout",
     "output_type": "stream",
     "text": [
      "\n",
      "✅  Done!  Pinecone now holds:\n",
      "   • vectors : 2185\n",
      "   • dim      : 3072\n"
     ]
    }
   ],
   "source": [
    "pc = Pinecone(api_key=os.getenv(\"PINECONE_API_KEY\"))\n",
    "index = pc.Index(\"multimodal-manual\")          # ← already created with dim=3072\n",
    "\n",
    "def payload_size(batch):\n",
    "    return len(json.dumps(batch).encode())\n",
    "\n",
    "MAX_PAYLOAD = 3_000_000        # ≈3 MB (well under 4 MB limit)\n",
    "batch = []\n",
    "\n",
    "print(\"📤  Upserting to Pinecone …\")\n",
    "\n",
    "for tup in tqdm(to_upsert):\n",
    "    batch.append(tup)\n",
    "    if payload_size(batch) >= MAX_PAYLOAD:\n",
    "        index.upsert(batch, namespace=\"v1\")\n",
    "        batch = []\n",
    "\n",
    "# any leftovers\n",
    "if batch:\n",
    "    index.upsert(batch, namespace=\"v1\")\n",
    "\n",
    "# ------------------------------------------------------------\n",
    "# 4 · VERIFY\n",
    "# ------------------------------------------------------------\n",
    "stats = index.describe_index_stats(namespace=\"v1\")\n",
    "print(\"\\n✅  Done!  Pinecone now holds:\")\n",
    "print(f\"   • vectors : {stats['namespaces']['v1']['vector_count']}\")\n",
    "print(f\"   • dim      : {stats['dimension']}\")"
   ]
  },
  {
   "cell_type": "code",
   "execution_count": 74,
   "metadata": {},
   "outputs": [
    {
     "name": "stderr",
     "output_type": "stream",
     "text": [
      "/var/folders/qw/rynbsm9n3yvb9l_bjh7rchgh0000gn/T/ipykernel_60863/2651186619.py:24: LangChainDeprecationWarning: Please see the migration guide at: https://python.langchain.com/docs/versions/migrating_memory/\n",
      "  memory = ConversationBufferMemory(\n"
     ]
    }
   ],
   "source": [
    "from langchain_pinecone import PineconeVectorStore\n",
    "from langchain_openai import ChatOpenAI\n",
    "from langchain.chains import ConversationalRetrievalChain\n",
    "from langchain.memory import ConversationBufferMemory\n",
    "from IPython.display import display, Image\n",
    "from pathlib import Path\n",
    "\n",
    "\n",
    "# Vector store\n",
    "vectorstore = PineconeVectorStore(\n",
    "    index=index,\n",
    "    embedding=embeddings,\n",
    "    namespace=\"v1\",\n",
    "    text_key=\"text\"\n",
    ")\n",
    "\n",
    "# Retriever\n",
    "retriever = vectorstore.as_retriever(search_kwargs={\"k\": 10})\n",
    "\n",
    "# LLM\n",
    "llm = ChatOpenAI(model_name=\"gpt-4o\", temperature=0.2)\n",
    "\n",
    "# Memory\n",
    "memory = ConversationBufferMemory(\n",
    "    memory_key=\"chat_history\",\n",
    "    return_messages=True,\n",
    "    output_key=\"answer\"  # ✅ Tells memory what to store\n",
    ")\n",
    "\n",
    "# RAG Chain with output key fix\n",
    "chat_rag = ConversationalRetrievalChain.from_llm(\n",
    "    llm=llm,\n",
    "    retriever=retriever,\n",
    "    memory=memory,\n",
    "    return_source_documents=True,\n",
    "    output_key=\"answer\"\n",
    ")\n",
    "\n"
   ]
  },
  {
   "cell_type": "code",
   "execution_count": 75,
   "metadata": {},
   "outputs": [],
   "source": [
    "from collections import Counter\n",
    "\n",
    "def extract_table_keywords(meta, limit=20):\n",
    "    keyword_counts = Counter()\n",
    "\n",
    "    for m in meta:\n",
    "        if m.get(\"type\") == \"table\":\n",
    "            keyword_counts.update(m.get(\"keywords\", []))\n",
    "\n",
    "    top_keywords = [kw for kw, _ in keyword_counts.most_common(limit)]\n",
    "    return top_keywords"
   ]
  },
  {
   "cell_type": "code",
   "execution_count": 76,
   "metadata": {},
   "outputs": [],
   "source": [
    "from IPython.display import display, Image as IPImage\n",
    "\n",
    "def ask(query):\n",
    "    def is_table_query(q):\n",
    "        table_keywords = extract_table_keywords(meta)\n",
    "        return any(kw in q.lower() for kw in table_keywords)\n",
    "\n",
    "    def is_image_query(q):\n",
    "        image_keywords = [\"image\", \"picture\", \"diagram\", \"photo\", \"figure\", \"illustration\"]\n",
    "        return any(kw in q.lower() for kw in image_keywords)\n",
    "    \n",
    "    # 1. Run table-prioritized retrieval if query looks structured\n",
    "    table_mode = is_table_query(query)\n",
    "    image_mode = is_image_query(query)\n",
    "    def extract_caption_groups(q):\n",
    "        m = re.search(r\"(table|figure)\\s+([A-Z])\", q, re.I)\n",
    "        return (m.group(1).upper(), f\"{m.group(1).upper()} {m.group(2).upper()}\") if m else (None, None)\n",
    "\n",
    "    caption_type, caption_title = extract_caption_groups(query)\n",
    "    if caption_title:\n",
    "        all_docs = retriever.get_relevant_documents(query)\n",
    "\n",
    "        if caption_type == \"TABLE\":\n",
    "            matching_docs = [\n",
    "                doc for doc in all_docs\n",
    "                if caption_title in doc.metadata.get(\"caption_title\", \"\").strip().upper()\n",
    "            ]\n",
    "        elif caption_type == \"FIGURE\":\n",
    "            matching_docs = [\n",
    "                doc for doc in all_docs\n",
    "                if doc.metadata.get(\"figure_title\", \"\").strip().upper() == caption_title\n",
    "            ]\n",
    "        else:\n",
    "            matching_docs = []\n",
    "\n",
    "        # Fallback if no exact match\n",
    "        source_docs = matching_docs or all_docs[:5]\n",
    "\n",
    "    elif table_mode:\n",
    "        source_docs = retriever.get_relevant_documents(query)[:5]\n",
    "\n",
    "\n",
    "    elif image_mode:\n",
    "        all_docs = retriever.get_relevant_documents(query)\n",
    "        image_docs = [doc for doc in all_docs if doc.metadata.get(\"type\") in {\"image\", \"page\"}]\n",
    "        source_docs = image_docs[:5] if image_docs else all_docs[:5]\n",
    "    else:\n",
    "        res = chat_rag.invoke({\"question\": query})\n",
    "        source_docs = res[\"source_documents\"]\n",
    "\n",
    "\n",
    "    # 2. If not using the RAG chain (manual filtered docs), rerun LLM\n",
    "    if \"source_docs\" in locals() and isinstance(source_docs, list) and \"res\" not in locals():\n",
    "        content_blob = \"\\n\\n\".join(doc.page_content for doc in source_docs)\n",
    "        system_prompt = \"You are answering from a technical manual. Prioritize structured information when available, especially from tables.\"\n",
    "        res = llm.invoke([\n",
    "            {\"role\": \"system\", \"content\": system_prompt},\n",
    "            {\"role\": \"user\", \"content\": f\"{query}\\n\\nRelevant context:\\n{content_blob}\"}\n",
    "        ])\n",
    "        res = {\"answer\": res.content, \"source_documents\": source_docs}\n",
    "\n",
    "    # 3. Display any image or diagram found\n",
    "    top_image_path = None\n",
    "    top_image_doc  = None\n",
    "    for doc in res[\"source_documents\"]:\n",
    "        doc_type = doc.metadata.get(\"type\")\n",
    "        path     = doc.metadata.get(\"path\")\n",
    "        if doc_type in {\"image\", \"page\"} and Path(path).suffix in {\".png\", \".jpg\", \".jpeg\"}:\n",
    "            top_image_path = path\n",
    "            top_image_doc  = doc\n",
    "            break\n",
    "\n",
    "    if top_image_path:\n",
    "        print(\"\\n🖼️  You can refer to the following diagram:\")\n",
    "        print(f\"• {top_image_doc.metadata.get('type')} → {top_image_path} (page {top_image_doc.metadata.get('page')})\")\n",
    "        try:\n",
    "            display(IPImage(filename=top_image_path, width=400))\n",
    "        except Exception as e:\n",
    "            print(f\"[!] Failed to display image: {e}\")\n",
    "\n",
    "    # 4. Print response and sources\n",
    "    print(f\"\\n🧑: {query}\")\n",
    "    print(f\"🤖: {res['answer']}\")\n",
    "\n",
    "    print(\"\\n--- Sources ---\")\n",
    "    for doc in res[\"source_documents\"]:\n",
    "        print(f\"• {doc.metadata.get('type')} → {doc.metadata.get('path')} (page {doc.metadata.get('page')})\")\n"
   ]
  },
  {
   "cell_type": "code",
   "execution_count": 77,
   "metadata": {},
   "outputs": [
    {
     "name": "stderr",
     "output_type": "stream",
     "text": [
      "/var/folders/qw/rynbsm9n3yvb9l_bjh7rchgh0000gn/T/ipykernel_60863/681332150.py:21: LangChainDeprecationWarning: The method `BaseRetriever.get_relevant_documents` was deprecated in langchain-core 0.1.46 and will be removed in 1.0. Use :meth:`~invoke` instead.\n",
      "  all_docs = retriever.get_relevant_documents(query)\n"
     ]
    },
    {
     "name": "stdout",
     "output_type": "stream",
     "text": [
      "\n",
      "🖼️  You can refer to the following diagram:\n",
      "• page → data/page_images/doc2_p057_diag.png (page 57.0)\n"
     ]
    },
    {
     "data": {
      "image/png": "[encoded data removed]",
      "text/plain": [
       "<IPython.core.display.Image object>"
      ]
     },
     "metadata": {
      "image/png": {
       "width": 400
      }
     },
     "output_type": "display_data"
    },
    {
     "name": "stdout",
     "output_type": "stream",
     "text": [
      "\n",
      "🧑: explain the parts mentioned in Table A\n",
      "🤖: Based on the provided context, Table A in Section 12 of the manual is a crucial resource for identifying and assembling replacement parts for the machine. Although the specific parts listed in Table A are not visible in the segment provided, the table is designed to help users correctly identify and assemble these parts.\n",
      "\n",
      "Here is a structured explanation of how Table A might be organized, based on typical technical manuals:\n",
      "\n",
      "1. **Part Number**: Each component is assigned a unique identifier to facilitate ordering and reference.\n",
      "\n",
      "2. **Description**: A brief description of each part, detailing its function or location within the machine.\n",
      "\n",
      "3. **Quantity**: The number of each part required for a complete assembly or replacement.\n",
      "\n",
      "4. **Material**: Information about the material composition of the part, which can be critical for understanding durability and compatibility.\n",
      "\n",
      "5. **Illustration Reference**: A reference to the corresponding illustration (such as Table F or Table D) where the part is visually represented in an exploded view, aiding in the identification and assembly process.\n",
      "\n",
      "6. **Assembly Instructions**: Specific notes or instructions related to the assembly or installation of the part, if applicable.\n",
      "\n",
      "For precise details, users should refer directly to Table A in Section 12 of the manual, which will provide the exact information needed for each replacement part.\n",
      "\n",
      "--- Sources ---\n",
      "• page → data/page_images/doc2_p057_diag.png (page 57.0)\n",
      "• table → data/tables/doc2_p013_tbl00_ocr.txt (page 13.0)\n",
      "• page → data/page_images/doc2_p077_diag.png (page 77.0)\n",
      "• page → data/page_images/doc2_p070_diag.png (page 70.0)\n",
      "• page → data/page_images/doc2_p079_diag.png (page 79.0)\n"
     ]
    }
   ],
   "source": [
    "ask(\"explain the parts mentioned in Table A\")"
   ]
  },
  {
   "cell_type": "code",
   "execution_count": 79,
   "metadata": {},
   "outputs": [
    {
     "name": "stdout",
     "output_type": "stream",
     "text": [
      "\n",
      "🧑: What is the motor power for T999/230V?\n",
      "🤖: The motor power for the T999/230V is 1500 W.\n",
      "\n",
      "--- Sources ---\n",
      "• table → data/tables/doc2_p010_tbl00.txt (page 10.0)\n",
      "• table → data/tables/doc2_p010_tbl00.txt (page 10.0)\n",
      "• table → data/tables/doc2_p010_tbl00.txt (page 10.0)\n",
      "• text → data/text/doc2_p010_txt00.txt (page 10.0)\n",
      "• table → data/tables/doc2_p010_tbl00.txt (page 10.0)\n"
     ]
    }
   ],
   "source": [
    "ask(\"What is the motor power for T999/230V?\")"
   ]
  }
 ],
 "metadata": {
  "kernelspec": {
   "display_name": "Python 3",
   "language": "python",
   "name": "python3"
  },
  "language_info": {
   "codemirror_mode": {
    "name": "ipython",
    "version": 3
   },
   "file_extension": ".py",
   "mimetype": "text/x-python",
   "name": "python",
   "nbconvert_exporter": "python",
   "pygments_lexer": "ipython3",
   "version": "3.13.2"
  }
 },
 "nbformat": 4,
 "nbformat_minor": 2
}
